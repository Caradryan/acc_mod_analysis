{
 "cells": [
  {
   "cell_type": "code",
   "execution_count": 1,
   "metadata": {
    "ExecuteTime": {
     "end_time": "2018-10-08T07:10:04.006229Z",
     "start_time": "2018-10-08T07:10:03.637967Z"
    }
   },
   "outputs": [],
   "source": [
    "import numpy as np\n",
    "import matplotlib.pyplot as plt\n",
    "import Gadget_pack.units as unt\n",
    "import pandas as pd"
   ]
  },
  {
   "cell_type": "code",
   "execution_count": 2,
   "metadata": {
    "ExecuteTime": {
     "end_time": "2018-10-08T07:10:04.017317Z",
     "start_time": "2018-10-08T07:10:04.007820Z"
    }
   },
   "outputs": [],
   "source": [
    "acc_data = !ls ../acc_duomenys/\n",
    "acc_data=acc_data[1:]\n",
    "acc_data;"
   ]
  },
  {
   "cell_type": "code",
   "execution_count": 3,
   "metadata": {
    "ExecuteTime": {
     "end_time": "2018-10-08T07:10:04.110634Z",
     "start_time": "2018-10-08T07:10:04.020774Z"
    }
   },
   "outputs": [
    {
     "name": "stdout",
     "output_type": "stream",
     "text": [
      "fulldata[0,:] = time_list # codeunits\n",
      "fulldata[1,:] = mtot # g\n",
      "fulldata[2,:] = dm_dt # g/s\n",
      "fulldata[3,:] = Etot # erg\n",
      "fulldata[4,:] = Ld # erg/s\n",
      "fulldata[5,:] = Ld/Le # Eddingtons units\n"
     ]
    }
   ],
   "source": [
    "f = open('../acc_duomenys/acc_data_help.txt','r')\n",
    "for line in f:\n",
    "    print(line.strip())\n",
    "f.close()"
   ]
  },
  {
   "cell_type": "code",
   "execution_count": 4,
   "metadata": {
    "ExecuteTime": {
     "end_time": "2018-10-08T07:10:04.192763Z",
     "start_time": "2018-10-08T07:10:04.112476Z"
    }
   },
   "outputs": [],
   "source": [
    "#laikas istikro kazkodel sekundem o ne kodo vienetais\n",
    "t = np.loadtxt(\"../acc_duomenys/\" + acc_data[0])[0,:]\n",
    "t / unt.yr_in_s;# * unt.UnitTime_in_s / unt.yr_in_s\n",
    "t = np.array(t)"
   ]
  },
  {
   "cell_type": "code",
   "execution_count": 5,
   "metadata": {
    "ExecuteTime": {
     "end_time": "2018-10-08T07:10:04.274575Z",
     "start_time": "2018-10-08T07:10:04.194594Z"
    }
   },
   "outputs": [],
   "source": [
    "\n",
    "def get_total_mass(acc_data):\n",
    "    mtot = np.zeros(len(acc_data))\n",
    "    for i in range(len(acc_data)):\n",
    "        m = np.loadtxt(\"../acc_duomenys/\"+acc_data[i])\n",
    "        mtot[i] = m[1,-1]\n",
    "    return mtot\n",
    "    "
   ]
  },
  {
   "cell_type": "code",
   "execution_count": 6,
   "metadata": {
    "ExecuteTime": {
     "end_time": "2018-10-08T07:10:04.394897Z",
     "start_time": "2018-10-08T07:10:04.276276Z"
    }
   },
   "outputs": [],
   "source": [
    "mt = get_total_mass(acc_data)\n",
    "#mtang = mt.copy().reshape(12,4)\n",
    "angle = np.arange(0,181,15)\n",
    "#anglesn = (np.ones(4)[np.newaxis,:]*angle[angle!=165, np.newaxis]).T"
   ]
  },
  {
   "cell_type": "code",
   "execution_count": 7,
   "metadata": {
    "ExecuteTime": {
     "end_time": "2018-10-08T07:10:04.457977Z",
     "start_time": "2018-10-08T07:10:04.398383Z"
    }
   },
   "outputs": [],
   "source": [
    "mtang = np.load(\"total_acc_mass.npy\")"
   ]
  },
  {
   "cell_type": "code",
   "execution_count": 8,
   "metadata": {
    "ExecuteTime": {
     "end_time": "2018-10-08T07:10:05.245438Z",
     "start_time": "2018-10-08T07:10:04.459708Z"
    }
   },
   "outputs": [
    {
     "data": {
      "text/plain": [
       "<matplotlib.lines.Line2D at 0x7f4443f13be0>"
      ]
     },
     "execution_count": 8,
     "metadata": {},
     "output_type": "execute_result"
    },
    {
     "data": {
      "image/png": "[encoded data removed]",
      "text/plain": [
       "<Figure size 432x288 with 1 Axes>"
      ]
     },
     "metadata": {
      "needs_background": "light"
     },
     "output_type": "display_data"
    }
   ],
   "source": [
    "A = mtang.std(axis=1, ddof=1)\n",
    "B = mtang.mean(axis=1)\n",
    "plt.errorbar(angle[angle!=165], B / unt.M_s, yerr=A / unt.M_s, color='k',\\\n",
    "             linestyle='--',capsize=3)\n",
    "plt.yscale('log')\n",
    "#plt.plot(anglesn, mtang / unt.M_s)\n",
    "plt.ylim(0.5e-1, 2e4)\n",
    "\n",
    "MAX = mtang.max(axis=1)\n",
    "MIN = mtang.min(axis=1)\n",
    "plt.fill_between(angle[angle!=165], MIN / unt.M_s, MAX / unt.M_s, alpha=0.3)\n",
    "plt.axhline(y=4, linestyle='--',color='r')\n",
    "#plt.xlim(r'$\\gamma$')\n",
    "#plt.ylim(r'M$_s$')"
   ]
  },
  {
   "cell_type": "code",
   "execution_count": 9,
   "metadata": {
    "ExecuteTime": {
     "end_time": "2018-10-08T07:10:05.267404Z",
     "start_time": "2018-10-08T07:10:05.247089Z"
    }
   },
   "outputs": [
    {
     "data": {
      "text/html": [
       "<div>\n",
       "<style scoped>\n",
       "    .dataframe tbody tr th:only-of-type {\n",
       "        vertical-align: middle;\n",
       "    }\n",
       "\n",
       "    .dataframe tbody tr th {\n",
       "        vertical-align: top;\n",
       "    }\n",
       "\n",
       "    .dataframe thead th {\n",
       "        text-align: right;\n",
       "    }\n",
       "</style>\n",
       "<table border=\"1\" class=\"dataframe\">\n",
       "  <thead>\n",
       "    <tr style=\"text-align: right;\">\n",
       "      <th></th>\n",
       "      <th>0</th>\n",
       "      <th>1</th>\n",
       "      <th>2</th>\n",
       "      <th>3</th>\n",
       "    </tr>\n",
       "  </thead>\n",
       "  <tbody>\n",
       "    <tr>\n",
       "      <th>0</th>\n",
       "      <td>1.117025e+33</td>\n",
       "      <td>4.103706e+33</td>\n",
       "      <td>2.870526e+33</td>\n",
       "      <td>5.384224e+33</td>\n",
       "    </tr>\n",
       "    <tr>\n",
       "      <th>15</th>\n",
       "      <td>2.220646e+27</td>\n",
       "      <td>3.507802e+33</td>\n",
       "      <td>1.358091e+33</td>\n",
       "      <td>2.156078e+33</td>\n",
       "    </tr>\n",
       "    <tr>\n",
       "      <th>30</th>\n",
       "      <td>7.987852e+32</td>\n",
       "      <td>5.355981e+33</td>\n",
       "      <td>5.309040e+33</td>\n",
       "      <td>7.769035e+33</td>\n",
       "    </tr>\n",
       "    <tr>\n",
       "      <th>45</th>\n",
       "      <td>2.280192e+33</td>\n",
       "      <td>2.247411e+34</td>\n",
       "      <td>1.078754e+34</td>\n",
       "      <td>8.334707e+33</td>\n",
       "    </tr>\n",
       "    <tr>\n",
       "      <th>60</th>\n",
       "      <td>8.860598e+33</td>\n",
       "      <td>9.792246e+33</td>\n",
       "      <td>1.954511e+34</td>\n",
       "      <td>9.972449e+33</td>\n",
       "    </tr>\n",
       "    <tr>\n",
       "      <th>75</th>\n",
       "      <td>3.046671e+34</td>\n",
       "      <td>5.958845e+34</td>\n",
       "      <td>3.416147e+34</td>\n",
       "      <td>2.663709e+34</td>\n",
       "    </tr>\n",
       "    <tr>\n",
       "      <th>90</th>\n",
       "      <td>3.377246e+35</td>\n",
       "      <td>8.654457e+34</td>\n",
       "      <td>1.370994e+35</td>\n",
       "      <td>6.592143e+34</td>\n",
       "    </tr>\n",
       "    <tr>\n",
       "      <th>105</th>\n",
       "      <td>4.133727e+35</td>\n",
       "      <td>4.874466e+35</td>\n",
       "      <td>3.647428e+35</td>\n",
       "      <td>2.156092e+35</td>\n",
       "    </tr>\n",
       "    <tr>\n",
       "      <th>120</th>\n",
       "      <td>1.087150e+36</td>\n",
       "      <td>1.065461e+36</td>\n",
       "      <td>1.558993e+36</td>\n",
       "      <td>1.106081e+36</td>\n",
       "    </tr>\n",
       "    <tr>\n",
       "      <th>135</th>\n",
       "      <td>1.459556e+36</td>\n",
       "      <td>1.398241e+36</td>\n",
       "      <td>1.401003e+36</td>\n",
       "      <td>9.051502e+35</td>\n",
       "    </tr>\n",
       "    <tr>\n",
       "      <th>150</th>\n",
       "      <td>1.594373e+36</td>\n",
       "      <td>2.368896e+36</td>\n",
       "      <td>1.283713e+36</td>\n",
       "      <td>1.752264e+36</td>\n",
       "    </tr>\n",
       "    <tr>\n",
       "      <th>180</th>\n",
       "      <td>2.122169e+37</td>\n",
       "      <td>1.149246e+37</td>\n",
       "      <td>1.246808e+37</td>\n",
       "      <td>1.533128e+37</td>\n",
       "    </tr>\n",
       "  </tbody>\n",
       "</table>\n",
       "</div>"
      ],
      "text/plain": [
       "                0             1             2             3\n",
       "0    1.117025e+33  4.103706e+33  2.870526e+33  5.384224e+33\n",
       "15   2.220646e+27  3.507802e+33  1.358091e+33  2.156078e+33\n",
       "30   7.987852e+32  5.355981e+33  5.309040e+33  7.769035e+33\n",
       "45   2.280192e+33  2.247411e+34  1.078754e+34  8.334707e+33\n",
       "60   8.860598e+33  9.792246e+33  1.954511e+34  9.972449e+33\n",
       "75   3.046671e+34  5.958845e+34  3.416147e+34  2.663709e+34\n",
       "90   3.377246e+35  8.654457e+34  1.370994e+35  6.592143e+34\n",
       "105  4.133727e+35  4.874466e+35  3.647428e+35  2.156092e+35\n",
       "120  1.087150e+36  1.065461e+36  1.558993e+36  1.106081e+36\n",
       "135  1.459556e+36  1.398241e+36  1.401003e+36  9.051502e+35\n",
       "150  1.594373e+36  2.368896e+36  1.283713e+36  1.752264e+36\n",
       "180  2.122169e+37  1.149246e+37  1.246808e+37  1.533128e+37"
      ]
     },
     "execution_count": 9,
     "metadata": {},
     "output_type": "execute_result"
    }
   ],
   "source": [
    "data = pd.DataFrame(mtang, index=angle[angle!=165])\n",
    "data"
   ]
  },
  {
   "cell_type": "code",
   "execution_count": 10,
   "metadata": {
    "ExecuteTime": {
     "end_time": "2018-10-08T07:10:05.462051Z",
     "start_time": "2018-10-08T07:10:05.271194Z"
    }
   },
   "outputs": [
    {
     "data": {
      "text/plain": [
       "<matplotlib.collections.PathCollection at 0x7f44439aae48>"
      ]
     },
     "execution_count": 10,
     "metadata": {},
     "output_type": "execute_result"
    },
    {
     "data": {
      "image/png": "[encoded data removed]",
      "text/plain": [
       "<Figure size 432x288 with 1 Axes>"
      ]
     },
     "metadata": {
      "needs_background": "light"
     },
     "output_type": "display_data"
    }
   ],
   "source": [
    "plt.scatter((np.ones(4)[:,np.newaxis]*angle[angle!=165]).T, np.log(mtang))\n"
   ]
  },
  {
   "cell_type": "code",
   "execution_count": 11,
   "metadata": {
    "ExecuteTime": {
     "end_time": "2018-10-08T07:10:05.473225Z",
     "start_time": "2018-10-08T07:10:05.463623Z"
    }
   },
   "outputs": [
    {
     "data": {
      "text/plain": [
       "array([[  0.,   0.,   0.,   0.],\n",
       "       [ 15.,  15.,  15.,  15.],\n",
       "       [ 30.,  30.,  30.,  30.],\n",
       "       [ 45.,  45.,  45.,  45.],\n",
       "       [ 60.,  60.,  60.,  60.],\n",
       "       [ 75.,  75.,  75.,  75.],\n",
       "       [ 90.,  90.,  90.,  90.],\n",
       "       [105., 105., 105., 105.],\n",
       "       [120., 120., 120., 120.],\n",
       "       [135., 135., 135., 135.],\n",
       "       [150., 150., 150., 150.],\n",
       "       [180., 180., 180., 180.]])"
      ]
     },
     "execution_count": 11,
     "metadata": {},
     "output_type": "execute_result"
    }
   ],
   "source": [
    "y_new =  mt.copy()\n",
    "y_new\n",
    "x_new = angle[angle!=165]\n",
    "p = (x_new*np.ones(4)[:,np.newaxis]).T\n",
    "p"
   ]
  },
  {
   "cell_type": "code",
   "execution_count": 12,
   "metadata": {
    "ExecuteTime": {
     "end_time": "2018-10-08T07:10:05.566213Z",
     "start_time": "2018-10-08T07:10:05.476682Z"
    }
   },
   "outputs": [
    {
     "name": "stdout",
     "output_type": "stream",
     "text": [
      "(48,)\n",
      "(48,)\n",
      "(48,)\n"
     ]
    }
   ],
   "source": [
    "x_new = p.reshape(len(y_new))\n",
    "y_new = np.log(y_new)\n",
    "\n",
    "print(x_new.shape)\n",
    "print(y_new.shape)\n",
    "paklaida = (mtang.std(axis=1)*np.ones(4)[:,np.newaxis]).T.reshape(np.size(mtang))\n",
    "print(paklaida.shape)\n",
    "#plt.scatter(x_new, np.log(y_new))\n",
    "x_new = x_new[8:]\n",
    "y_new = y_new[8:]\n",
    "paklaida = paklaida[8:]"
   ]
  },
  {
   "cell_type": "code",
   "execution_count": null,
   "metadata": {},
   "outputs": [],
   "source": []
  },
  {
   "cell_type": "code",
   "execution_count": null,
   "metadata": {},
   "outputs": [],
   "source": []
  },
  {
   "cell_type": "code",
   "execution_count": 13,
   "metadata": {
    "ExecuteTime": {
     "end_time": "2018-10-08T07:10:05.812348Z",
     "start_time": "2018-10-08T07:10:05.567664Z"
    }
   },
   "outputs": [
    {
     "name": "stdout",
     "output_type": "stream",
     "text": [
      "(40, 2)\n",
      "(40, 40)\n"
     ]
    },
    {
     "data": {
      "text/plain": [
       "<matplotlib.collections.PathCollection at 0x7f4443913668>"
      ]
     },
     "execution_count": 13,
     "metadata": {},
     "output_type": "execute_result"
    },
    {
     "data": {
      "image/png": "[encoded data removed]",
      "text/plain": [
       "<Figure size 432x288 with 1 Axes>"
      ]
     },
     "metadata": {
      "needs_background": "light"
     },
     "output_type": "display_data"
    }
   ],
   "source": [
    "A = np.vstack((np.ones_like(x_new), x_new)).T\n",
    "C = (paklaida * paklaida)*np.eye(len(paklaida), len(paklaida))\n",
    "print(A.shape)\n",
    "print(C.shape)\n",
    "\n",
    "cov = np.linalg.inv(np.dot(A.T, np.linalg.solve(C, A)))\n",
    "b_ls, m_ls = np.dot(cov, np.dot(A.T, np.linalg.solve(C, y_new)))\n",
    "\n",
    "\n",
    "xs = np.linspace(0,180,100)\n",
    "ys = m_ls*xs + b_ls\n",
    "plt.scatter(x_new, y_new)\n",
    "plt.scatter(xs, ys)"
   ]
  },
  {
   "cell_type": "code",
   "execution_count": 14,
   "metadata": {
    "ExecuteTime": {
     "end_time": "2018-10-08T07:10:05.817273Z",
     "start_time": "2018-10-08T07:10:05.813884Z"
    }
   },
   "outputs": [],
   "source": [
    "def lnlike(theta, x, y, yerr):\n",
    "    m, b, lnf = theta\n",
    "    model = m * x + b\n",
    "    inv_sigma2 = 1.0/(yerr**2 + model**2*np.exp(2*lnf))\n",
    "    return -0.5*(np.sum((y-model)**2*inv_sigma2 - np.log(inv_sigma2)))"
   ]
  },
  {
   "cell_type": "code",
   "execution_count": 15,
   "metadata": {
    "ExecuteTime": {
     "end_time": "2018-10-08T07:10:05.967155Z",
     "start_time": "2018-10-08T07:10:05.818861Z"
    }
   },
   "outputs": [],
   "source": [
    "import scipy.optimize as op\n",
    "f_true = 0.5\n",
    "nll = lambda *args: -lnlike(*args)\n",
    "result = op.minimize(nll, [m_ls, b_ls, np.log(f_true)], args=(x_new, y_new, paklaida))\n",
    "m_ml, b_ml, lnf_ml = result[\"x\"]"
   ]
  },
  {
   "cell_type": "code",
   "execution_count": 16,
   "metadata": {
    "ExecuteTime": {
     "end_time": "2018-10-08T07:10:06.110450Z",
     "start_time": "2018-10-08T07:10:05.968824Z"
    }
   },
   "outputs": [
    {
     "data": {
      "text/plain": [
       "<matplotlib.collections.PathCollection at 0x7f44428d6e10>"
      ]
     },
     "execution_count": 16,
     "metadata": {},
     "output_type": "execute_result"
    },
    {
     "data": {
      "image/png": "[encoded data removed]",
      "text/plain": [
       "<Figure size 432x288 with 1 Axes>"
      ]
     },
     "metadata": {
      "needs_background": "light"
     },
     "output_type": "display_data"
    }
   ],
   "source": [
    "xs = np.linspace(0,180,100)\n",
    "ys = m_ml*xs + b_ml\n",
    "plt.scatter(x_new, y_new)\n",
    "plt.scatter(xs, ys)"
   ]
  },
  {
   "cell_type": "code",
   "execution_count": 17,
   "metadata": {
    "ExecuteTime": {
     "end_time": "2018-10-08T07:10:06.117111Z",
     "start_time": "2018-10-08T07:10:06.112167Z"
    }
   },
   "outputs": [],
   "source": [
    "def lnprior(theta):\n",
    "    m, b, lnf = theta\n",
    "    if -5.0 < m < 0.5 and 0.0 < b < 10.0 and -10.0 < lnf < 1.0:\n",
    "        return 0.0\n",
    "    return -np.inf"
   ]
  },
  {
   "cell_type": "code",
   "execution_count": 18,
   "metadata": {
    "ExecuteTime": {
     "end_time": "2018-10-08T07:10:06.189647Z",
     "start_time": "2018-10-08T07:10:06.118680Z"
    }
   },
   "outputs": [],
   "source": [
    "def lnprob(theta, x, y, yerr):\n",
    "    lp = lnprior(theta)\n",
    "    if not np.isfinite(lp):\n",
    "        return -np.inf\n",
    "    return lp + lnlike(theta, x, y, yerr)"
   ]
  },
  {
   "cell_type": "code",
   "execution_count": 19,
   "metadata": {
    "ExecuteTime": {
     "end_time": "2018-10-08T07:10:06.265850Z",
     "start_time": "2018-10-08T07:10:06.191556Z"
    }
   },
   "outputs": [],
   "source": [
    "ndim, nwalkers = 3, 100\n",
    "pos = [result[\"x\"] + 1e-4*np.random.randn(ndim) for i in range(nwalkers)]"
   ]
  },
  {
   "cell_type": "code",
   "execution_count": 20,
   "metadata": {
    "ExecuteTime": {
     "end_time": "2018-10-08T07:10:06.359780Z",
     "start_time": "2018-10-08T07:10:06.267940Z"
    }
   },
   "outputs": [],
   "source": [
    "import emcee\n",
    "sampler = emcee.EnsembleSampler(nwalkers, ndim, lnprob, args=(x_new, y_new, paklaida))"
   ]
  },
  {
   "cell_type": "code",
   "execution_count": 21,
   "metadata": {
    "ExecuteTime": {
     "end_time": "2018-10-08T07:10:06.919940Z",
     "start_time": "2018-10-08T07:10:06.361948Z"
    }
   },
   "outputs": [
    {
     "name": "stderr",
     "output_type": "stream",
     "text": [
      "/home/s_matas/anaconda3/lib/python3.6/site-packages/emcee/ensemble.py:335: RuntimeWarning: invalid value encountered in subtract\n",
      "  lnpdiff = (self.dim - 1.) * np.log(zz) + newlnprob - lnprob0\n",
      "/home/s_matas/anaconda3/lib/python3.6/site-packages/emcee/ensemble.py:336: RuntimeWarning: invalid value encountered in greater\n",
      "  accept = (lnpdiff > np.log(self._random.rand(len(lnpdiff))))\n"
     ]
    },
    {
     "data": {
      "text/plain": [
       "(array([[ 4.19585989e-02,  7.60216769e+01, -6.93048489e-01],\n",
       "        [ 4.19218930e-02,  7.60218559e+01, -6.92992822e-01],\n",
       "        [ 4.18678123e-02,  7.60219348e+01, -6.93206536e-01],\n",
       "        [ 4.20821764e-02,  7.60217493e+01, -6.93265165e-01],\n",
       "        [ 4.20867482e-02,  7.60218086e+01, -6.93175799e-01],\n",
       "        [ 4.17411611e-02,  7.60218135e+01, -6.93155745e-01],\n",
       "        [ 4.18568872e-02,  7.60219864e+01, -6.93254005e-01],\n",
       "        [ 4.18589738e-02,  7.60217307e+01, -6.93246768e-01],\n",
       "        [ 4.18325247e-02,  7.60217169e+01, -6.93244659e-01],\n",
       "        [ 4.18407709e-02,  7.60217832e+01, -6.93084110e-01],\n",
       "        [ 4.18348667e-02,  7.60218263e+01, -6.93039699e-01],\n",
       "        [ 4.19847946e-02,  7.60217639e+01, -6.93281387e-01],\n",
       "        [ 4.18627598e-02,  7.60215856e+01, -6.93334138e-01],\n",
       "        [ 4.17847314e-02,  7.60217725e+01, -6.93295128e-01],\n",
       "        [ 4.19211020e-02,  7.60218236e+01, -6.93092682e-01],\n",
       "        [ 4.20261068e-02,  7.60217015e+01, -6.93204035e-01],\n",
       "        [ 4.17204213e-02,  7.60217624e+01, -6.93066786e-01],\n",
       "        [ 4.19125960e-02,  7.60218495e+01, -6.93198253e-01],\n",
       "        [ 4.17268828e-02,  7.60217602e+01, -6.93119811e-01],\n",
       "        [ 4.18640989e-02,  7.60219168e+01, -6.93204418e-01],\n",
       "        [ 4.19177377e-02,  7.60217203e+01, -6.93018777e-01],\n",
       "        [ 4.18255608e-02,  7.60220250e+01, -6.93111083e-01],\n",
       "        [ 4.19064115e-02,  7.60218017e+01, -6.93127529e-01],\n",
       "        [ 4.19619340e-02,  7.60217727e+01, -6.93192468e-01],\n",
       "        [ 4.19014018e-02,  7.60216342e+01, -6.93091308e-01],\n",
       "        [ 4.19185681e-02,  7.60217607e+01, -6.92958723e-01],\n",
       "        [ 4.19590142e-02,  7.60218365e+01, -6.93086233e-01],\n",
       "        [ 4.18443972e-02,  7.60217259e+01, -6.93039435e-01],\n",
       "        [ 4.18567206e-02,  7.60217954e+01, -6.93081001e-01],\n",
       "        [ 4.20598340e-02,  7.60218094e+01, -6.93101090e-01],\n",
       "        [ 4.19878701e-02,  7.60217810e+01, -6.93241641e-01],\n",
       "        [ 4.18914833e-02,  7.60216331e+01, -6.92988752e-01],\n",
       "        [ 4.19436827e-02,  7.60218304e+01, -6.93126186e-01],\n",
       "        [ 4.18629515e-02,  7.60217025e+01, -6.93169535e-01],\n",
       "        [ 4.18909430e-02,  7.60218376e+01, -6.93192463e-01],\n",
       "        [ 4.20311537e-02,  7.60217849e+01, -6.93203963e-01],\n",
       "        [ 4.19148237e-02,  7.60216137e+01, -6.93147006e-01],\n",
       "        [ 4.19196474e-02,  7.60218588e+01, -6.92956917e-01],\n",
       "        [ 4.18418078e-02,  7.60216700e+01, -6.93141392e-01],\n",
       "        [ 4.19534777e-02,  7.60217858e+01, -6.93132352e-01],\n",
       "        [ 4.20045764e-02,  7.60217872e+01, -6.93220146e-01],\n",
       "        [ 4.20038382e-02,  7.60217305e+01, -6.93095794e-01],\n",
       "        [ 4.20155462e-02,  7.60217542e+01, -6.93152708e-01],\n",
       "        [ 4.17399079e-02,  7.60216531e+01, -6.93245069e-01],\n",
       "        [ 4.18063013e-02,  7.60218228e+01, -6.93045362e-01],\n",
       "        [ 4.20551157e-02,  7.60216996e+01, -6.93082965e-01],\n",
       "        [ 4.18847694e-02,  7.60216523e+01, -6.93216916e-01],\n",
       "        [ 4.20028498e-02,  7.60218045e+01, -6.93156254e-01],\n",
       "        [ 4.18373011e-02,  7.60216786e+01, -6.93137524e-01],\n",
       "        [ 4.19905584e-02,  7.60217410e+01, -6.93131346e-01],\n",
       "        [ 4.19188933e-02,  7.60218563e+01, -6.93076850e-01],\n",
       "        [ 4.18592555e-02,  7.60217681e+01, -6.93155024e-01],\n",
       "        [ 4.20404274e-02,  7.60217301e+01, -6.92963195e-01],\n",
       "        [ 4.18000126e-02,  7.60214341e+01, -6.93064135e-01],\n",
       "        [ 4.19771934e-02,  7.60218755e+01, -6.93116314e-01],\n",
       "        [ 4.18411064e-02,  7.60217274e+01, -6.93283477e-01],\n",
       "        [ 4.19452680e-02,  7.60217988e+01, -6.93124757e-01],\n",
       "        [ 4.20122976e-02,  7.60217557e+01, -6.93052346e-01],\n",
       "        [ 4.20874357e-02,  7.60216720e+01, -6.93121712e-01],\n",
       "        [ 4.20783287e-02,  7.60216618e+01, -6.93131643e-01],\n",
       "        [ 4.17935896e-02,  7.60216981e+01, -6.93168860e-01],\n",
       "        [ 4.17789798e-02,  7.60217355e+01, -6.93144693e-01],\n",
       "        [ 4.19192325e-02,  7.60217389e+01, -6.93218048e-01],\n",
       "        [ 4.20026908e-02,  7.60217056e+01, -6.93057535e-01],\n",
       "        [ 4.19382841e-02,  7.60217319e+01, -6.93156246e-01],\n",
       "        [ 4.17384937e-02,  7.60217174e+01, -6.93308705e-01],\n",
       "        [ 4.20280493e-02,  7.60216747e+01, -6.93036244e-01],\n",
       "        [ 4.18934452e-02,  7.60219173e+01, -6.93201130e-01],\n",
       "        [ 4.19727644e-02,  7.60217802e+01, -6.92985139e-01],\n",
       "        [ 4.20288206e-02,  7.60217393e+01, -6.92949431e-01],\n",
       "        [ 4.18875619e-02,  7.60218187e+01, -6.93285577e-01],\n",
       "        [ 4.18712649e-02,  7.60218386e+01, -6.93114626e-01],\n",
       "        [ 4.20981379e-02,  7.60218756e+01, -6.93164140e-01],\n",
       "        [ 4.18858105e-02,  7.60217612e+01, -6.93094704e-01],\n",
       "        [ 4.18125712e-02,  7.60217940e+01, -6.93349095e-01],\n",
       "        [ 4.19360807e-02,  7.60217696e+01, -6.93111604e-01],\n",
       "        [ 4.19264842e-02,  7.60216409e+01, -6.93130874e-01],\n",
       "        [ 4.19394020e-02,  7.60217415e+01, -6.93088426e-01],\n",
       "        [ 4.19371635e-02,  7.60217804e+01, -6.93286415e-01],\n",
       "        [ 4.19845434e-02,  7.60217745e+01, -6.93064965e-01],\n",
       "        [ 4.18595553e-02,  7.60218381e+01, -6.93176970e-01],\n",
       "        [ 4.18268793e-02,  7.60217100e+01, -6.93170470e-01],\n",
       "        [ 4.18557366e-02,  7.60218813e+01, -6.92986105e-01],\n",
       "        [ 4.20603049e-02,  7.60217822e+01, -6.93215738e-01],\n",
       "        [ 4.17940229e-02,  7.60217513e+01, -6.93170897e-01],\n",
       "        [ 4.16966866e-02,  7.60218152e+01, -6.93350034e-01],\n",
       "        [ 4.19615208e-02,  7.60215606e+01, -6.93019754e-01],\n",
       "        [ 4.19400033e-02,  7.60216575e+01, -6.93084793e-01],\n",
       "        [ 4.18273945e-02,  7.60217760e+01, -6.93121083e-01],\n",
       "        [ 4.18788457e-02,  7.60218454e+01, -6.93263412e-01],\n",
       "        [ 4.19991393e-02,  7.60216485e+01, -6.93009582e-01],\n",
       "        [ 4.18147622e-02,  7.60217581e+01, -6.93017182e-01],\n",
       "        [ 4.20513178e-02,  7.60217382e+01, -6.93109819e-01],\n",
       "        [ 4.19496918e-02,  7.60216547e+01, -6.93146636e-01],\n",
       "        [ 4.19551976e-02,  7.60216924e+01, -6.93019662e-01],\n",
       "        [ 4.18930211e-02,  7.60217587e+01, -6.93149527e-01],\n",
       "        [ 4.18734879e-02,  7.60217705e+01, -6.92965935e-01],\n",
       "        [ 4.18795667e-02,  7.60216736e+01, -6.93094881e-01],\n",
       "        [ 4.18930834e-02,  7.60217149e+01, -6.93092452e-01],\n",
       "        [ 4.18544752e-02,  7.60218505e+01, -6.93045514e-01]]),\n",
       " array([-inf, -inf, -inf, -inf, -inf, -inf, -inf, -inf, -inf, -inf, -inf,\n",
       "        -inf, -inf, -inf, -inf, -inf, -inf, -inf, -inf, -inf, -inf, -inf,\n",
       "        -inf, -inf, -inf, -inf, -inf, -inf, -inf, -inf, -inf, -inf, -inf,\n",
       "        -inf, -inf, -inf, -inf, -inf, -inf, -inf, -inf, -inf, -inf, -inf,\n",
       "        -inf, -inf, -inf, -inf, -inf, -inf, -inf, -inf, -inf, -inf, -inf,\n",
       "        -inf, -inf, -inf, -inf, -inf, -inf, -inf, -inf, -inf, -inf, -inf,\n",
       "        -inf, -inf, -inf, -inf, -inf, -inf, -inf, -inf, -inf, -inf, -inf,\n",
       "        -inf, -inf, -inf, -inf, -inf, -inf, -inf, -inf, -inf, -inf, -inf,\n",
       "        -inf, -inf, -inf, -inf, -inf, -inf, -inf, -inf, -inf, -inf, -inf,\n",
       "        -inf]),\n",
       " ('MT19937', array([1332685169, 3002519251, 3692358394,  170808756, 3457576143,\n",
       "          545855987, 4004778595, 4108167676, 2462820924, 2422185014,\n",
       "          539683554,  165575473, 3564226503, 3381310490, 2612317904,\n",
       "         1247658014, 2003036815, 3269736441, 1524659201, 3592191625,\n",
       "         3174688202,  919880523, 4182937666, 3818398282, 3383055369,\n",
       "         2235331530,  917814209, 2492125679, 2105040181, 2273759419,\n",
       "         2239149153, 3841021091, 4206593629, 2380919232, 1339039745,\n",
       "          171457555,  710560674,  225173315, 1100419264, 1306885142,\n",
       "         3573317278, 3266026321,  415480464, 2234003726,  234119975,\n",
       "         3796885304, 1412459903, 3811766667, 3151485127, 2484403872,\n",
       "         2125121199, 4149939086, 2375779395, 3567915921,  612441105,\n",
       "         1839806200, 4204622794, 2553527816, 1938266118, 2176115874,\n",
       "          881690314, 1452509493, 3517792528,  255362005, 3465011643,\n",
       "         4281043866, 3644684082, 3901101901, 3290968040, 4209822119,\n",
       "         2324579815, 2279567287, 3019312423,  169028397,  708255276,\n",
       "         3862907643, 3047726575, 1742516489, 4088917195, 3461320323,\n",
       "         4265186484, 1050108927, 1666110574, 1164119215, 3431018823,\n",
       "          564870432, 2783975689, 1695006475, 3636131773,  139849514,\n",
       "         3671803794,  489495808, 2487191349, 1433603600,  404953506,\n",
       "          761841779,  160368781, 3732116341, 3664177159, 2775222308,\n",
       "         2930049087, 3596041406, 1449134122,  877724914, 2340477336,\n",
       "         2134399631,  786496934,  755610604, 2768287469, 2990606113,\n",
       "          132774538, 2803056842,  228865720, 2352337258, 2383124101,\n",
       "         3974448038, 2471979084,  854666577, 4045651538,  195811921,\n",
       "         1596705280, 1272010097, 3681340575, 2320359286, 1315066692,\n",
       "         1976857769, 3306371337, 4237455222,  388411689, 1407487330,\n",
       "         3556922459, 1377584979, 1731993564, 2915276802, 2211906746,\n",
       "         1332951954, 3746133895,  618505440,   70258529, 1687079241,\n",
       "         3638519407,  292190537, 2974966601, 2284721371, 2552691481,\n",
       "         2057262484, 2080266052, 1821341302, 2913693823, 3174598746,\n",
       "         1995683929, 4074856870,   65190503, 4114754774, 1914965531,\n",
       "         1919708087, 3541722925, 3812671056, 2973523794,  972045373,\n",
       "          256072480,  409633704, 2003447818, 2004418096,  830576944,\n",
       "          810902723,  721792711,   63494835, 1098649419, 2091863579,\n",
       "         3786583153, 4021781930, 2379001013, 2467522291, 1524955594,\n",
       "          671388571, 2074242465, 1473983826, 3615604405, 1437919050,\n",
       "         1353286480, 2092815507, 2544427417, 2461869417, 1081457795,\n",
       "         2918074499, 2298979824, 3260035411, 3194801991, 3899289130,\n",
       "         1094155560,  397714680, 3649913423, 2356651596, 4149029340,\n",
       "         2577114330, 2419472433,  595334137, 1703328897, 2641635740,\n",
       "          790549999, 1366544206,   19602920, 2543768951, 3168622892,\n",
       "         4001606209, 2638397651,  958515603, 1180785631,  620176494,\n",
       "          360955408, 4014891767, 1570410408,  620260931, 2671891393,\n",
       "         1671185472, 1462316939, 3363818111, 1281698408,  239600916,\n",
       "         3731621710, 1093032254, 1680468157, 1702440829, 1735495838,\n",
       "          481281185, 3256675464,  220031620, 3653640833, 3137156515,\n",
       "         1791903151, 4250486493, 1078605715,  750077443, 4244999134,\n",
       "         1367428165, 1168510979, 3676190633, 4093570942,  710782661,\n",
       "         1309322500, 2800214042,  443983680,  518218795, 1202517800,\n",
       "         4008373935, 3399174873, 1063893345, 4018256808, 2105314392,\n",
       "         2501102757, 1137400180, 2679745914,  315057349,  354771427,\n",
       "         3063532066, 4168332584, 1347572308, 2600116458, 2655145507,\n",
       "          722851590, 4259463305, 3366295381, 3333076561, 3722225416,\n",
       "         1797428973, 2119234920, 1934711511, 1386162385,   23182067,\n",
       "          158476535, 2629108570, 1382697059,  769332183, 3853328370,\n",
       "         1933445784, 1263508735, 1802219436, 3674841270,  790031934,\n",
       "         1660388686, 2330782514, 1530191799, 2193540146,  341963323,\n",
       "         3944035909, 2720937953, 2025445445, 3815163846, 1512739002,\n",
       "         1300873958, 2364979791, 1631182920, 4276277910,  581632485,\n",
       "         3057579986, 1695421205, 3422358232, 3492280130,  695815803,\n",
       "         1661025074, 2472164371,  887072466, 4194702662, 1799486577,\n",
       "         2686282013, 1048533485, 1825575235, 3698115481,  640656043,\n",
       "         3707103004, 2474559450, 2459686732, 1047194672, 3855709587,\n",
       "         2244643409,  199432202, 3770599151,   93945478, 3927375095,\n",
       "         1394188126,   14642069, 3372163209,  913201522, 2369313859,\n",
       "         3867081606, 4169832628, 1633993270, 3968662637,  143780452,\n",
       "         1492754987, 3190234741, 1112708267, 1344463896, 1910373007,\n",
       "         1640567453, 2444153958, 1481295803, 2985830727, 2523840529,\n",
       "         1338945949, 3007992354, 1581938390, 1761282225,  862801766,\n",
       "          759129490, 2186524977, 3008939057, 1627118483,  638203739,\n",
       "         2144079410,  159912424, 4281859502, 2375970039, 4211428571,\n",
       "         4192510913, 1018051794,  452311482, 1592323017, 1129494274,\n",
       "         3351793316, 1041358361, 2003386315, 4048789115, 2767314207,\n",
       "         3148601983, 3749085869,  228206663,  940957353, 3418853385,\n",
       "          951598427, 2819644183, 4151168265, 3528877999, 3597103285,\n",
       "         2921601426,  723047166, 3938017798, 2071343484, 2108377216,\n",
       "         1710163613, 3136301267,  258205989, 2793486134,  590755185,\n",
       "         4229915868, 2553196572, 2029212425, 2573839540, 3436015232,\n",
       "          841223135, 4056083988, 1009610338, 1011089027,  653748493,\n",
       "         1267334015, 1990775527, 4288378875, 1135903490,  779659404,\n",
       "         2770143327, 1745879666,  749105513, 1061415502, 1014406178,\n",
       "         3720751134,  696617849,  627462107, 1795587571, 3058699323,\n",
       "         2120572651,  426622410, 1338495369, 2222714421, 1447286229,\n",
       "         3241121655, 3509728556, 1675694416, 3694846947, 3785886492,\n",
       "          209520119, 3861466830, 3758243754, 1695298240, 2944073414,\n",
       "         2795830742,   92885280, 2956294377, 3077887484, 3388784460,\n",
       "         1153934527, 3334420500, 4092448944,   91179868, 1259349814,\n",
       "         3732363567, 1909739037, 3174278652,   40311776, 2457975994,\n",
       "         2175016939, 2981735941, 2679617644, 3710004765, 2364999428,\n",
       "         3587506752, 2295757555, 3127871804, 3595798499, 3048649533,\n",
       "         1835764402,  964383896, 3240404391, 2666144372,  294594680,\n",
       "         3909424698, 1838650565, 1553889185, 4251232285, 3125120639,\n",
       "         1229293668, 3571644236, 4209655960, 2928834403, 3490993124,\n",
       "         3310250085,   78970742, 2740505669, 1361306096, 2508008572,\n",
       "          292114447, 1437730618, 2559478714, 3343185231, 1124274370,\n",
       "         1050717470, 3710419007,  584827671, 2738380681, 1644586021,\n",
       "         1767764665, 3706982204, 2788781886, 2765783588, 2764585172,\n",
       "         4123916853, 3515724677, 3384565981,  269028763,  315577892,\n",
       "         1990008504, 3966803244, 3217250582, 3784733413, 2129025991,\n",
       "          330135420, 3276405606, 1447781970,  902504363, 2235602356,\n",
       "          176916730,  235986465, 3093340029,  869520794, 3492735891,\n",
       "         1068870266,   11851742, 1493159384, 3183563651,  210081266,\n",
       "         3211283456, 3270125600,  451046954, 2500851783,   11455839,\n",
       "         3207266510,   38009708, 4181301143, 4188151683, 3550831212,\n",
       "         1196964608,  631336565,  155006288,  554962085, 1774417873,\n",
       "          799257239, 1398689672, 3077117461, 1727972123,  331948601,\n",
       "         4081763302,  941508497,   13668585, 3007865616, 2686015801,\n",
       "         1001090820, 1797968794, 2272682756,  578420650, 3326141488,\n",
       "         1894626525, 3039898222,  539293107, 4143666817, 2935246181,\n",
       "         3683868547, 3538184702, 3347556161, 3295203467, 2574398698,\n",
       "         3548058355, 3295091199,  905650630, 2057025254, 2812881369,\n",
       "         2359508094, 3371314278,  585727126, 3542734596,  682577796,\n",
       "         4272485074, 2665187926, 1859279243, 1155167578,   80458662,\n",
       "         3172651012, 2836257734, 2782951795, 4165630769, 4264540250,\n",
       "         1295551920,  510116775, 1898962570, 2739357320, 4197403854,\n",
       "         3576102249, 3919347043, 1485415519, 1051903182,  698677140,\n",
       "         1500141726, 3889592300, 2000966544, 3442764592,  892690766,\n",
       "         3887988435, 1921715253, 2621781916,  531020390, 4236274747,\n",
       "          558201657,  311389452,  433893074, 1962407049, 3493194316,\n",
       "         3935250613, 2082309570, 3092538466, 2569894471, 1269084672,\n",
       "          527743662, 2307254255,   10553343,  279277329,  490777106,\n",
       "          512533294, 3529214735,  499689724, 3683089797, 3110940726,\n",
       "         2946622007,  417651310,  940148254, 3435079601, 3162618656,\n",
       "         3421480547, 2727214019, 1564979039,  971402106,  704731099,\n",
       "         2949736575,  479028796, 2668727537, 2283271808], dtype=uint32), 125, 0, 0.0))"
      ]
     },
     "execution_count": 21,
     "metadata": {},
     "output_type": "execute_result"
    }
   ],
   "source": [
    "sampler.run_mcmc(pos, 500)"
   ]
  },
  {
   "cell_type": "code",
   "execution_count": 22,
   "metadata": {
    "ExecuteTime": {
     "end_time": "2018-10-08T07:10:07.900097Z",
     "start_time": "2018-10-08T07:10:06.921496Z"
    }
   },
   "outputs": [
    {
     "name": "stderr",
     "output_type": "stream",
     "text": [
      "WARNING:root:Too few points to create valid contours\n",
      "WARNING:root:Too few points to create valid contours\n",
      "WARNING:root:Too few points to create valid contours\n"
     ]
    },
    {
     "data": {
      "image/png": "[encoded data removed]",
      "text/plain": [
       "<Figure size 547.2x547.2 with 9 Axes>"
      ]
     },
     "metadata": {
      "needs_background": "light"
     },
     "output_type": "display_data"
    }
   ],
   "source": [
    "samples = sampler.chain[:, 50:, :].reshape((-1, ndim))\n",
    "import corner\n",
    "fig = corner.corner(samples, labels=[\"$m$\", \"$b$\", \"$\\ln\\,f$\"],\n",
    "                      truths=[m_ls, b_ls, np.log(f_true)])\n",
    "fig.savefig(\"triangle.png\")"
   ]
  },
  {
   "cell_type": "code",
   "execution_count": 23,
   "metadata": {
    "ExecuteTime": {
     "end_time": "2018-10-08T07:10:08.242335Z",
     "start_time": "2018-10-08T07:10:07.902231Z"
    }
   },
   "outputs": [
    {
     "data": {
      "text/plain": [
       "<ErrorbarContainer object of 3 artists>"
      ]
     },
     "execution_count": 23,
     "metadata": {},
     "output_type": "execute_result"
    },
    {
     "data": {
      "image/png": "[encoded data removed]",
      "text/plain": [
       "<Figure size 432x288 with 1 Axes>"
      ]
     },
     "metadata": {
      "needs_background": "light"
     },
     "output_type": "display_data"
    }
   ],
   "source": [
    "import matplotlib.pyplot as pl\n",
    "xl = np.array([0, 10])\n",
    "\n",
    "for m, b, lnf in samples[np.random.randint(len(samples), size=100)]:\n",
    "    pl.plot(xl, m*xl+b, color=\"k\", alpha=0.1)\n",
    "    \n",
    "pl.plot(xl, m_ls*xl+b_ls, color=\"r\", lw=2, alpha=0.8)\n",
    "\n",
    "pl.errorbar(x_new, y_new, yerr=paklaida, fmt=\".k\")"
   ]
  },
  {
   "cell_type": "code",
   "execution_count": 24,
   "metadata": {
    "ExecuteTime": {
     "end_time": "2018-10-08T07:10:08.252139Z",
     "start_time": "2018-10-08T07:10:08.244102Z"
    }
   },
   "outputs": [
    {
     "name": "stdout",
     "output_type": "stream",
     "text": [
      "(0.04191370984393199, 9.210199177754619e-05, 8.63977887029313e-05)\n",
      "(76.02176094823861, 7.672236627342954e-05, 8.643595869273213e-05)\n",
      "(0.5000089897144997, 4.47750065212249e-05, 4.719048787332758e-05)\n"
     ]
    }
   ],
   "source": [
    "samples[:, 2] = np.exp(samples[:, 2])\n",
    "m_mcmc, b_mcmc, f_mcmc = map(lambda v: (v[1], v[2]-v[1], v[1]-v[0]),\n",
    "                             zip(*np.percentile(samples, [16, 50, 84],\n",
    "                                                axis=0)))\n",
    "print(m_mcmc)\n",
    "print(b_mcmc)\n",
    "print(f_mcmc)"
   ]
  },
  {
   "cell_type": "code",
   "execution_count": 25,
   "metadata": {
    "ExecuteTime": {
     "end_time": "2018-10-08T07:10:08.445308Z",
     "start_time": "2018-10-08T07:10:08.254161Z"
    }
   },
   "outputs": [
    {
     "data": {
      "text/plain": [
       "<matplotlib.collections.PathCollection at 0x7f44413a8390>"
      ]
     },
     "execution_count": 25,
     "metadata": {},
     "output_type": "execute_result"
    },
    {
     "data": {
      "image/png": "[encoded data removed]",
      "text/plain": [
       "<Figure size 432x288 with 1 Axes>"
      ]
     },
     "metadata": {
      "needs_background": "light"
     },
     "output_type": "display_data"
    }
   ],
   "source": [
    "xs = np.linspace(0,180,100)\n",
    "ys = m_mcmc[0]*xs + b_mcmc[0]\n",
    "plt.scatter(x_new, y_new)\n",
    "plt.scatter(xs, ys)"
   ]
  },
  {
   "cell_type": "code",
   "execution_count": 26,
   "metadata": {
    "ExecuteTime": {
     "end_time": "2018-10-08T07:10:08.570095Z",
     "start_time": "2018-10-08T07:10:08.447059Z"
    }
   },
   "outputs": [
    {
     "data": {
      "text/plain": [
       "<matplotlib.collections.PathCollection at 0x7f4441383ac8>"
      ]
     },
     "execution_count": 26,
     "metadata": {},
     "output_type": "execute_result"
    },
    {
     "data": {
      "image/png": "[encoded data removed]",
      "text/plain": [
       "<Figure size 432x288 with 1 Axes>"
      ]
     },
     "metadata": {
      "needs_background": "light"
     },
     "output_type": "display_data"
    }
   ],
   "source": [
    "x_new, y_new\n",
    "params = np.polyfit(x_new, y_new, 2)\n",
    "xs = np.linspace(0,180,100)\n",
    "ys = params[0]*xs**2 + params[1]*xs + params[2]\n",
    "plt.scatter(x_new, y_new)\n",
    "plt.scatter(xs, ys)"
   ]
  },
  {
   "cell_type": "code",
   "execution_count": 28,
   "metadata": {
    "ExecuteTime": {
     "end_time": "2018-10-08T07:10:17.246841Z",
     "start_time": "2018-10-08T07:10:17.086945Z"
    }
   },
   "outputs": [
    {
     "data": {
      "text/plain": [
       "<matplotlib.collections.PathCollection at 0x7f4474175588>"
      ]
     },
     "execution_count": 28,
     "metadata": {},
     "output_type": "execute_result"
    },
    {
     "data": {
      "image/png": "[encoded data removed]",
      "text/plain": [
       "<Figure size 432x288 with 1 Axes>"
      ]
     },
     "metadata": {
      "needs_background": "light"
     },
     "output_type": "display_data"
    }
   ],
   "source": [
    "x_new, y_new\n",
    "params = np.polyfit(x_new, y_new, 1)\n",
    "xs = np.linspace(0,180,100)\n",
    "ys = params[0]*xs + params[1]\n",
    "plt.scatter(x_new, y_new)\n",
    "plt.scatter(xs, ys)"
   ]
  },
  {
   "cell_type": "code",
   "execution_count": 37,
   "metadata": {
    "ExecuteTime": {
     "end_time": "2018-10-08T07:46:18.566445Z",
     "start_time": "2018-10-08T07:46:18.390497Z"
    }
   },
   "outputs": [
    {
     "name": "stdout",
     "output_type": "stream",
     "text": [
      "[  0  15  30  45  60  75  90 105 120 135 150 180] \n",
      " \n",
      " [77.19988557 76.54805788 77.555633   78.38039374 78.47375848 79.61532433\n",
      " 81.04042272 81.8996022  83.07906253 83.14847095 83.45257144 85.60963559] \n",
      " \n",
      " [0.59449575 5.98246542 0.88975368 0.82613556 0.31430652 0.30627528\n",
      " 0.62036944 0.30540438 0.15706869 0.19553547 0.22019108 0.2368001 ]\n"
     ]
    },
    {
     "data": {
      "image/png": "[encoded data removed]",
      "text/plain": [
       "<Figure size 432x288 with 1 Axes>"
      ]
     },
     "metadata": {
      "needs_background": "light"
     },
     "output_type": "display_data"
    }
   ],
   "source": [
    "Ma = mtang.mean(axis=1)\n",
    "Ms = mtang.std(axis=1,ddof=1)\n",
    "\n",
    "anglen = angle[angle!=165] \n",
    "\n",
    "lnM = np.log(Ma)\n",
    "lnMs = np.log(mtang).std(axis=1)\n",
    "plt.errorbar(anglen, lnM, yerr=lnMs)\n",
    "print(anglen,\"\\n\",\"\\n\",  lnM,\"\\n\",\"\\n\", lnMs)"
   ]
  },
  {
   "cell_type": "code",
   "execution_count": 41,
   "metadata": {
    "ExecuteTime": {
     "end_time": "2018-10-08T07:50:16.133637Z",
     "start_time": "2018-10-08T07:50:15.900959Z"
    }
   },
   "outputs": [
    {
     "name": "stdout",
     "output_type": "stream",
     "text": [
      "(12, 2)\n",
      "(12, 12)\n",
      "[[ 7.67419108e-02 -5.75712651e-04]\n",
      " [-5.75712651e-04  4.74594293e-06]]\n"
     ]
    },
    {
     "data": {
      "image/png": "[encoded data removed]",
      "text/plain": [
       "<Figure size 432x288 with 1 Axes>"
      ]
     },
     "metadata": {
      "needs_background": "light"
     },
     "output_type": "display_data"
    }
   ],
   "source": [
    "A = np.vstack((np.ones_like(anglen), anglen)).T\n",
    "C = (lnMs * lnMs)*np.eye(len(lnMs), len(lnMs))\n",
    "print(A.shape)\n",
    "print(C.shape)\n",
    "\n",
    "cov = np.linalg.inv(np.dot(A.T, np.linalg.solve(C, A)))\n",
    "b_ls, m_ls = np.dot(cov, np.dot(A.T, np.linalg.solve(C, lnM)))\n",
    "\n",
    "\n",
    "xs = np.linspace(0,180,100)\n",
    "ys = m_ls*xs + b_ls\n",
    "plt.errorbar(anglen, lnM, yerr=lnMs)\n",
    "plt.plot(xs, ys)\n",
    "print(cov)"
   ]
  },
  {
   "cell_type": "code",
   "execution_count": 79,
   "metadata": {
    "ExecuteTime": {
     "end_time": "2018-10-08T08:08:34.474350Z",
     "start_time": "2018-10-08T08:08:34.450870Z"
    }
   },
   "outputs": [],
   "source": [
    "#import scipy.optimize as op\n",
    "f_true = 0.9\n",
    "nll = lambda *args: -lnlike(*args)\n",
    "result = op.minimize(nll, [m_ls, b_ls, np.log(f_true)], args=(anglen, lnM, lnMs))\n",
    "m_ml, b_ml, lnf_ml = result[\"x\"]"
   ]
  },
  {
   "cell_type": "code",
   "execution_count": 80,
   "metadata": {
    "ExecuteTime": {
     "end_time": "2018-10-08T08:08:36.050107Z",
     "start_time": "2018-10-08T08:08:35.875659Z"
    }
   },
   "outputs": [
    {
     "data": {
      "text/plain": [
       "[<matplotlib.lines.Line2D at 0x7f443f2280b8>]"
      ]
     },
     "execution_count": 80,
     "metadata": {},
     "output_type": "execute_result"
    },
    {
     "data": {
      "image/png": "[encoded data removed]",
      "text/plain": [
       "<Figure size 432x288 with 1 Axes>"
      ]
     },
     "metadata": {
      "needs_background": "light"
     },
     "output_type": "display_data"
    }
   ],
   "source": [
    "\n",
    "xs = np.linspace(0,180,100)\n",
    "ys = m_ls*xs + b_ls\n",
    "ym = m_ml*xs + b_ml\n",
    "\n",
    "plt.errorbar(anglen, lnM, yerr=lnMs)\n",
    "plt.plot(xs, ys)\n",
    "plt.plot(xs, ym)"
   ]
  },
  {
   "cell_type": "code",
   "execution_count": 81,
   "metadata": {
    "ExecuteTime": {
     "end_time": "2018-10-08T08:08:39.760583Z",
     "start_time": "2018-10-08T08:08:39.265834Z"
    }
   },
   "outputs": [
    {
     "name": "stderr",
     "output_type": "stream",
     "text": [
      "/home/s_matas/anaconda3/lib/python3.6/site-packages/emcee/ensemble.py:335: RuntimeWarning: invalid value encountered in subtract\n",
      "  lnpdiff = (self.dim - 1.) * np.log(zz) + newlnprob - lnprob0\n",
      "/home/s_matas/anaconda3/lib/python3.6/site-packages/emcee/ensemble.py:336: RuntimeWarning: invalid value encountered in greater\n",
      "  accept = (lnpdiff > np.log(self._random.rand(len(lnpdiff))))\n"
     ]
    },
    {
     "data": {
      "text/plain": [
       "(array([[ 5.15872490e-02,  7.61953127e+01, -5.31193332e+00],\n",
       "        [ 5.15809389e-02,  7.61953278e+01, -5.31215478e+00],\n",
       "        [ 5.16082842e-02,  7.61953833e+01, -5.31205993e+00],\n",
       "        [ 5.15404540e-02,  7.61952052e+01, -5.31227968e+00],\n",
       "        [ 5.16321817e-02,  7.61951377e+01, -5.31208164e+00],\n",
       "        [ 5.16134710e-02,  7.61951694e+01, -5.31217080e+00],\n",
       "        [ 5.14986366e-02,  7.61951709e+01, -5.31224149e+00],\n",
       "        [ 5.15853342e-02,  7.61952368e+01, -5.31201032e+00],\n",
       "        [ 5.16947187e-02,  7.61952390e+01, -5.31205319e+00],\n",
       "        [ 5.15613580e-02,  7.61953583e+01, -5.31220980e+00],\n",
       "        [ 5.16967137e-02,  7.61951213e+01, -5.31231842e+00],\n",
       "        [ 5.17643910e-02,  7.61953556e+01, -5.31232061e+00],\n",
       "        [ 5.17236749e-02,  7.61953032e+01, -5.31220691e+00],\n",
       "        [ 5.15267794e-02,  7.61952977e+01, -5.31225973e+00],\n",
       "        [ 5.15862574e-02,  7.61953576e+01, -5.31223181e+00],\n",
       "        [ 5.16841366e-02,  7.61952161e+01, -5.31201398e+00],\n",
       "        [ 5.15472677e-02,  7.61953219e+01, -5.31216941e+00],\n",
       "        [ 5.15386565e-02,  7.61952114e+01, -5.31215572e+00],\n",
       "        [ 5.15204934e-02,  7.61951810e+01, -5.31199120e+00],\n",
       "        [ 5.14164191e-02,  7.61952423e+01, -5.31214523e+00],\n",
       "        [ 5.16448095e-02,  7.61951431e+01, -5.31189564e+00],\n",
       "        [ 5.16823539e-02,  7.61952829e+01, -5.31223149e+00],\n",
       "        [ 5.16119410e-02,  7.61950790e+01, -5.31208838e+00],\n",
       "        [ 5.15106179e-02,  7.61952292e+01, -5.31185771e+00],\n",
       "        [ 5.16562299e-02,  7.61952723e+01, -5.31215629e+00],\n",
       "        [ 5.15874898e-02,  7.61953808e+01, -5.31222253e+00],\n",
       "        [ 5.16337289e-02,  7.61952382e+01, -5.31209957e+00],\n",
       "        [ 5.15211846e-02,  7.61951788e+01, -5.31218239e+00],\n",
       "        [ 5.15099881e-02,  7.61951415e+01, -5.31207349e+00],\n",
       "        [ 5.15720403e-02,  7.61953346e+01, -5.31229999e+00],\n",
       "        [ 5.16061395e-02,  7.61950528e+01, -5.31210472e+00],\n",
       "        [ 5.16051785e-02,  7.61951081e+01, -5.31220635e+00],\n",
       "        [ 5.16617327e-02,  7.61953779e+01, -5.31211815e+00],\n",
       "        [ 5.15796553e-02,  7.61951639e+01, -5.31215651e+00],\n",
       "        [ 5.16700123e-02,  7.61951421e+01, -5.31204872e+00],\n",
       "        [ 5.15371787e-02,  7.61952833e+01, -5.31212635e+00],\n",
       "        [ 5.15724888e-02,  7.61951436e+01, -5.31208374e+00],\n",
       "        [ 5.17440713e-02,  7.61951185e+01, -5.31215262e+00],\n",
       "        [ 5.16924165e-02,  7.61954023e+01, -5.31218584e+00],\n",
       "        [ 5.15734403e-02,  7.61951854e+01, -5.31206971e+00],\n",
       "        [ 5.14922993e-02,  7.61951807e+01, -5.31187501e+00],\n",
       "        [ 5.15325894e-02,  7.61951733e+01, -5.31198521e+00],\n",
       "        [ 5.17158145e-02,  7.61952124e+01, -5.31217656e+00],\n",
       "        [ 5.16701730e-02,  7.61951847e+01, -5.31217841e+00],\n",
       "        [ 5.15505503e-02,  7.61952248e+01, -5.31223422e+00],\n",
       "        [ 5.17549947e-02,  7.61951412e+01, -5.31195675e+00],\n",
       "        [ 5.15488560e-02,  7.61952237e+01, -5.31210508e+00],\n",
       "        [ 5.14717375e-02,  7.61951764e+01, -5.31204902e+00],\n",
       "        [ 5.16805159e-02,  7.61952722e+01, -5.31211292e+00],\n",
       "        [ 5.15997471e-02,  7.61949607e+01, -5.31217012e+00],\n",
       "        [ 5.16352863e-02,  7.61951040e+01, -5.31212905e+00],\n",
       "        [ 5.15970104e-02,  7.61954176e+01, -5.31201985e+00],\n",
       "        [ 5.16250152e-02,  7.61950877e+01, -5.31223369e+00],\n",
       "        [ 5.16527915e-02,  7.61952042e+01, -5.31198208e+00],\n",
       "        [ 5.15268819e-02,  7.61952865e+01, -5.31210043e+00],\n",
       "        [ 5.17470014e-02,  7.61953604e+01, -5.31186822e+00],\n",
       "        [ 5.16212577e-02,  7.61952557e+01, -5.31208814e+00],\n",
       "        [ 5.16471159e-02,  7.61952086e+01, -5.31199374e+00],\n",
       "        [ 5.15276814e-02,  7.61954049e+01, -5.31213426e+00],\n",
       "        [ 5.16078167e-02,  7.61951537e+01, -5.31213665e+00],\n",
       "        [ 5.14887460e-02,  7.61952563e+01, -5.31195451e+00],\n",
       "        [ 5.15903433e-02,  7.61952670e+01, -5.31191163e+00],\n",
       "        [ 5.15103185e-02,  7.61952137e+01, -5.31227614e+00],\n",
       "        [ 5.17034298e-02,  7.61951674e+01, -5.31211107e+00],\n",
       "        [ 5.15625565e-02,  7.61952864e+01, -5.31213694e+00],\n",
       "        [ 5.15572629e-02,  7.61952915e+01, -5.31206069e+00],\n",
       "        [ 5.14602478e-02,  7.61950491e+01, -5.31216829e+00],\n",
       "        [ 5.15882609e-02,  7.61952387e+01, -5.31192891e+00],\n",
       "        [ 5.14765396e-02,  7.61953549e+01, -5.31211892e+00],\n",
       "        [ 5.14930283e-02,  7.61953552e+01, -5.31228700e+00],\n",
       "        [ 5.16805120e-02,  7.61952853e+01, -5.31212170e+00],\n",
       "        [ 5.16088958e-02,  7.61950433e+01, -5.31206603e+00],\n",
       "        [ 5.15236819e-02,  7.61952042e+01, -5.31206164e+00],\n",
       "        [ 5.13787070e-02,  7.61952217e+01, -5.31207352e+00],\n",
       "        [ 5.15999862e-02,  7.61953553e+01, -5.31198220e+00],\n",
       "        [ 5.17006678e-02,  7.61950924e+01, -5.31202973e+00],\n",
       "        [ 5.15899232e-02,  7.61951524e+01, -5.31213356e+00],\n",
       "        [ 5.16043747e-02,  7.61951225e+01, -5.31197481e+00],\n",
       "        [ 5.16599628e-02,  7.61952015e+01, -5.31201997e+00],\n",
       "        [ 5.16459256e-02,  7.61951542e+01, -5.31201436e+00],\n",
       "        [ 5.15980162e-02,  7.61951037e+01, -5.31209737e+00],\n",
       "        [ 5.15194549e-02,  7.61950914e+01, -5.31201116e+00],\n",
       "        [ 5.16100879e-02,  7.61951474e+01, -5.31207153e+00],\n",
       "        [ 5.15828093e-02,  7.61953088e+01, -5.31222185e+00],\n",
       "        [ 5.15741055e-02,  7.61951184e+01, -5.31210679e+00],\n",
       "        [ 5.14637066e-02,  7.61952287e+01, -5.31206338e+00],\n",
       "        [ 5.18214575e-02,  7.61951916e+01, -5.31216053e+00],\n",
       "        [ 5.16862882e-02,  7.61953218e+01, -5.31227502e+00],\n",
       "        [ 5.16459539e-02,  7.61951504e+01, -5.31209263e+00],\n",
       "        [ 5.16622563e-02,  7.61951834e+01, -5.31218820e+00],\n",
       "        [ 5.17692077e-02,  7.61952295e+01, -5.31209178e+00],\n",
       "        [ 5.14433035e-02,  7.61952791e+01, -5.31183392e+00],\n",
       "        [ 5.16518277e-02,  7.61953574e+01, -5.31212809e+00],\n",
       "        [ 5.15640995e-02,  7.61951940e+01, -5.31207476e+00],\n",
       "        [ 5.17910386e-02,  7.61952046e+01, -5.31213246e+00],\n",
       "        [ 5.15276384e-02,  7.61953011e+01, -5.31215912e+00],\n",
       "        [ 5.15320914e-02,  7.61952520e+01, -5.31203577e+00],\n",
       "        [ 5.16465175e-02,  7.61952215e+01, -5.31215686e+00],\n",
       "        [ 5.16226552e-02,  7.61953644e+01, -5.31222988e+00],\n",
       "        [ 5.16093929e-02,  7.61952871e+01, -5.31210652e+00]]),\n",
       " array([-inf, -inf, -inf, -inf, -inf, -inf, -inf, -inf, -inf, -inf, -inf,\n",
       "        -inf, -inf, -inf, -inf, -inf, -inf, -inf, -inf, -inf, -inf, -inf,\n",
       "        -inf, -inf, -inf, -inf, -inf, -inf, -inf, -inf, -inf, -inf, -inf,\n",
       "        -inf, -inf, -inf, -inf, -inf, -inf, -inf, -inf, -inf, -inf, -inf,\n",
       "        -inf, -inf, -inf, -inf, -inf, -inf, -inf, -inf, -inf, -inf, -inf,\n",
       "        -inf, -inf, -inf, -inf, -inf, -inf, -inf, -inf, -inf, -inf, -inf,\n",
       "        -inf, -inf, -inf, -inf, -inf, -inf, -inf, -inf, -inf, -inf, -inf,\n",
       "        -inf, -inf, -inf, -inf, -inf, -inf, -inf, -inf, -inf, -inf, -inf,\n",
       "        -inf, -inf, -inf, -inf, -inf, -inf, -inf, -inf, -inf, -inf, -inf,\n",
       "        -inf]),\n",
       " ('MT19937', array([4001045707,  260779713,  373575583, 2094845213,  479929411,\n",
       "         3137586565,   54400860,  349783335, 2118442730, 1794710367,\n",
       "         2286383597, 1198831040, 1375462790,  700948835,  515991982,\n",
       "         1561916241, 1830071087, 1901841149, 3354514667, 3951382347,\n",
       "          217656311, 3815992782,  101653249, 2961924285, 1558813687,\n",
       "         1954820651, 4028234820, 3561045745, 3685741594,  286264244,\n",
       "         3763447001,  458716770, 3176698539, 2472515576, 1136408680,\n",
       "         3737876770, 1931319311,  304588736, 4047325420, 2925263815,\n",
       "         2792263215, 1517103526, 2880999491, 3825892058, 4248706781,\n",
       "         1870701221, 4214105809, 1907401221,  190558502,  552479147,\n",
       "         3740793293, 1304115488,  761717925, 3055126091, 2095815021,\n",
       "         1936536062,  453957413, 1817058963, 2255900008,  176954203,\n",
       "         1989442328, 2641969309, 2633264007, 3616348570, 1704028187,\n",
       "           23553070, 3873528071,   93191119, 3771836480,  743140174,\n",
       "         1928370191, 3538088381, 4184498392,  565169752, 3349815167,\n",
       "          768064937, 3352738218, 3305518107,  792573190, 3595654152,\n",
       "         1591539555, 1767003812, 2537971502, 3200337507, 2472842383,\n",
       "         4131742233, 3352565813, 1310108491, 2574273327,  620828899,\n",
       "          242011582,   89586982,  878105718, 1691605871, 1445451017,\n",
       "         1158161173, 1660426148, 2993088368,  444511095, 1653743967,\n",
       "         2440473989, 3220743509, 2353787674, 4055174559, 1575838430,\n",
       "         1362835803, 2001632241, 1706712023,  422713644,  191845518,\n",
       "         2867775558, 1840145189, 4174817884, 2590387709, 2534332138,\n",
       "         1443338299, 1646420763,  210067953, 1257316351, 1592736322,\n",
       "         1594135994,  502568253,  211824990, 1242589721, 2257726930,\n",
       "         1452387982, 1068490679, 2419931030, 1344089788, 1928625244,\n",
       "          256956310, 3492175623, 3750804224, 2269420632, 1812067004,\n",
       "         4091164509, 3203131166, 1608117741,  301050985, 2333443555,\n",
       "         1483923330, 1651469618, 2119115369, 1439013645, 1800392303,\n",
       "         4211524366, 4128074239,  122817748, 1478910290, 3149962650,\n",
       "         2840730887, 3002371847,  779390624,  986237540, 4153894051,\n",
       "           27875499, 3598679441, 2110249364, 2214014576, 4139208179,\n",
       "         4023803026, 3650340158, 3213290461, 2281293726, 1447775452,\n",
       "         4098720239, 1648772547, 1594262969, 3564695354,  344280097,\n",
       "         2094238865, 1149737806, 2855691839,  318142149, 2550630612,\n",
       "         3160185197, 3629307771, 3102450605, 3813304771, 1047071502,\n",
       "         1958419417,  962755881, 2846150959, 2253062396, 3218327281,\n",
       "         3559867266, 1379426579, 3689187513, 4236689413,  159722880,\n",
       "         2424852915,  257147483, 4065615510, 2472342242,  785497931,\n",
       "         3055478893, 3977950122,   44470305, 2762146299, 3418432315,\n",
       "         2896788860, 2642887251, 3261107217, 1900192473, 3707373080,\n",
       "         2459628559, 3923134607, 3972584945,  735365064, 2243577844,\n",
       "         3080009784, 3987976653, 3530804387, 2557087213, 3203478959,\n",
       "         1314057590, 1593460496,  439058727,  536297407,  909937881,\n",
       "         3151625294, 2867592067,    1930610, 4223439230, 1128924607,\n",
       "         3161201332,  618818719, 3952632859,   52150869, 3219420167,\n",
       "         1199303054, 3558594453, 3333078238, 1497646996, 1251301786,\n",
       "          639484327, 3299520758, 1440270458, 1781136581,  770479654,\n",
       "         3519174245, 2776429245,  153625713, 2450302054, 2856248257,\n",
       "         1405424626, 3154548627, 1982830292, 3799402762, 2954337071,\n",
       "         1365283769, 1247074105, 2663752441, 3428107966, 3822152172,\n",
       "         2412607614, 3290901218, 1940071096, 3049398743,  499490913,\n",
       "          927267478, 3156228799, 4182366611,  516727675, 1976516979,\n",
       "         2576314542, 2450043954, 3069572519, 2825092481, 2530791067,\n",
       "         1963046574, 2409030339,  203305900, 1307208132, 1455504288,\n",
       "          206999716, 3956900938, 3081722281, 3496988984, 2333590588,\n",
       "          753193560,  124584492, 1311368695, 3819444276,  140512255,\n",
       "           14082203, 2641856858, 2612396565, 1817516330, 2654038851,\n",
       "         3279667103,   24762338,  163535744, 2439472295, 1969668903,\n",
       "         3727650133,  101520710,  952086245, 3493567915,  144643229,\n",
       "         3393674596, 3132283558, 1961570452, 2968404670, 2239667270,\n",
       "          906575893, 1715633617, 1616697816, 3970749492,  522943908,\n",
       "          728345810, 2593258968, 1336381322, 3984901247, 2502000326,\n",
       "         2281247286, 4191489474,  425636039, 3283967491, 1805786906,\n",
       "          976455711, 3287927085, 2715940905,  234770140, 2579153118,\n",
       "         2570047982, 2505600117, 3285357860, 2477788675, 3043343268,\n",
       "         2566712431, 1416705046,  546880588, 1619197064, 3097190060,\n",
       "         1969544998, 2363639506, 3420137621, 3373580139, 2090492386,\n",
       "         2190821372, 3255922139, 1546274302, 3373493315, 1198881752,\n",
       "           65942868, 2592556331, 4152613571,  348576042, 1946564007,\n",
       "         2282843704, 2883823558, 1310172082, 1509426098, 2996516154,\n",
       "          474362411, 3508712705,  165651706, 1817828486, 2038881396,\n",
       "         2574838470, 4196072516, 2261717498, 2289127082,   42734541,\n",
       "         4197725416, 3527017373, 1406597684,  832625736, 1205051371,\n",
       "         2879134630, 4209798158,  802807296, 2928295778, 2563104281,\n",
       "         1336293188, 2467705307,  178169867, 2990279779, 2708580179,\n",
       "          358682409, 2867386887, 1633523542,  310427002, 2002891668,\n",
       "          622338693, 1633718712, 1651671729, 2742683685, 3460397669,\n",
       "         4113108175,  146810063, 1653445047,  620302063, 4140948496,\n",
       "         2183139396, 1133841885, 3332206901, 1918058341,  805143468,\n",
       "         1503540626, 1736745778, 2621781289, 3655887747, 2406072466,\n",
       "         3939775041, 1134237087, 3530401590,  889669344, 3250054840,\n",
       "         2229083130,  399182943,   98267808, 3816352875, 4090244019,\n",
       "         1908920058, 1479031422, 2288675898, 2895587098, 3385953558,\n",
       "         4010891510, 3033855919,  299374288, 2407232907, 3424955711,\n",
       "         3692456842,  642407414, 1491453814, 3728394271, 3999314080,\n",
       "         2358327293, 4139688930, 2145770132, 3857124606, 1588415568,\n",
       "         3146998842, 3821107399, 3824441349,  549806708,  280909069,\n",
       "         1674746369, 1842525795, 1228590380, 2638910649, 3893773993,\n",
       "         3020427118, 4040317821, 1734902956, 1515267206, 4019648498,\n",
       "         2745914590,  123273778, 1633293458,  306083081, 2823499770,\n",
       "         3018494830, 3366770950, 1288281236, 1621061642, 1044293347,\n",
       "         2106464048,  788154786, 4253397730, 3105270330, 3583238168,\n",
       "         1041300967, 1412608728, 1850262955,  882898759,  318984410,\n",
       "         3373776257, 2844470372,  610729509, 1072432836, 1073819673,\n",
       "         3535048721,  387372055, 2694486704, 2896835280,  141975156,\n",
       "         2208962128,  329383796, 1547168296,  393216183, 3096073569,\n",
       "         4156695484, 1032507262, 3062314070, 4235072967, 1878107293,\n",
       "         2174892822, 3414145914, 2292987451,  628231602, 1099033350,\n",
       "         1241979507, 3817952479, 1160355895, 3986978433, 1255321480,\n",
       "         1413201700, 1774255258, 1473091892, 1079139670,  352694525,\n",
       "         2782355295, 3179544481, 3941234952, 1546152466, 1586474896,\n",
       "         2066812400, 1464279491, 2995066797,  295120688,  614318976,\n",
       "         3774578961, 3029315090, 3908917298, 3665510438, 3886090370,\n",
       "         2305247437, 1725375392, 2425598124, 3088577062,  696145955,\n",
       "         3648667165, 3150164527, 2919799249, 3996645392, 2808927390,\n",
       "         1245586243, 1763833495, 2751921972, 3629559294, 1482301660,\n",
       "         3583621240, 2159218628, 3997112269, 3481074975, 3735716451,\n",
       "         1559814802, 2407388882, 1908873085,   63064441, 3249221017,\n",
       "         3646216208, 2791224745, 4211394952, 1884698719, 1616306154,\n",
       "         2999134569,  456805893, 1115737314, 1911482638, 3894855922,\n",
       "         1437413395, 2731174260, 3756458687, 2858666898, 1225326900,\n",
       "         2120657065, 3033961765,   75712668, 2427345302, 2503035300,\n",
       "         2256209628, 2616144869, 2860334975, 3656150447, 1421641281,\n",
       "         3371722231, 3027515336,   21581644, 1683854167, 1870529886,\n",
       "         3399169881, 3535928878, 3760839763, 3193563089, 2594590078,\n",
       "         2674733299, 2875788612,  870529076, 1047145327, 3005925634,\n",
       "         3363620956, 4284923853,  195564219, 2751155482, 3334837439,\n",
       "          226616152,  700934300, 1507755927,  584463758, 3006305331,\n",
       "         2271624416,  222162235,  216499185, 3769696089,    2903816,\n",
       "         3779967903, 1899087380,  886496422, 4160103581,  846005393,\n",
       "         1186558584, 3866427775, 1109853619, 4170849291, 1222395497,\n",
       "         1369713005, 3128902306, 2901377614, 2989454042, 1269207429,\n",
       "         4015372200, 2174113505, 3690909247, 3360126168,  206585622,\n",
       "         1573412560, 2894341746, 3724881570, 3986699111], dtype=uint32), 229, 0, 0.0))"
      ]
     },
     "execution_count": 81,
     "metadata": {},
     "output_type": "execute_result"
    }
   ],
   "source": [
    "ndim, nwalkers = 3, 100\n",
    "pos = [result[\"x\"] + 1e-4*np.random.randn(ndim) for i in range(nwalkers)]\n",
    "sampler = emcee.EnsembleSampler(nwalkers, ndim, lnprob, args=(anglen, lnM, lnMs))\n",
    "sampler.run_mcmc(pos, 500)"
   ]
  },
  {
   "cell_type": "code",
   "execution_count": 82,
   "metadata": {
    "ExecuteTime": {
     "end_time": "2018-10-08T08:08:42.294744Z",
     "start_time": "2018-10-08T08:08:41.303669Z"
    }
   },
   "outputs": [
    {
     "name": "stderr",
     "output_type": "stream",
     "text": [
      "WARNING:root:Too few points to create valid contours\n",
      "WARNING:root:Too few points to create valid contours\n",
      "WARNING:root:Too few points to create valid contours\n"
     ]
    },
    {
     "data": {
      "image/png": "[encoded data removed]",
      "text/plain": [
       "<Figure size 547.2x547.2 with 9 Axes>"
      ]
     },
     "metadata": {
      "needs_background": "light"
     },
     "output_type": "display_data"
    }
   ],
   "source": [
    "samples = sampler.chain[:, 50:, :].reshape((-1, ndim))\n",
    "fig = corner.corner(samples, labels=[\"$m$\", \"$b$\", \"$\\ln\\,f$\"],\n",
    "                      truths=[m_ls, b_ls, np.log(f_true)])\n",
    "fig.savefig(\"triangle.png\")"
   ]
  },
  {
   "cell_type": "code",
   "execution_count": 83,
   "metadata": {
    "ExecuteTime": {
     "end_time": "2018-10-08T08:08:44.252779Z",
     "start_time": "2018-10-08T08:08:43.848672Z"
    }
   },
   "outputs": [
    {
     "data": {
      "text/plain": [
       "<ErrorbarContainer object of 3 artists>"
      ]
     },
     "execution_count": 83,
     "metadata": {},
     "output_type": "execute_result"
    },
    {
     "data": {
      "image/png": "[encoded data removed]",
      "text/plain": [
       "<Figure size 576x576 with 1 Axes>"
      ]
     },
     "metadata": {
      "needs_background": "light"
     },
     "output_type": "display_data"
    }
   ],
   "source": [
    "import matplotlib.pyplot as plt\n",
    "\n",
    "plt.figure(figsize=(8,8))\n",
    "xl = np.array([0, 10])\n",
    "\n",
    "xs = np.linspace(0,180,100)\n",
    "ys = m_ls*xs + b_ls\n",
    "ym = m_ml*xs + b_ml\n",
    "\n",
    "#plt.errorbar(anglen, lnM, yerr=lnMs)\n",
    "#plt.plot(xs, ys)\n",
    "#plt.plot(xs, ym)\n",
    "\n",
    "for m, b, lnf in samples[np.random.randint(len(samples), size=100)]:\n",
    "    plt.plot(xs, m*xs + b, color=\"k\", alpha=0.1)\n",
    "    \n",
    "plt.plot(xs, m_ls*xs + b_ls, color=\"r\", lw=2, alpha=0.8)\n",
    "\n",
    "plt.errorbar(anglen, lnM, yerr=lnMs, fmt=\".k\")"
   ]
  },
  {
   "cell_type": "code",
   "execution_count": 84,
   "metadata": {
    "ExecuteTime": {
     "end_time": "2018-10-08T08:08:47.650575Z",
     "start_time": "2018-10-08T08:08:47.417833Z"
    }
   },
   "outputs": [
    {
     "name": "stdout",
     "output_type": "stream",
     "text": [
      "(0.051598881617707586, 8.375754606054081e-05, 7.780762862719809e-05)\n",
      "(76.19521877819443, 0.00011011817028361293, 7.814735953104446e-05)\n",
      "(0.004931515505483796, 4.994113698376587e-07, 5.068980358452838e-07)\n"
     ]
    },
    {
     "data": {
      "text/plain": [
       "<matplotlib.collections.PolyCollection at 0x7f443ed5eba8>"
      ]
     },
     "execution_count": 84,
     "metadata": {},
     "output_type": "execute_result"
    },
    {
     "data": {
      "image/png": "[encoded data removed]",
      "text/plain": [
       "<Figure size 720x720 with 1 Axes>"
      ]
     },
     "metadata": {
      "needs_background": "light"
     },
     "output_type": "display_data"
    }
   ],
   "source": [
    "samples[:, 2] = np.exp(samples[:, 2])\n",
    "m_mcmc, b_mcmc, f_mcmc = map(lambda v: (v[1], v[2]-v[1], v[1]-v[0]),\n",
    "                             zip(*np.percentile(samples, [16, 50, 84],\n",
    "                                                axis=0)))\n",
    "print(m_mcmc)\n",
    "print(b_mcmc)\n",
    "print(f_mcmc)\n",
    "plt.figure(figsize=(10,10))\n",
    "\n",
    "plt.errorbar(anglen, lnM, yerr=lnMs, fmt=\".k\")\n",
    "#plt.plot(xs, xs*m_mcmc[0] + b_mcmc[0])\n",
    "\n",
    "plt.fill_between(xs, xs*(m_mcmc[0]+m_mcmc[1])+ b_mcmc[0]+b_mcmc[1], xs*(m_mcmc[0]-m_mcmc[1])+ b_mcmc[0]-b_mcmc[1], alpha= 0.5)"
   ]
  }
 ],
 "metadata": {
  "hide_input": false,
  "kernelspec": {
   "display_name": "Python 3",
   "language": "python",
   "name": "python3"
  },
  "language_info": {
   "codemirror_mode": {
    "name": "ipython",
    "version": 3
   },
   "file_extension": ".py",
   "mimetype": "text/x-python",
   "name": "python",
   "nbconvert_exporter": "python",
   "pygments_lexer": "ipython3",
   "version": "3.6.6"
  },
  "latex_envs": {
   "LaTeX_envs_menu_present": true,
   "autoclose": false,
   "autocomplete": true,
   "bibliofile": "biblio.bib",
   "cite_by": "apalike",
   "current_citInitial": 1,
   "eqLabelWithNumbers": true,
   "eqNumInitial": 1,
   "hotkeys": {
    "equation": "Ctrl-E",
    "itemize": "Ctrl-I"
   },
   "labels_anchors": false,
   "latex_user_defs": false,
   "report_style_numbering": false,
   "user_envs_cfg": false
  },
  "toc": {
   "base_numbering": 1,
   "nav_menu": {},
   "number_sections": true,
   "sideBar": true,
   "skip_h1_title": false,
   "title_cell": "Table of Contents",
   "title_sidebar": "Contents",
   "toc_cell": false,
   "toc_position": {},
   "toc_section_display": true,
   "toc_window_display": false
  },
  "varInspector": {
   "cols": {
    "lenName": 16,
    "lenType": 16,
    "lenVar": 40
   },
   "kernels_config": {
    "python": {
     "delete_cmd_postfix": "",
     "delete_cmd_prefix": "del ",
     "library": "var_list.py",
     "varRefreshCmd": "print(var_dic_list())"
    },
    "r": {
     "delete_cmd_postfix": ") ",
     "delete_cmd_prefix": "rm(",
     "library": "var_list.r",
     "varRefreshCmd": "cat(var_dic_list()) "
    }
   },
   "types_to_exclude": [
    "module",
    "function",
    "builtin_function_or_method",
    "instance",
    "_Feature"
   ],
   "window_display": false
  }
 },
 "nbformat": 4,
 "nbformat_minor": 2
}
