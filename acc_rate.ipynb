{
 "cells": [
  {
   "cell_type": "code",
   "execution_count": 37,
   "metadata": {
    "ExecuteTime": {
     "end_time": "2018-10-05T12:06:04.742599Z",
     "start_time": "2018-10-05T12:06:04.738643Z"
    }
   },
   "outputs": [],
   "source": [
    "import numpy as np\n",
    "import matplotlib.pyplot as plt\n",
    "import Gadget_pack.units as unt\n",
    "import pandas as pd"
   ]
  },
  {
   "cell_type": "code",
   "execution_count": 38,
   "metadata": {
    "ExecuteTime": {
     "end_time": "2018-10-05T12:06:07.978249Z",
     "start_time": "2018-10-05T12:06:05.448072Z"
    }
   },
   "outputs": [],
   "source": [
    "acc_data = !ls ../acc_duomenys/\n",
    "acc_data=acc_data[1:]\n",
    "acc_data;"
   ]
  },
  {
   "cell_type": "code",
   "execution_count": 39,
   "metadata": {
    "ExecuteTime": {
     "end_time": "2018-10-05T12:06:08.106745Z",
     "start_time": "2018-10-05T12:06:08.006054Z"
    }
   },
   "outputs": [
    {
     "name": "stdout",
     "output_type": "stream",
     "text": [
      "fulldata[0,:] = time_list # codeunits\n",
      "fulldata[1,:] = mtot # g\n",
      "fulldata[2,:] = dm_dt # g/s\n",
      "fulldata[3,:] = Etot # erg\n",
      "fulldata[4,:] = Ld # erg/s\n",
      "fulldata[5,:] = Ld/Le # Eddingtons units\n"
     ]
    }
   ],
   "source": [
    "f = open('../acc_duomenys/acc_data_help.txt','r')\n",
    "for line in f:\n",
    "    print(line.strip())\n",
    "f.close()"
   ]
  },
  {
   "cell_type": "code",
   "execution_count": 40,
   "metadata": {
    "ExecuteTime": {
     "end_time": "2018-10-05T12:06:12.979371Z",
     "start_time": "2018-10-05T12:06:12.955175Z"
    }
   },
   "outputs": [],
   "source": [
    "#laikas istikro kazkodel sekundem o ne kodo vienetais\n",
    "t = np.loadtxt(\"../acc_duomenys/\" + acc_data[0])[0,:]\n",
    "t / unt.yr_in_s;# * unt.UnitTime_in_s / unt.yr_in_s\n",
    "t = np.array(t)"
   ]
  },
  {
   "cell_type": "code",
   "execution_count": 44,
   "metadata": {
    "ExecuteTime": {
     "end_time": "2018-10-05T12:07:36.776929Z",
     "start_time": "2018-10-05T12:07:36.767136Z"
    }
   },
   "outputs": [],
   "source": [
    "\n",
    "def get_total_mass(acc_data):\n",
    "    mtot = np.zeros(len(acc_data))\n",
    "    for i in range(len(acc_data)):\n",
    "        m = np.loadtxt(\"../acc_duomenys/\"+acc_data[i])\n",
    "        mtot[i] = m[1,-1]\n",
    "    return mtot\n",
    "    "
   ]
  },
  {
   "cell_type": "code",
   "execution_count": 45,
   "metadata": {
    "ExecuteTime": {
     "end_time": "2018-10-05T12:07:38.050256Z",
     "start_time": "2018-10-05T12:07:37.826177Z"
    }
   },
   "outputs": [],
   "source": [
    "mt = get_total_mass(acc_data)\n",
    "#mtang = mt.copy().reshape(12,4)\n",
    "angle = np.arange(0,181,15)\n",
    "#anglesn = (np.ones(4)[np.newaxis,:]*angle[angle!=165, np.newaxis]).T"
   ]
  },
  {
   "cell_type": "code",
   "execution_count": 3,
   "metadata": {
    "ExecuteTime": {
     "end_time": "2018-10-05T10:27:23.369974Z",
     "start_time": "2018-10-05T10:27:23.365748Z"
    }
   },
   "outputs": [],
   "source": [
    "mtang = np.load(\"total_acc_mass.npy\")"
   ]
  },
  {
   "cell_type": "code",
   "execution_count": 23,
   "metadata": {
    "ExecuteTime": {
     "end_time": "2018-10-05T06:11:34.212929Z",
     "start_time": "2018-10-05T06:11:34.163891Z"
    }
   },
   "outputs": [
    {
     "data": {
      "application/javascript": [
       "/* Put everything inside the global mpl namespace */\n",
       "window.mpl = {};\n",
       "\n",
       "\n",
       "mpl.get_websocket_type = function() {\n",
       "    if (typeof(WebSocket) !== 'undefined') {\n",
       "        return WebSocket;\n",
       "    } else if (typeof(MozWebSocket) !== 'undefined') {\n",
       "        return MozWebSocket;\n",
       "    } else {\n",
       "        alert('Your browser does not have WebSocket support.' +\n",
       "              'Please try Chrome, Safari or Firefox ≥ 6. ' +\n",
       "              'Firefox 4 and 5 are also supported but you ' +\n",
       "              'have to enable WebSockets in about:config.');\n",
       "    };\n",
       "}\n",
       "\n",
       "mpl.figure = function(figure_id, websocket, ondownload, parent_element) {\n",
       "    this.id = figure_id;\n",
       "\n",
       "    this.ws = websocket;\n",
       "\n",
       "    this.supports_binary = (this.ws.binaryType != undefined);\n",
       "\n",
       "    if (!this.supports_binary) {\n",
       "        var warnings = document.getElementById(\"mpl-warnings\");\n",
       "        if (warnings) {\n",
       "            warnings.style.display = 'block';\n",
       "            warnings.textContent = (\n",
       "                \"This browser does not support binary websocket messages. \" +\n",
       "                    \"Performance may be slow.\");\n",
       "        }\n",
       "    }\n",
       "\n",
       "    this.imageObj = new Image();\n",
       "\n",
       "    this.context = undefined;\n",
       "    this.message = undefined;\n",
       "    this.canvas = undefined;\n",
       "    this.rubberband_canvas = undefined;\n",
       "    this.rubberband_context = undefined;\n",
       "    this.format_dropdown = undefined;\n",
       "\n",
       "    this.image_mode = 'full';\n",
       "\n",
       "    this.root = $('<div/>');\n",
       "    this._root_extra_style(this.root)\n",
       "    this.root.attr('style', 'display: inline-block');\n",
       "\n",
       "    $(parent_element).append(this.root);\n",
       "\n",
       "    this._init_header(this);\n",
       "    this._init_canvas(this);\n",
       "    this._init_toolbar(this);\n",
       "\n",
       "    var fig = this;\n",
       "\n",
       "    this.waiting = false;\n",
       "\n",
       "    this.ws.onopen =  function () {\n",
       "            fig.send_message(\"supports_binary\", {value: fig.supports_binary});\n",
       "            fig.send_message(\"send_image_mode\", {});\n",
       "            if (mpl.ratio != 1) {\n",
       "                fig.send_message(\"set_dpi_ratio\", {'dpi_ratio': mpl.ratio});\n",
       "            }\n",
       "            fig.send_message(\"refresh\", {});\n",
       "        }\n",
       "\n",
       "    this.imageObj.onload = function() {\n",
       "            if (fig.image_mode == 'full') {\n",
       "                // Full images could contain transparency (where diff images\n",
       "                // almost always do), so we need to clear the canvas so that\n",
       "                // there is no ghosting.\n",
       "                fig.context.clearRect(0, 0, fig.canvas.width, fig.canvas.height);\n",
       "            }\n",
       "            fig.context.drawImage(fig.imageObj, 0, 0);\n",
       "        };\n",
       "\n",
       "    this.imageObj.onunload = function() {\n",
       "        fig.ws.close();\n",
       "    }\n",
       "\n",
       "    this.ws.onmessage = this._make_on_message_function(this);\n",
       "\n",
       "    this.ondownload = ondownload;\n",
       "}\n",
       "\n",
       "mpl.figure.prototype._init_header = function() {\n",
       "    var titlebar = $(\n",
       "        '<div class=\"ui-dialog-titlebar ui-widget-header ui-corner-all ' +\n",
       "        'ui-helper-clearfix\"/>');\n",
       "    var titletext = $(\n",
       "        '<div class=\"ui-dialog-title\" style=\"width: 100%; ' +\n",
       "        'text-align: center; padding: 3px;\"/>');\n",
       "    titlebar.append(titletext)\n",
       "    this.root.append(titlebar);\n",
       "    this.header = titletext[0];\n",
       "}\n",
       "\n",
       "\n",
       "\n",
       "mpl.figure.prototype._canvas_extra_style = function(canvas_div) {\n",
       "\n",
       "}\n",
       "\n",
       "\n",
       "mpl.figure.prototype._root_extra_style = function(canvas_div) {\n",
       "\n",
       "}\n",
       "\n",
       "mpl.figure.prototype._init_canvas = function() {\n",
       "    var fig = this;\n",
       "\n",
       "    var canvas_div = $('<div/>');\n",
       "\n",
       "    canvas_div.attr('style', 'position: relative; clear: both; outline: 0');\n",
       "\n",
       "    function canvas_keyboard_event(event) {\n",
       "        return fig.key_event(event, event['data']);\n",
       "    }\n",
       "\n",
       "    canvas_div.keydown('key_press', canvas_keyboard_event);\n",
       "    canvas_div.keyup('key_release', canvas_keyboard_event);\n",
       "    this.canvas_div = canvas_div\n",
       "    this._canvas_extra_style(canvas_div)\n",
       "    this.root.append(canvas_div);\n",
       "\n",
       "    var canvas = $('<canvas/>');\n",
       "    canvas.addClass('mpl-canvas');\n",
       "    canvas.attr('style', \"left: 0; top: 0; z-index: 0; outline: 0\")\n",
       "\n",
       "    this.canvas = canvas[0];\n",
       "    this.context = canvas[0].getContext(\"2d\");\n",
       "\n",
       "    var backingStore = this.context.backingStorePixelRatio ||\n",
       "\tthis.context.webkitBackingStorePixelRatio ||\n",
       "\tthis.context.mozBackingStorePixelRatio ||\n",
       "\tthis.context.msBackingStorePixelRatio ||\n",
       "\tthis.context.oBackingStorePixelRatio ||\n",
       "\tthis.context.backingStorePixelRatio || 1;\n",
       "\n",
       "    mpl.ratio = (window.devicePixelRatio || 1) / backingStore;\n",
       "\n",
       "    var rubberband = $('<canvas/>');\n",
       "    rubberband.attr('style', \"position: absolute; left: 0; top: 0; z-index: 1;\")\n",
       "\n",
       "    var pass_mouse_events = true;\n",
       "\n",
       "    canvas_div.resizable({\n",
       "        start: function(event, ui) {\n",
       "            pass_mouse_events = false;\n",
       "        },\n",
       "        resize: function(event, ui) {\n",
       "            fig.request_resize(ui.size.width, ui.size.height);\n",
       "        },\n",
       "        stop: function(event, ui) {\n",
       "            pass_mouse_events = true;\n",
       "            fig.request_resize(ui.size.width, ui.size.height);\n",
       "        },\n",
       "    });\n",
       "\n",
       "    function mouse_event_fn(event) {\n",
       "        if (pass_mouse_events)\n",
       "            return fig.mouse_event(event, event['data']);\n",
       "    }\n",
       "\n",
       "    rubberband.mousedown('button_press', mouse_event_fn);\n",
       "    rubberband.mouseup('button_release', mouse_event_fn);\n",
       "    // Throttle sequential mouse events to 1 every 20ms.\n",
       "    rubberband.mousemove('motion_notify', mouse_event_fn);\n",
       "\n",
       "    rubberband.mouseenter('figure_enter', mouse_event_fn);\n",
       "    rubberband.mouseleave('figure_leave', mouse_event_fn);\n",
       "\n",
       "    canvas_div.on(\"wheel\", function (event) {\n",
       "        event = event.originalEvent;\n",
       "        event['data'] = 'scroll'\n",
       "        if (event.deltaY < 0) {\n",
       "            event.step = 1;\n",
       "        } else {\n",
       "            event.step = -1;\n",
       "        }\n",
       "        mouse_event_fn(event);\n",
       "    });\n",
       "\n",
       "    canvas_div.append(canvas);\n",
       "    canvas_div.append(rubberband);\n",
       "\n",
       "    this.rubberband = rubberband;\n",
       "    this.rubberband_canvas = rubberband[0];\n",
       "    this.rubberband_context = rubberband[0].getContext(\"2d\");\n",
       "    this.rubberband_context.strokeStyle = \"#000000\";\n",
       "\n",
       "    this._resize_canvas = function(width, height) {\n",
       "        // Keep the size of the canvas, canvas container, and rubber band\n",
       "        // canvas in synch.\n",
       "        canvas_div.css('width', width)\n",
       "        canvas_div.css('height', height)\n",
       "\n",
       "        canvas.attr('width', width * mpl.ratio);\n",
       "        canvas.attr('height', height * mpl.ratio);\n",
       "        canvas.attr('style', 'width: ' + width + 'px; height: ' + height + 'px;');\n",
       "\n",
       "        rubberband.attr('width', width);\n",
       "        rubberband.attr('height', height);\n",
       "    }\n",
       "\n",
       "    // Set the figure to an initial 600x600px, this will subsequently be updated\n",
       "    // upon first draw.\n",
       "    this._resize_canvas(600, 600);\n",
       "\n",
       "    // Disable right mouse context menu.\n",
       "    $(this.rubberband_canvas).bind(\"contextmenu\",function(e){\n",
       "        return false;\n",
       "    });\n",
       "\n",
       "    function set_focus () {\n",
       "        canvas.focus();\n",
       "        canvas_div.focus();\n",
       "    }\n",
       "\n",
       "    window.setTimeout(set_focus, 100);\n",
       "}\n",
       "\n",
       "mpl.figure.prototype._init_toolbar = function() {\n",
       "    var fig = this;\n",
       "\n",
       "    var nav_element = $('<div/>')\n",
       "    nav_element.attr('style', 'width: 100%');\n",
       "    this.root.append(nav_element);\n",
       "\n",
       "    // Define a callback function for later on.\n",
       "    function toolbar_event(event) {\n",
       "        return fig.toolbar_button_onclick(event['data']);\n",
       "    }\n",
       "    function toolbar_mouse_event(event) {\n",
       "        return fig.toolbar_button_onmouseover(event['data']);\n",
       "    }\n",
       "\n",
       "    for(var toolbar_ind in mpl.toolbar_items) {\n",
       "        var name = mpl.toolbar_items[toolbar_ind][0];\n",
       "        var tooltip = mpl.toolbar_items[toolbar_ind][1];\n",
       "        var image = mpl.toolbar_items[toolbar_ind][2];\n",
       "        var method_name = mpl.toolbar_items[toolbar_ind][3];\n",
       "\n",
       "        if (!name) {\n",
       "            // put a spacer in here.\n",
       "            continue;\n",
       "        }\n",
       "        var button = $('<button/>');\n",
       "        button.addClass('ui-button ui-widget ui-state-default ui-corner-all ' +\n",
       "                        'ui-button-icon-only');\n",
       "        button.attr('role', 'button');\n",
       "        button.attr('aria-disabled', 'false');\n",
       "        button.click(method_name, toolbar_event);\n",
       "        button.mouseover(tooltip, toolbar_mouse_event);\n",
       "\n",
       "        var icon_img = $('<span/>');\n",
       "        icon_img.addClass('ui-button-icon-primary ui-icon');\n",
       "        icon_img.addClass(image);\n",
       "        icon_img.addClass('ui-corner-all');\n",
       "\n",
       "        var tooltip_span = $('<span/>');\n",
       "        tooltip_span.addClass('ui-button-text');\n",
       "        tooltip_span.html(tooltip);\n",
       "\n",
       "        button.append(icon_img);\n",
       "        button.append(tooltip_span);\n",
       "\n",
       "        nav_element.append(button);\n",
       "    }\n",
       "\n",
       "    var fmt_picker_span = $('<span/>');\n",
       "\n",
       "    var fmt_picker = $('<select/>');\n",
       "    fmt_picker.addClass('mpl-toolbar-option ui-widget ui-widget-content');\n",
       "    fmt_picker_span.append(fmt_picker);\n",
       "    nav_element.append(fmt_picker_span);\n",
       "    this.format_dropdown = fmt_picker[0];\n",
       "\n",
       "    for (var ind in mpl.extensions) {\n",
       "        var fmt = mpl.extensions[ind];\n",
       "        var option = $(\n",
       "            '<option/>', {selected: fmt === mpl.default_extension}).html(fmt);\n",
       "        fmt_picker.append(option)\n",
       "    }\n",
       "\n",
       "    // Add hover states to the ui-buttons\n",
       "    $( \".ui-button\" ).hover(\n",
       "        function() { $(this).addClass(\"ui-state-hover\");},\n",
       "        function() { $(this).removeClass(\"ui-state-hover\");}\n",
       "    );\n",
       "\n",
       "    var status_bar = $('<span class=\"mpl-message\"/>');\n",
       "    nav_element.append(status_bar);\n",
       "    this.message = status_bar[0];\n",
       "}\n",
       "\n",
       "mpl.figure.prototype.request_resize = function(x_pixels, y_pixels) {\n",
       "    // Request matplotlib to resize the figure. Matplotlib will then trigger a resize in the client,\n",
       "    // which will in turn request a refresh of the image.\n",
       "    this.send_message('resize', {'width': x_pixels, 'height': y_pixels});\n",
       "}\n",
       "\n",
       "mpl.figure.prototype.send_message = function(type, properties) {\n",
       "    properties['type'] = type;\n",
       "    properties['figure_id'] = this.id;\n",
       "    this.ws.send(JSON.stringify(properties));\n",
       "}\n",
       "\n",
       "mpl.figure.prototype.send_draw_message = function() {\n",
       "    if (!this.waiting) {\n",
       "        this.waiting = true;\n",
       "        this.ws.send(JSON.stringify({type: \"draw\", figure_id: this.id}));\n",
       "    }\n",
       "}\n",
       "\n",
       "\n",
       "mpl.figure.prototype.handle_save = function(fig, msg) {\n",
       "    var format_dropdown = fig.format_dropdown;\n",
       "    var format = format_dropdown.options[format_dropdown.selectedIndex].value;\n",
       "    fig.ondownload(fig, format);\n",
       "}\n",
       "\n",
       "\n",
       "mpl.figure.prototype.handle_resize = function(fig, msg) {\n",
       "    var size = msg['size'];\n",
       "    if (size[0] != fig.canvas.width || size[1] != fig.canvas.height) {\n",
       "        fig._resize_canvas(size[0], size[1]);\n",
       "        fig.send_message(\"refresh\", {});\n",
       "    };\n",
       "}\n",
       "\n",
       "mpl.figure.prototype.handle_rubberband = function(fig, msg) {\n",
       "    var x0 = msg['x0'] / mpl.ratio;\n",
       "    var y0 = (fig.canvas.height - msg['y0']) / mpl.ratio;\n",
       "    var x1 = msg['x1'] / mpl.ratio;\n",
       "    var y1 = (fig.canvas.height - msg['y1']) / mpl.ratio;\n",
       "    x0 = Math.floor(x0) + 0.5;\n",
       "    y0 = Math.floor(y0) + 0.5;\n",
       "    x1 = Math.floor(x1) + 0.5;\n",
       "    y1 = Math.floor(y1) + 0.5;\n",
       "    var min_x = Math.min(x0, x1);\n",
       "    var min_y = Math.min(y0, y1);\n",
       "    var width = Math.abs(x1 - x0);\n",
       "    var height = Math.abs(y1 - y0);\n",
       "\n",
       "    fig.rubberband_context.clearRect(\n",
       "        0, 0, fig.canvas.width, fig.canvas.height);\n",
       "\n",
       "    fig.rubberband_context.strokeRect(min_x, min_y, width, height);\n",
       "}\n",
       "\n",
       "mpl.figure.prototype.handle_figure_label = function(fig, msg) {\n",
       "    // Updates the figure title.\n",
       "    fig.header.textContent = msg['label'];\n",
       "}\n",
       "\n",
       "mpl.figure.prototype.handle_cursor = function(fig, msg) {\n",
       "    var cursor = msg['cursor'];\n",
       "    switch(cursor)\n",
       "    {\n",
       "    case 0:\n",
       "        cursor = 'pointer';\n",
       "        break;\n",
       "    case 1:\n",
       "        cursor = 'default';\n",
       "        break;\n",
       "    case 2:\n",
       "        cursor = 'crosshair';\n",
       "        break;\n",
       "    case 3:\n",
       "        cursor = 'move';\n",
       "        break;\n",
       "    }\n",
       "    fig.rubberband_canvas.style.cursor = cursor;\n",
       "}\n",
       "\n",
       "mpl.figure.prototype.handle_message = function(fig, msg) {\n",
       "    fig.message.textContent = msg['message'];\n",
       "}\n",
       "\n",
       "mpl.figure.prototype.handle_draw = function(fig, msg) {\n",
       "    // Request the server to send over a new figure.\n",
       "    fig.send_draw_message();\n",
       "}\n",
       "\n",
       "mpl.figure.prototype.handle_image_mode = function(fig, msg) {\n",
       "    fig.image_mode = msg['mode'];\n",
       "}\n",
       "\n",
       "mpl.figure.prototype.updated_canvas_event = function() {\n",
       "    // Called whenever the canvas gets updated.\n",
       "    this.send_message(\"ack\", {});\n",
       "}\n",
       "\n",
       "// A function to construct a web socket function for onmessage handling.\n",
       "// Called in the figure constructor.\n",
       "mpl.figure.prototype._make_on_message_function = function(fig) {\n",
       "    return function socket_on_message(evt) {\n",
       "        if (evt.data instanceof Blob) {\n",
       "            /* FIXME: We get \"Resource interpreted as Image but\n",
       "             * transferred with MIME type text/plain:\" errors on\n",
       "             * Chrome.  But how to set the MIME type?  It doesn't seem\n",
       "             * to be part of the websocket stream */\n",
       "            evt.data.type = \"image/png\";\n",
       "\n",
       "            /* Free the memory for the previous frames */\n",
       "            if (fig.imageObj.src) {\n",
       "                (window.URL || window.webkitURL).revokeObjectURL(\n",
       "                    fig.imageObj.src);\n",
       "            }\n",
       "\n",
       "            fig.imageObj.src = (window.URL || window.webkitURL).createObjectURL(\n",
       "                evt.data);\n",
       "            fig.updated_canvas_event();\n",
       "            fig.waiting = false;\n",
       "            return;\n",
       "        }\n",
       "        else if (typeof evt.data === 'string' && evt.data.slice(0, 21) == \"data:image/png;base64\") {\n",
       "            fig.imageObj.src = evt.data;\n",
       "            fig.updated_canvas_event();\n",
       "            fig.waiting = false;\n",
       "            return;\n",
       "        }\n",
       "\n",
       "        var msg = JSON.parse(evt.data);\n",
       "        var msg_type = msg['type'];\n",
       "\n",
       "        // Call the  \"handle_{type}\" callback, which takes\n",
       "        // the figure and JSON message as its only arguments.\n",
       "        try {\n",
       "            var callback = fig[\"handle_\" + msg_type];\n",
       "        } catch (e) {\n",
       "            console.log(\"No handler for the '\" + msg_type + \"' message type: \", msg);\n",
       "            return;\n",
       "        }\n",
       "\n",
       "        if (callback) {\n",
       "            try {\n",
       "                // console.log(\"Handling '\" + msg_type + \"' message: \", msg);\n",
       "                callback(fig, msg);\n",
       "            } catch (e) {\n",
       "                console.log(\"Exception inside the 'handler_\" + msg_type + \"' callback:\", e, e.stack, msg);\n",
       "            }\n",
       "        }\n",
       "    };\n",
       "}\n",
       "\n",
       "// from http://stackoverflow.com/questions/1114465/getting-mouse-location-in-canvas\n",
       "mpl.findpos = function(e) {\n",
       "    //this section is from http://www.quirksmode.org/js/events_properties.html\n",
       "    var targ;\n",
       "    if (!e)\n",
       "        e = window.event;\n",
       "    if (e.target)\n",
       "        targ = e.target;\n",
       "    else if (e.srcElement)\n",
       "        targ = e.srcElement;\n",
       "    if (targ.nodeType == 3) // defeat Safari bug\n",
       "        targ = targ.parentNode;\n",
       "\n",
       "    // jQuery normalizes the pageX and pageY\n",
       "    // pageX,Y are the mouse positions relative to the document\n",
       "    // offset() returns the position of the element relative to the document\n",
       "    var x = e.pageX - $(targ).offset().left;\n",
       "    var y = e.pageY - $(targ).offset().top;\n",
       "\n",
       "    return {\"x\": x, \"y\": y};\n",
       "};\n",
       "\n",
       "/*\n",
       " * return a copy of an object with only non-object keys\n",
       " * we need this to avoid circular references\n",
       " * http://stackoverflow.com/a/24161582/3208463\n",
       " */\n",
       "function simpleKeys (original) {\n",
       "  return Object.keys(original).reduce(function (obj, key) {\n",
       "    if (typeof original[key] !== 'object')\n",
       "        obj[key] = original[key]\n",
       "    return obj;\n",
       "  }, {});\n",
       "}\n",
       "\n",
       "mpl.figure.prototype.mouse_event = function(event, name) {\n",
       "    var canvas_pos = mpl.findpos(event)\n",
       "\n",
       "    if (name === 'button_press')\n",
       "    {\n",
       "        this.canvas.focus();\n",
       "        this.canvas_div.focus();\n",
       "    }\n",
       "\n",
       "    var x = canvas_pos.x * mpl.ratio;\n",
       "    var y = canvas_pos.y * mpl.ratio;\n",
       "\n",
       "    this.send_message(name, {x: x, y: y, button: event.button,\n",
       "                             step: event.step,\n",
       "                             guiEvent: simpleKeys(event)});\n",
       "\n",
       "    /* This prevents the web browser from automatically changing to\n",
       "     * the text insertion cursor when the button is pressed.  We want\n",
       "     * to control all of the cursor setting manually through the\n",
       "     * 'cursor' event from matplotlib */\n",
       "    event.preventDefault();\n",
       "    return false;\n",
       "}\n",
       "\n",
       "mpl.figure.prototype._key_event_extra = function(event, name) {\n",
       "    // Handle any extra behaviour associated with a key event\n",
       "}\n",
       "\n",
       "mpl.figure.prototype.key_event = function(event, name) {\n",
       "\n",
       "    // Prevent repeat events\n",
       "    if (name == 'key_press')\n",
       "    {\n",
       "        if (event.which === this._key)\n",
       "            return;\n",
       "        else\n",
       "            this._key = event.which;\n",
       "    }\n",
       "    if (name == 'key_release')\n",
       "        this._key = null;\n",
       "\n",
       "    var value = '';\n",
       "    if (event.ctrlKey && event.which != 17)\n",
       "        value += \"ctrl+\";\n",
       "    if (event.altKey && event.which != 18)\n",
       "        value += \"alt+\";\n",
       "    if (event.shiftKey && event.which != 16)\n",
       "        value += \"shift+\";\n",
       "\n",
       "    value += 'k';\n",
       "    value += event.which.toString();\n",
       "\n",
       "    this._key_event_extra(event, name);\n",
       "\n",
       "    this.send_message(name, {key: value,\n",
       "                             guiEvent: simpleKeys(event)});\n",
       "    return false;\n",
       "}\n",
       "\n",
       "mpl.figure.prototype.toolbar_button_onclick = function(name) {\n",
       "    if (name == 'download') {\n",
       "        this.handle_save(this, null);\n",
       "    } else {\n",
       "        this.send_message(\"toolbar_button\", {name: name});\n",
       "    }\n",
       "};\n",
       "\n",
       "mpl.figure.prototype.toolbar_button_onmouseover = function(tooltip) {\n",
       "    this.message.textContent = tooltip;\n",
       "};\n",
       "mpl.toolbar_items = [[\"Home\", \"Reset original view\", \"fa fa-home icon-home\", \"home\"], [\"Back\", \"Back to  previous view\", \"fa fa-arrow-left icon-arrow-left\", \"back\"], [\"Forward\", \"Forward to next view\", \"fa fa-arrow-right icon-arrow-right\", \"forward\"], [\"\", \"\", \"\", \"\"], [\"Pan\", \"Pan axes with left mouse, zoom with right\", \"fa fa-arrows icon-move\", \"pan\"], [\"Zoom\", \"Zoom to rectangle\", \"fa fa-square-o icon-check-empty\", \"zoom\"], [\"\", \"\", \"\", \"\"], [\"Download\", \"Download plot\", \"fa fa-floppy-o icon-save\", \"download\"]];\n",
       "\n",
       "mpl.extensions = [\"eps\", \"jpeg\", \"pdf\", \"png\", \"ps\", \"raw\", \"svg\", \"tif\"];\n",
       "\n",
       "mpl.default_extension = \"png\";var comm_websocket_adapter = function(comm) {\n",
       "    // Create a \"websocket\"-like object which calls the given IPython comm\n",
       "    // object with the appropriate methods. Currently this is a non binary\n",
       "    // socket, so there is still some room for performance tuning.\n",
       "    var ws = {};\n",
       "\n",
       "    ws.close = function() {\n",
       "        comm.close()\n",
       "    };\n",
       "    ws.send = function(m) {\n",
       "        //console.log('sending', m);\n",
       "        comm.send(m);\n",
       "    };\n",
       "    // Register the callback with on_msg.\n",
       "    comm.on_msg(function(msg) {\n",
       "        //console.log('receiving', msg['content']['data'], msg);\n",
       "        // Pass the mpl event to the overridden (by mpl) onmessage function.\n",
       "        ws.onmessage(msg['content']['data'])\n",
       "    });\n",
       "    return ws;\n",
       "}\n",
       "\n",
       "mpl.mpl_figure_comm = function(comm, msg) {\n",
       "    // This is the function which gets called when the mpl process\n",
       "    // starts-up an IPython Comm through the \"matplotlib\" channel.\n",
       "\n",
       "    var id = msg.content.data.id;\n",
       "    // Get hold of the div created by the display call when the Comm\n",
       "    // socket was opened in Python.\n",
       "    var element = $(\"#\" + id);\n",
       "    var ws_proxy = comm_websocket_adapter(comm)\n",
       "\n",
       "    function ondownload(figure, format) {\n",
       "        window.open(figure.imageObj.src);\n",
       "    }\n",
       "\n",
       "    var fig = new mpl.figure(id, ws_proxy,\n",
       "                           ondownload,\n",
       "                           element.get(0));\n",
       "\n",
       "    // Call onopen now - mpl needs it, as it is assuming we've passed it a real\n",
       "    // web socket which is closed, not our websocket->open comm proxy.\n",
       "    ws_proxy.onopen();\n",
       "\n",
       "    fig.parent_element = element.get(0);\n",
       "    fig.cell_info = mpl.find_output_cell(\"<div id='\" + id + \"'></div>\");\n",
       "    if (!fig.cell_info) {\n",
       "        console.error(\"Failed to find cell for figure\", id, fig);\n",
       "        return;\n",
       "    }\n",
       "\n",
       "    var output_index = fig.cell_info[2]\n",
       "    var cell = fig.cell_info[0];\n",
       "\n",
       "};\n",
       "\n",
       "mpl.figure.prototype.handle_close = function(fig, msg) {\n",
       "    var width = fig.canvas.width/mpl.ratio\n",
       "    fig.root.unbind('remove')\n",
       "\n",
       "    // Update the output cell to use the data from the current canvas.\n",
       "    fig.push_to_output();\n",
       "    var dataURL = fig.canvas.toDataURL();\n",
       "    // Re-enable the keyboard manager in IPython - without this line, in FF,\n",
       "    // the notebook keyboard shortcuts fail.\n",
       "    IPython.keyboard_manager.enable()\n",
       "    $(fig.parent_element).html('<img src=\"' + dataURL + '\" width=\"' + width + '\">');\n",
       "    fig.close_ws(fig, msg);\n",
       "}\n",
       "\n",
       "mpl.figure.prototype.close_ws = function(fig, msg){\n",
       "    fig.send_message('closing', msg);\n",
       "    // fig.ws.close()\n",
       "}\n",
       "\n",
       "mpl.figure.prototype.push_to_output = function(remove_interactive) {\n",
       "    // Turn the data on the canvas into data in the output cell.\n",
       "    var width = this.canvas.width/mpl.ratio\n",
       "    var dataURL = this.canvas.toDataURL();\n",
       "    this.cell_info[1]['text/html'] = '<img src=\"' + dataURL + '\" width=\"' + width + '\">';\n",
       "}\n",
       "\n",
       "mpl.figure.prototype.updated_canvas_event = function() {\n",
       "    // Tell IPython that the notebook contents must change.\n",
       "    IPython.notebook.set_dirty(true);\n",
       "    this.send_message(\"ack\", {});\n",
       "    var fig = this;\n",
       "    // Wait a second, then push the new image to the DOM so\n",
       "    // that it is saved nicely (might be nice to debounce this).\n",
       "    setTimeout(function () { fig.push_to_output() }, 1000);\n",
       "}\n",
       "\n",
       "mpl.figure.prototype._init_toolbar = function() {\n",
       "    var fig = this;\n",
       "\n",
       "    var nav_element = $('<div/>')\n",
       "    nav_element.attr('style', 'width: 100%');\n",
       "    this.root.append(nav_element);\n",
       "\n",
       "    // Define a callback function for later on.\n",
       "    function toolbar_event(event) {\n",
       "        return fig.toolbar_button_onclick(event['data']);\n",
       "    }\n",
       "    function toolbar_mouse_event(event) {\n",
       "        return fig.toolbar_button_onmouseover(event['data']);\n",
       "    }\n",
       "\n",
       "    for(var toolbar_ind in mpl.toolbar_items){\n",
       "        var name = mpl.toolbar_items[toolbar_ind][0];\n",
       "        var tooltip = mpl.toolbar_items[toolbar_ind][1];\n",
       "        var image = mpl.toolbar_items[toolbar_ind][2];\n",
       "        var method_name = mpl.toolbar_items[toolbar_ind][3];\n",
       "\n",
       "        if (!name) { continue; };\n",
       "\n",
       "        var button = $('<button class=\"btn btn-default\" href=\"#\" title=\"' + name + '\"><i class=\"fa ' + image + ' fa-lg\"></i></button>');\n",
       "        button.click(method_name, toolbar_event);\n",
       "        button.mouseover(tooltip, toolbar_mouse_event);\n",
       "        nav_element.append(button);\n",
       "    }\n",
       "\n",
       "    // Add the status bar.\n",
       "    var status_bar = $('<span class=\"mpl-message\" style=\"text-align:right; float: right;\"/>');\n",
       "    nav_element.append(status_bar);\n",
       "    this.message = status_bar[0];\n",
       "\n",
       "    // Add the close button to the window.\n",
       "    var buttongrp = $('<div class=\"btn-group inline pull-right\"></div>');\n",
       "    var button = $('<button class=\"btn btn-mini btn-primary\" href=\"#\" title=\"Stop Interaction\"><i class=\"fa fa-power-off icon-remove icon-large\"></i></button>');\n",
       "    button.click(function (evt) { fig.handle_close(fig, {}); } );\n",
       "    button.mouseover('Stop Interaction', toolbar_mouse_event);\n",
       "    buttongrp.append(button);\n",
       "    var titlebar = this.root.find($('.ui-dialog-titlebar'));\n",
       "    titlebar.prepend(buttongrp);\n",
       "}\n",
       "\n",
       "mpl.figure.prototype._root_extra_style = function(el){\n",
       "    var fig = this\n",
       "    el.on(\"remove\", function(){\n",
       "\tfig.close_ws(fig, {});\n",
       "    });\n",
       "}\n",
       "\n",
       "mpl.figure.prototype._canvas_extra_style = function(el){\n",
       "    // this is important to make the div 'focusable\n",
       "    el.attr('tabindex', 0)\n",
       "    // reach out to IPython and tell the keyboard manager to turn it's self\n",
       "    // off when our div gets focus\n",
       "\n",
       "    // location in version 3\n",
       "    if (IPython.notebook.keyboard_manager) {\n",
       "        IPython.notebook.keyboard_manager.register_events(el);\n",
       "    }\n",
       "    else {\n",
       "        // location in version 2\n",
       "        IPython.keyboard_manager.register_events(el);\n",
       "    }\n",
       "\n",
       "}\n",
       "\n",
       "mpl.figure.prototype._key_event_extra = function(event, name) {\n",
       "    var manager = IPython.notebook.keyboard_manager;\n",
       "    if (!manager)\n",
       "        manager = IPython.keyboard_manager;\n",
       "\n",
       "    // Check for shift+enter\n",
       "    if (event.shiftKey && event.which == 13) {\n",
       "        this.canvas_div.blur();\n",
       "        event.shiftKey = false;\n",
       "        // Send a \"J\" for go to next cell\n",
       "        event.which = 74;\n",
       "        event.keyCode = 74;\n",
       "        manager.command_mode();\n",
       "        manager.handle_keydown(event);\n",
       "    }\n",
       "}\n",
       "\n",
       "mpl.figure.prototype.handle_save = function(fig, msg) {\n",
       "    fig.ondownload(fig, null);\n",
       "}\n",
       "\n",
       "\n",
       "mpl.find_output_cell = function(html_output) {\n",
       "    // Return the cell and output element which can be found *uniquely* in the notebook.\n",
       "    // Note - this is a bit hacky, but it is done because the \"notebook_saving.Notebook\"\n",
       "    // IPython event is triggered only after the cells have been serialised, which for\n",
       "    // our purposes (turning an active figure into a static one), is too late.\n",
       "    var cells = IPython.notebook.get_cells();\n",
       "    var ncells = cells.length;\n",
       "    for (var i=0; i<ncells; i++) {\n",
       "        var cell = cells[i];\n",
       "        if (cell.cell_type === 'code'){\n",
       "            for (var j=0; j<cell.output_area.outputs.length; j++) {\n",
       "                var data = cell.output_area.outputs[j];\n",
       "                if (data.data) {\n",
       "                    // IPython >= 3 moved mimebundle to data attribute of output\n",
       "                    data = data.data;\n",
       "                }\n",
       "                if (data['text/html'] == html_output) {\n",
       "                    return [cell, data, j];\n",
       "                }\n",
       "            }\n",
       "        }\n",
       "    }\n",
       "}\n",
       "\n",
       "// Register the function which deals with the matplotlib target/channel.\n",
       "// The kernel may be null if the page has been refreshed.\n",
       "if (IPython.notebook.kernel != null) {\n",
       "    IPython.notebook.kernel.comm_manager.register_target('matplotlib', mpl.mpl_figure_comm);\n",
       "}\n"
      ],
      "text/plain": [
       "<IPython.core.display.Javascript object>"
      ]
     },
     "metadata": {},
     "output_type": "display_data"
    },
    {
     "data": {
      "text/html": [
       "<img src=\"data:image/png;base64,iVBORw0KGgoAAAANSUhEUgAAAoAAAAHgCAYAAAA10dzkAAAgAElEQVR4nOzdeXiU5b3/8QfCIlKte6VUwQ2IW9vUgx57Cp5WrVVrbV3bHqXV1gL+ClhsRalNW6GtS8FaQCyiLbhQdlC2BBISEpZAHLYsEAJZyJ6Qfc/M5/cHZchAZjIzz+zzfl3XfV1NuCcz8+Rr7k+fuRdDAAAAiCpGsF8AAAAAAosACAAAEGUIgAAAAFGGAAgAABBlCIAAAABRhgAIAAAQZQiAAAAAUYYACAAAEGUIgAAAAFGGAAgAABBlCIAAAABRhgAIAAAQZQiAAAAAUYYACAAAEGUIgAAAAFGGAAgAABBlCIAAAABRhgAIAAAQZQiAAAAAUYYACAAAEGUIgAAAAFGGAAgAABBlCIAAAABRhgAIAAAQZQiAAAAAUYYACAAAEGUIgAAAAFGGAAgAABBlCIAAAABRhgAIAAAQZQiAAAAAUYYACAAAEGUIgAAAAFGGAAgAABBlCIAAAABRhgAIAAAQZQiAAAAAUYYACAAAEGUIgAAAAFGGAAgAABBlCIAAAABRhgAIAAAQZQiAAAAAUYYACAAAEGUIgAAAAFGGAAgAABBlCIAAAABRhgAIAAAQZQiAAAAAUYYACAAAEGUIgAAAAFGGAAgAABBlCIAAAABRhgAIAAAQZQiAAAAAUYYACAAAEGUIgCZYrVYVFxerrq5O9fX1NBqNRqPRwqDV1dWpuLhYVqs12FEiaAiAXpgzZ45iY2N1zTXXyDAMGo1Go9FoYdiKi4uDHSmChgBoQl1dnb2Agv3/Zmg0Go1Go7nXiouLZRiG6urqgh0lgoYAaEJ9fb0Mw1B9fX2wXwoAAHAT4zcB0BQKCACA8MP4TQA0hQICACD8MH4TAE2hgAAACD+M3wRAUyggAADCD+M3AdAUCggAgPDD+E0ANIUCAgAg/DB+EwBNoYAAAAg/jN8EQFMoIAAAwg/jNwHQFAoIAIDww/hNADSFAgIAIPwwfhMAJUnNzc268sorNXXqVI8eRwEBABB+GL8JgJKkl156SY888ggBEACAKMD4TQDU4cOH9YMf/EDvv/8+ARAAgCjA+B3mATAlJUX333+/hgwZIsMwtGrVqrP6zJ07V8OHD9fAgQMVFxen1NRUh39/4IEHdOjQIQIgAABRgvE7zAPg+vXrNX36dK1YsaLHALhkyRL1799fCxYsUHZ2tiZPnqzBgwersLBQkrR69Wo9//zzkkQABAAgxLR1dvnl5zJ+h3kA7K6nADh69GiNHz/e4XujRo3StGnTJEnTpk3Tl770JQ0bNkwXX3yxzj//fP3hD39w+hxtbW2qr6+3t+Li4qgvIAAAfM1qtSm7tF4F1U1++fkEwAgOgO3t7YqJidHKlSsd+k2aNEljxow56/Hu3AGMj4+XYRhntWguIAAAfKW0tFS7Mnbrg0+TNW9Zgj7dkqbMzEx7Ky0t9cnzEAAjOACWlJTIMAylp6c79Js5c6ZGjBhx1uPdCYDcAQQAwH9enP5yjzdaTrX4+HifPA8BMAoC4Pbt2x36zZgxQyNHjvTJc1JAAAD4RnVjm5an7te8ZQmavXiNPfSlpaVxB9APIjYAevoRsCfmzJmj2NhYjRgxIuoLCAAAs4pqmrU5u1yJWSfb2t359gDY1OT7eYAEwAgOgNLJRSATJkxw+F5sbKx9EYhZFBAAAN6z2WzKKau3Bz8CYOCEdQBsbGyUxWKRxWKRYRiaNWuWLBaLfZuXU9vALFy4UNnZ2ZoyZYoGDx6sgoICnzw/BQQAgHc6uqzKLDxxVvgjAAZGWAfA5OTkHieJjhs3zt5n7ty5GjZsmAYMGKC4uDilpKT47PkpIAAAPNfc3qn0I1U9hj8CYGCEdQAMFuYAAgDgnZqmdiXnVjgNfwTAwCAAmkABAQDgvuITjos9emoJB8v09HPT7QGwsbHR56+D8ZsAaAoFBABA72w2m3LLGlwGv8Sscq2zFOruBx9zmNZVV1fn89fD+E0ANIUCAgDANVeLPc5sD/9kvAzDUN++ffkI2M8IgF5gDiAAAL3rbbHHmW1Feo5G3vgV/eHv/yQA+hkB0AQKCACAnp1oatfWQ5W9hr65SzedNQeQRSD+RwA0gQICAOBsx2tbtCXHdfDbdKBUPx7/nAzD0KSX/8Iq4AAjAJpAAQEAcJrNZtOh8t4Xe6zNyNfX77zXHvIefepZAmCAEQC9wBxAAAAcdXZZZSmq7TX8LU7I0NUjrpdhGOrff4Cen/Em+wAGAQHQBAoIAACppb1L249U9xr+/vqvVfr8hRfJMAxdePGl+tuHn7IRdJAQAE2ggAAA0a622b3FHh8nWdR/wEAZhqHrrr9ZH27OPKvPkq37NG9ZghYsW2cPgGlpacrMzFRmZqZKS0t98poZvwmAplBAAIBoVuLGYo/u7We/+q3G3vOAPtlztMd/f2LiVIdNoM9s8fHxPnndjN8EQFMoIABANLLZbDrsxmKPFek5+jBxj8MWLwkHy5z233ngiP1uX0+NO4C+QwD0AotAAADRqrPLqr1uLPZ4d02KvnjFcA2/bpTWZBxx2Tcpp0IV9a0Bew8EQAKgKRQQACCatHZ0aUd+74s9ZsxbrHMHf06GYejyoVfo/fXbnfZNPVyp+taOgL4Pxm8CoCkUEAAgWtQ1dyill8UeCQfL9LNf/VZ9+vSRYRi66ZbbtGzbQaf9dx2tUWtHV8DfC+M3AdAUCggAEA1K63pf7LHuswLd+cDD9gUb9z36pNZbipz2P3C8TlarLSjvh/GbAGgKBQQAiHR5FY1urfC975EnZBiG+sbE6Je//bPLxR75lY1BfU+M3wRAUyggAECk6rLatK+498Ue3ff5G37tSL22cLnLxR7lAVzs4QzjNwHQFAoIABCJWju6tNONxR7/WJ3s8PWmA6UuF3vUtQR2sYczjN8EQK+wDQwAIFLVtXQo9bDrxR6bDpTq8Z9PkmEY+u1f3+k1KO7Mrw7KYg9nCIAEQFMoIABAJCmra+11scfqXXm67Y677Ys9npg41WX//cV16grSYg9nGL8JgKZQQACASHGksvfFHv/asFPDrx0pwzDUf8BATXt1rsv+R4K82MMZxm8CoCkUEAAg3HVZbdpfXNdr+Htt4XKd9/kLZRiGLr7scs1ZssFp3y055SqrC/5iD2cYvwmAplBAAIBw1trRpV1Ha3oNf++v366+MTEyDEOjbvqqPk7e67RvyqHQWezhDOM3AdAUCggAEK7qW3tf7NG9PfLTCfrW/Q/p08xjTvvsCLHFHs4wfhMATaGAAADhqKK+VUk5FS4D3/K0LC1NPeCw8tfV5s57i2pDbrGHM4zfBEBTKCAAQLjJd2Oxxzsrk3T50Ct0w1dHa52lsNf+eRWhudjDGcZvAqBX2AcQABBurFabDhzvfbHH7996X+cMOleGYeiLVwzXB4m7XS72KK1rCfZb8xgBkABoCgUEAAgHbZ1dyjjmerFHwsEy/eSXL9j39/vKrf+jFenZrhd7NIf2Yg9nGL8JgKZQQACAUNfQ2qFth6tchr9P9hzVHd/5nj38fe9HT2nD3uKwX+zhDOM3AdAUCggAEMoqGnpf7JGYVa7/vff7MgxDMf36aUr86y777i2qVWeXNdhvzRTGbwKgKRQQACBUHa1qcnuLl/fXpeuLV16lN/65spfFHg2y2cJjpa8rjN8EQFMoIABAqHF3scd7n6Y5fL1x33GXiz1KasNvsYczjN8EQFMoIABAKGnr7NLuXhZ7bNxfood/Ml59Y2L06rtLew2KWw9Vqra5PdhvzacYvwmAplBAAIBQ4c5ij9U7D+u//ud/7Ys9np4y3WX/7Ueq1dIevos9nGH8JgCaQgEBAEJBZUObknJdL/Z4f126rrjqWhmGoYHnDNL0N+a77G+JgMUezjB+EwBNoYAAAMFWUN2kzdmuP8b98z+W6HPnf16GYejSy7+oecsSXPY/VB4Ziz2cYfwmAJpCAQEAgsVqtelgSe+LPd5enqi+ffvKMAxd/5Vb9O+t+10u9jgeQYs9nGH8JgCaQgEBAIKhvdPa62KPUy3hYJnufvAx3f3gYy7P9d16qFInmiJrsYczjN8EQK9wFjAAIFga2zqVlud6scfS1ANavfOwwxYvCQfLnPZPP1Kl5vbOYL+1gCEAEgBNoYAAAIFU1dj7Yo+3l2/WpZcP1a1j79TG/SW93iH8rPCEOiJ0sYczjN8EQFMoIABAoBRWN/e62ON3s9/VOYMGyTAMDR12tZZs3eeyf25ZZC/2cIbxmwBoCgUEAPA3q9WmrJJ6l0Fu04FSPTFxqn1/v6/dfodWbs912n9zdrmKTzQH+60FDeM3AdAUCggA4E8dXVbtKXC92GPt7nx946777OHvoSd/4fJYt+TcCtVEyWIPZxi/CYCmUEAAAH9pautUei+LPRKzynXb2LtkGIb69euvqa/Mctk32hZ7OMP4TQA0hQICAPhDdWObkntZ7HGqzV26SZcPvUKzF6912S8zChd7OMP4TQA0hQICAPhaUU3viz0Wbdrl8PWGvcUu++eU1UflYg9nGL8JgKZQQAAAX7HZbMopc73YY+O+4/r+//1cAwaeozlLNvR6d3BzdrmKaqJ3sYczjN8EQFMoIACAL5xc7HHCZZhbuT1XcbePtS/2mDDtFZf9k3MrVN3YFuy3FpIYvwmAplBAAACzmtt7X+yx8JNt+uKVV8kwDJ0zaJB+N/td14s98qrU1MZiD2cYvwmAplBAAAAzaprae13sMXP+hzr3c+fJMAxdNmSo5q/Y4rL/ngIWe/SG8ZsAaAoFBADwVvGJ3hd7zF60Rn369JFhGLrpa7dpaeoBl/2zS1ns4Q7G7ygPgA0NDbrlllv05S9/WTfeeKP+8Y9/ePR4CggA4Cmbzabcsga3tnjZdKBUt3/zHn3noR9rvaWIxR4+wvgd5QGwq6tLzc0n/4Npbm7WVVddperqarcfTwEBANxls9lU3djW62KPf2/dr3WfFdi/Xm8pUsLBMhZ7+BDjd5QHwO5qamp05ZVXqqqqyu3HUEAAgN7kHSvS6sRULVi1WfOWJZzVlmzdZw9zc/69UZd8YYjufOBhl6GPxR7mMH6HeQBMSUnR/fffryFDhsgwDK1ateqsPnPnztXw4cM1cOBAxcXFKTU11eHfa2trdfPNN2vQoEGaM2eOR89PAQEAetLeaVVRTbN25lfriYlT7Vu39NSemDhViVnleun1+Row8BwZhqErr75OK9JzelnsUaP2ThZ7eIPxO8wD4Pr16zV9+nStWLGixwC4ZMkS9e/fXwsWLFB2drYmT56swYMHq7Cw8KyfVV5erttvv13l5eVuPz8FBAA4xWq1qaK+VXuLarUl53RQW7J1n+YtS9DsxWvsoW/24jX2O4AfJVn0w2cm2/9t9JhvafXOwy7DX1ZJvaxWFnt4i/E7zANgdz0FwNGjR2v8+PEO3xs1apSmTZvW488YP368li5d6vQ52traVF9fb2/FxcVRX0AAEO3qmjuUU1bf63Yua3fn20Pe2t35Sswq15qMI7r9m/fYv//oU89q4/4Sl4s9CqtZ7GEWATCCA2B7e7tiYmK0cuVKh36TJk3SmDFjJJ2863fql19fX6/rr79e+/btc/oc8fHxPd6+j+YCAoBo1NrRpaNVTUo/4noDZ1cBMOFgmb78X7fLMAz1HzBQv/nz310+Pim3QpUNLPbwBQJgBAfAkpISGYah9PR0h34zZ87UiBEjJEl79uzRl7/8Zd1888266aabNG/ePJfPwR1AAIheXVabSutatKfgRK/797l7B/C1hct16eVD9dbH610+Ni2vSo0s9vAZAmAUBMDt27c79JsxY4ZGjhzpk+ekgAAg8tU0tevA8Tol9fIRrzcBMDGr3GHLl57a7mMs9vA1xu8IDoDufATsrTlz5ig2NlYjRoyI+gICgEjU1NapvIpGbTvs/ke8ztrS1AOK/9t7evDHT9sD4LxlCW499mBJHYs9/IAAGMEBUDq5CGTChAkO34uNjXW6CMRTFBAARI6OrpNbt2QcqzEd+t5enqhvf/9xDR12dY9zx599aabLx2/OLtexqqZgX5KIxfgd5gGwsbFRFotFFotFhmFo1qxZslgs9m1eTm0Ds3DhQmVnZ2vKlCkaPHiwCgoKfPL8FBAAhDer1aaKhlbtK3bcusXdts5SqDc/+EQ/n/qy/vbROvv3X313qUPgG37tSH37+4/3+BFwT4s9Khpag31pIhrjd5gHwOTk5B7/n9W4cePsfebOnathw4ZpwIABiouLU0pKis+enwICgPBU39qh3LIGbT1U6VHgW5Geo1fmLtJjT/8/3Rh3q/oPGGgfex7+yXh7vzUZR/T4zydpxrzF9g2dnc0B7N62Ha5SQ2tHsC9PxGP8DvMAGCzMAQSA01o7unSovEF5FY06VtWkoppmlda1qKKhVTVN7apr7lBjW6daO7rU0WWVzea/OW2lpaXKzMzssW3flaFdB45o+5Fqt8JewsEyrc04HdQ+TNzT402HCy66WF+/81699Pp8rxaBnGoZx2rU1tnlt2uD0wiABEBTKCAA0a6htUOphz27i5aYVa6knAqlHKpUWl6VduRXa/exGn1WeEL7i+uUVVLvOlC2dKjJSaB0tl/rmceu9dTWW4r01sfr9Ytf/17/c+d9uuDiS/Q/d97nEAgvuvQLuuLq63TPQz/S8zPe1Pvrt7t1Zm9vAfDAcRZ7BBLjNwHQFAoIQLQqLS1VUtpOvbMi0X6kWfe2ZOs+0wspvAmUa9IP6J9rtmjBsnU9HrvW0+t68tlf6+b/+m8NPGfQWYHxsiFDzwpx3r5GZwHwKIs9Ao7xmwBoCgUEIFpNfWG613faAtF6OnVjcUKGXvjLHP1k0jSHvrFf/pq973mfv1C33XG3nn5uumYvWtPrHn1mXlNSDos9goXxmwDoFeYAAohmx6qatGTrPs1blqDZi9e4factkO399dvtr+vrd96riy+73P513759tSbjiL3v9Dfm67nfv6F316Zq04HSgITShL0FLPYIIgIgAdAUCghANLHZbMota3DrY01326mFFh8n79V7n6ZpzpINem3hcv3+rff1mz//Xesshfa+L746T3c98Ii+/q3v6Ku3fUMjb/yKrrj6Ol182eUadO5gfZxksff93o+eOuuuZEy/fhp101f10JO/0NLUAwELoz2F5aStKfbFKaWlpcH+1UYdxm8CoCkUEIBoYbXatK+4ttePNROzyvWn+R/p6SnT9cNnJut7P3pKd33vUX39znsV999jNOqmrzoExe574/XUPk7ea+/7gyeecdn33bWp9r7jfvkb+/f/b8Kv9Mb7K/TJnqNBuRv55LNTXb7u+Pj4YP96ow7jNwHQFAoIQDTo6LJqt5PTMd76eP1ZAfCu7z3qMvB0/3j4wf/7mf1j2c+d/3ldevlQDb92pK7/yi362u13ONzVe3XhMv186sua9LtX9eKr8/THOYv0xj9Xat6yBP1z/Q6ttxT57M6kmbY5u1y7jtYor6JBNU3tOn68xOnWNNwBDA7GbwKgV5gDCCBatLR3Kf1Iz+fh/vVfqzT4c+edFbR+9cdZuvvBx/Tgj5/Wj56Zoqefm65JL/9FL/xljv7w93853Ilbm5FvX6ThyxAW6ACYnlel7NJ6VdS3qqPLGuxfG3pBACQAmkIBAYhk9a0dSnFyUsbv3lzocApGMO60BTMAbj1Uqf3FdTpe26KWdjZvDjeM3wRAUyggAJGqurFNSbkVPYafSS//RX369JFhGLrtjruiIgAm5VQos/CECqqbVM/q3bDH+E0ANIUCAhCJSmpbtCXn7BCUcLBMP/7Fc/Zgdd+jT2rVzsP2rw8cK1dWSb32FJxQWl5Vjz/D381X29OcnsfXqJqmdk7piDCM3wRAUyggAJHmaFWT01D0QeJunfufOX9PPvtrJRws06eZp++0NTU5nmhhs9nU2tGl2uZ2lda16GhVkz0gpvspID4x0fWKW1cbVDOPL3owfhMAvcIiEACRxmazKbu0vteA9fp7y/Xc79+w32lbvXGzPVylpaV5tLK1e0Asq2u1B8TMQu8D4qnX5ax1vwPYfR5fawfz+KIJAZAAaAoFBCASdFltshSdvcdfYla5VqRna+7STR7fafPV3nZnBsTsUu8DYvd5fJzCEd0YvwmAplBAAMJde6dVGU72+PsgcbeuuOpanXf+BXp3TYrDv23KyNaePXuCvrddW2eX6po7VFbXqmPdA+KRKiXlVjCPDz1i/CYAmkIBAQhnLe1dSs/reY+/d1Ym6aJLvyDDMHTp5V90CIDpR6qYI4ewxvhNADSFAgIQrupanO/x98Y/V2rweefLMAwNv3akPtrymf3fknMr1NzeGeyXD5jC+E0ANIUCAhCOKhvalJTT8x5/L89aoP79B8gwDN0Yd6tWbs912BqlurEt2C8fMI3xmwBoCgUEINwcr23R5uyeF0nMnP+hfYPnr995rz7NPObw74XVzcF++YBPMH4TAL3CNjAAwtGRykaXq2TXfVagm265Tfc9+qQ27i9x+LesEv7OIXIQAAmAplBAAMKBzWZTVknPe/xt3HdcCQfL7F9/mnnM4evErHLtPlbDClpEFMZvAqApFBCAUNdltemzwhM9hr+1u/N169g79ehTzzq9K7jtcJXaOtkkGZGF8ZsAaAoFBCCUtXV2aWd+dY/BbnlalkbdHCfDMDRg4DlatHFXjxsn17NhMiIQ4zcB0BQKCECoam7vVJqTPf4WJ2ToiquulWEYOu/zF+rNDz7psV95fWuw3wbgF4zfBEBTKCAAoaiuuUNbnezxN3/Flm4bPA/Vu2tTe+yXV9EY7LcB+A3jNwHQFAoIQKipaGh1usff6+8t17mfO+/kBs/XjdLHSZYe++0tqg322wD8ivGbAGgKBQQglBTVNDvd4y8xq1wvvT5fhmHopltu06odh3rssyO/Wp0c84YIx/hNAPQK+wACCDV5Fa73+DvVXpm7SOs+K+jx37YeqlRLOyt+EfkIgARAUyggAMFmtdp04Hhdj4Eu4WCZfvar3zr9qLd725JTrhNN7cF+O0BAMH4TAE2hgAAEU2eXVZlO9vjbsLdYdz/4mAzD0FUjYrXeUuQyABbVcMwbogfjNwHQFAoIQLC0dnRph5M9/tbuztfoMd+SYRjqGxOjqa/Mchn+skv5G4bowvhNADSFAgIQDE1tndp2uOc9/panZWnUTV+VYRgaeM4gvTJ3kcvwt6egRjYbx7whujB+EwBNoYAABEJpaakyMzO1e/ceJaZu1zsrEjVvWYK9Ldm6T4lZ5Vq0aZe+NPwa+wbPf/toncvwl5ZXpfZOVvwi+jB+EwBNoYAA+FtLe5em/OYlGYbhtD0xcaoSs8oVd/tYGYahy4YM1cJPtrkMf0m5FWps6wz22wOCgvGbAGgKBQTA17qsNlU2tCm3rEHp/znKbcnWfZq3LEGzF6+xh77Zi9ecdQfwoy2f6daxd+rj5L29rvqtaOCYN0Qvxm8CoCkUEABfaGzrVEF1kzILT2hLjvPQtnZ3vj0Art2dr8Sscv1rw0639v/r3o5WNQX7LQNBxfhNADSFAgLgjY4uq8rrW5VVUq/Uwz2f2etOAJz44gz1jYnRb//6jts/Y39xXbDfPhB0jN8EQFMoIADusNlsqmvuUH5lozKO1bg8rs3dAPjQk79w+N/uPH5nfrW6rKz4BRi/CYCmUEAAnGnt6FJJbYv2F9dp6yH37/K5GwBPtZ9OflEJB8t6fWzKoUq1dnDMGyAxfksEQK9wFjCAM1mtNtU0tSuvosHpBs1m25Lkvfbg1zcmRlNnzHbrcVtyylXX3BHsSwSEDAIgAdAUCgiIbs3tnSqqaZalqFZJuRV+CX3d7/5dNmSoPQC+PPtdtx9bUtsS7EsFhBTGbwKgKRQQEF1ObdGSU1Zv36IlkO17P3r6rFXAvbVD5Q3BvmxAyGH8JgCaQgEBka+htUPHqpq0p8D1Fi3+aL97c6HDhs7LtmV5FAAzC09wzBvQA8ZvAqApFBAQueqaOzzaosWXbWnqAY359ndlGIau/8ot2ri/xP4xsLsBMD2vSh1dHPMG9ITxmwBoCgUERKaOLqu2HQ78R7wJB8v04qvzdP4FF9kXevzwmclabynyKAAm51aoiWPeAKcYvwmAplBAQGSyFNUGPPx9nGTRbXfcbQ94V4+8QW8vT3To404A3JxdrqrGtmBfQiCkMX4TAE2hgIDIc6yqKeDhb/6KLRp83vkyDEP9+vXXT375gjbsLT6rnzsBsKCaY96A3jB+EwBNoYCAyFLb3O71KR1m2oa9xbo29iaNvPErWrBmq9N+vQXAA8c55g1wB+M3AdAUCgiIHO2dVq1MO6B5yxKctiVb9/kk8G06UKpfz/yb1lkK7d9bsnWfNu477vJxrgJgxrEaWTnmDXAL4zcB0BQKCIgMNptNmYUn9MTEqWcdtda9PTFxqunw9/66dN0Yd6sMw9CPxz/n0WOdBcDUwxzzBniC8ZsAaAoFBESG/MpG+124ecsSNHvxGnvQmr14jU/uAG7cd1w/n/qyBgw8R4Zh6JxB52py/GtuPdbV63p7eYJy8wuDfQmBsML4TQA0hQICwl9N09nz/jzZb8+d9o/VyRp541fsPzPu9rFanJDh9uN7uzMZHx8f7MsIhBXG7ygPgEVFRRo7dqxiY2N10003aenSpR49ngICwltbZ5dSDp292bMvA+CLr85Tv379ZRiGBp93vqa+MksJB8s8+hmn7gCe2VYnpiozM1OlpaXBvpRAWGH8jvIAWFpaKovFIkmqqKjQ0KFD1dTk/hYKFBAQvmw2m/YUnPB4sYWn7V8bduqcQYN02x136+PkvabvJp5qlqJajnkDvMT4HeUB8Ew33XSTioqK3O5PAQHhK6+i0Wm4MhMA131WoD/8/Z8O33t//XaP7/q5atuPVKuTY94ArzF+h3kATElJ0f33368hQ4bIMAytWrXqrAijFxkAACAASURBVD5z587V8OHDNXDgQMXFxSk1NbXHn7V7927dcMMNHj0/BQSEp+rGNpf7/XkbAN/84BNdcdW1MgxDb/xzpc8CX/eWnFuh5naOeQPMYPwO8wC4fv16TZ8+XStWrOgxAC5ZskT9+/fXggULlJ2drcmTJ2vw4MEqLHRcMVddXa3Y2Filp6d79PwUEBB+Wju6tLWHeX9mAuDa3fn6wRPPqE+fPjIMQxddcpn+9M7HPg9/Ww9Vqq6lI9iXEAh7jN9hHgC76ykAjh49WuPHj3f43qhRozRt2jT7121tbfrGN76hRYsW9focbW1tqq+vt7fi4uKoLyAgnNhsNu0+VuNWoHM3AL7+3nINuWKYvf/dDz6mldtzfR7+0vKquPMH+AgBMIIDYHt7u2JiYrRy5UqHfpMmTdKYMWMknRwMHn/8cbe3UIiPj+9xC4ZoLiAgnORVNLgVttwNgI//7Jf2fpdePlR/mv+RXz723ZFfzUbPgA8RACM4AJaUlMgwjLM+1p05c6ZGjBghSdq2bZv69OmjL3/5y/a2f/9+p8/BHUAgfFU2tLkduNwNgC/8ZY4Mw9B3Hxun1bvy/BL+9hTUqIMFH4BPEQCjIABu377dod+MGTM0cuRInzwnBQSEh9aOLiXnVpgOgCvSczRnyQb71wkHy/T28s1+CX6JWeXaV1zL+b6AHzB+R3AAdOcjYG/NmTNHsbGxGjFiRNQXEBDqrFabMtyY99dbAIz/23u68OJLddEll/lljt+ZLaesnn3+AD8hAEZwAJROLgKZMGGCw/diY2MdFoGYQQEBoe9QuXvz/pwFwEWbdmnMt79r//rKq6/Tu2tT/Rr+8isbg33ZgIjG+B3mAbCxsVEWi0UWi0WGYWjWrFmyWCz2bV5ObQOzcOFCZWdna8qUKRo8eLAKCgp88vwUEBDaKhpavQpg3QPgeZ+/UIZhqG9MjH74zGSt+6zAb8Fvc3a5jte2BPuyARGP8TvMA2BycnKPq3LHjRtn7zN37lwNGzZMAwYMUFxcnFJSUnz2/BQQELpa2j2b99e9rUjPdvibcvXIG/T28kS/3vXbklOuiobWYF82ICowfod5AAwW5gACoc1qtWlnfrXXYax7APzx+Oe0YW+xX8Nfcm6Fapvbg33ZgKhBACQAmkIBAaEpp6zeVCAzcxawpy31cKUa29jgGQgkxm8CoCkUEBB6yuu9m/eXmFWuP83/SJsOlAYsAKYfqWKDZyAIGL8JgKZQQEBoaW7vVJKX8/4mTHvFfpTbmowjfg+AGcfY4BkIFsZvAqBXmAMIhB6r1aYdXs77O3Wih2EY+unkF/1+B9BSVKsuNngGgoYASAA0hQICQkdWiXfz/mbMW6y+MTEyDEM/eOIZJRws82sAPFhSxwbPQJAxfhMATaGAgNBQWtfiVRibvWiNBgw8R4Zh6M4HHtamA6VKzPLfIpC8CjZ4BkIB4zcB0BQKCAi+prZOJeV4Pu/vnZVJGnze+TIMQ7eOvdNhqxd/BMCimuZgXyoA/8H4TQD0CnMAgdDQZbVp+xHv5v3F/+099evXXzfG3apP9hx1+DdfBsAtOeUqr2eDZyCUEAAJgKZQQEBwHTheZyqcvfHPlVq149BZ3/dVAEzKrVBNExs8A6GG8ZsAaAoFBATP8VrP5/2t2nFIHydZeu3niwCYcqhS9a0dwb5MAHrA+E0ANIUCAoKjobXD43l/n+w5qhvjbtVlQ4bq/XXpfg2A6XlVamlng2cgVDF+EwBNoYCAwOvssio9r8qjQLZhb7FuG3uXDMPQ4PPO1/wVW/wWAHfmV6utk/AHhDLGbwKgV1gEAgSPp/P+Nh0o1Z0PPCzDMDRg4DmavWiN3z4Cziw8oU5O9wBCHgGQAGgKBQQEVlFNs0fhL+FgmR568hcyDEN9Y2I0Y95itx7nTQA8cLxOVk73AMIC4zcB0BQKCAic+tYObcnxbC7eU1Nesge53/z5724/ztMAeKi8IdiXB4AHGL8JgKZQQEBgdHgx72/dZwW6akSsDMPQhBf+6NFjPQmAx6qagn15AHiI8ZsAaAoFBATGvuJajwLcqbZye66e+/0bHj/OnQC4ObtcJbUtwb40ALzA+E0ANIUCAvyvsNqzeX/Lth30Kix6EgCTcipU1dgW7EsDwEuM3wRAUyggwL/qWjyb9zdnyQadO/hzevalGX4LgFsPVaqumQ2egXDG+E0A9ArbwAD+19Fl1bbD7s/7W/jJNp1/wUUyDENx/z1GG/eX+DwAbjtcpaa2zmBfGgAmEQAJgKZQQID/WIrcn/f34eZMXXr5F2UYhkbe+BWtzfD+/F5nAXD7kWq1drDBMxAJGL8JgKZQQIB/FFQ3uR3Wlqdl6Yqrr5NhGLri6uu0PC3L53MAdx+rUQcbPAMRg/GbAGgKBQT4Xm1zuzZnuxfU1mQc0cgbvyLDMHTp5UP14eZM0+HvzAC4I/c4GzwDEYbxmwBoCgUE+FZ7p1WphyvdDmpTX5klwzB0/gUXaeEn23wS/s4MgI2NjcG+LAB8jPGbAGgKBQT41meFJzwOa+N/8wfNWbLBZ+EvMatc6z47ag+ATU1s9AxEGsZvAqApFBDgO0er3Jv3l3CwTOstRT4NfN3b7mM1qjpRTwAEIhjjNwHQFAoI8I0TTe7P+/vRM1N083/9t1bvPOzT4Lcl5+SxbjabTU1NTQRAIIIxfhMAvcI+gIDvVDe2KSm3wq2QNuGFP9qD2W9n/cNn4W/7kWo1tJ7e3JkACEQ2AiAB0BQKCDCnqKbZ7Tt/v/nz3+2h7KkpL/kk+G3OLtfh8oazVvkSAIHIxvhNADSFAgK8Y7PZlFvW4HZQe2XuIvWNiZFhGHroyV8o4WCZ6fCXllelE03tPb4+AiAQ2Ri/CYCmUECA5zq7rErYnaN5yxKctiVb99mD2qxFqzVg4DkyDEN3PfCINh0oNR3+DpbUqdPFxs4EQCCyMX4TAE2hgADPtHZ0aUd+tZ6YONUesHpqT0ycqsSscm3YW6whVwyTYRi6bexd2rC32FTwSzlUqYqG1l5fJwEQiGyM3wRAUyggwH11LR1KOXRyk+clW/dp3rIEzV68xh60Zi9e0+MdwAVrtuqO73xPn2YeMxX+9hbVqq3TvbN8CYBAZGP8JgCaQgEB7qmob1VSztkrfc88c/fU930xx+9US8qtUElti0evlwAIRDbGbwKgKRQQ0LtjLjZ47ikArtyeqxvjbtUb768wHf72FNSopd29u37dEQCByMb4TQA0hQICnLNabcoqqXcZ0M4MgJ/sOaobvjpahmHo8i9d6fWJH1tyylVQfXJTZ28QAIHIxvhNADSFAgJ61tFl1Z6C3s/17R4AV+7I1a1j75RhGBp83vl6Z2WSV+FvR361Gts6Tb1+AiAQ2Ri/CYCmUEDA2ZrbO5WeV+VWWOseAO/4zoMyDEMDzxmk2YvWeBz8NmeXK6+i8axNnb1BAAQiG+M3AdAUCghwdKKpXVv/s9LX0wBoGIZi+vXTjLc/8Dj8pedVqba5502dvUEABCIb4zcB0CucBQycrbSuRVtyPAtuZwbAaa/O9Tj8ZZfWu9zU2RsEQCCyEQAJgKZQQMBJeRWNXs3X6x4Afz71ZY8em3KoUpUNbX55PwRAILIxfhMATaGAEO2sVpv2F9d5HPxWbs/Vhr3FTvcB7K3tK65Ve6dv7/p1RwAEIhvjNwHQFAoI0ayts0sZx2o8Dn+LNu7SFVddq3se+pHWZBzxKAAm51aotM6zTZ29QQAEIhvjNwHQFAoI0aqxrVPbDru30rd7+/vH63XBxZfIMAxdevlQ/WvjLrcD4J6CE2rt8HxTZ0+UlpYqMzNTaWlp9teVlpamzMxMZWZmqrS01K/PDyAwGL8JgKZQQIhG1Y1tSso9+1i33trv33pfA88ZJMMwdM2oG/Vx8l63PgLeklOuwurmgLy3+Ph4h0UpZ7b4+PiAvA4A/sX4TQA0hQJCtCmqadbmbM8Xe0yY9or69OkjwzD0X9/4ptZkHDlrEUhPAXBnfrWaTG7q7IlTdwCdNe4AApGB8ZsAaAoFhGhhs9mUW9bg1UrfHz4z2R7y7nv0SW3cd7zHVcDdA+Dm7HIdqfTNps4AcCbGbwKgKRQQokFnl1WWolqvwl9iVrn+9M7H6tevv55+broSDpY5/FtPATA9r0p1zR3BftsAIhjjNwHQFAoIka61o0s78qs9Dn1nBr3FCRk99jszAOaU1auLu34A/IzxmwBoCgWESFbX0qEUD451O9Xe+zRNo276qt5fv73Xvt0DYGF5TbDfMoAowfhNADSFAkKkqqhvVVKO5yt9Zy1arfM+f6EMw9DXbr/DowDIfnsAAoXxmwBoCgWESHSsqsmruX7T35iv/v0HyDAMjbo5TktTD/T6mF2HSwiAAAKO8ZsAqAcffFAXXHCBHnroIY8fSwEhklitNmWV1Hs13+/p56bbg9zX77xXn+w52uvjjlU1ceIGgKBg/CYAKikpSWvXriUAIqp1dFm1p+CEx+Fv477juu/RJ+0h7qEnf6GN+0tcPiYpp0L7Dx/lxA0AQcP4TQCUJCUnJxMA4XMdXdZgvwS3NLd3Kj3P82PdErPKte6zAl3/lf9Snz599OxLM3rtn3q4UvWtHZy4ASCoGL/DPACmpKTo/vvv15AhQ2QYhlatWnVWn7lz52r48OEaOHCg4uLilJqaelYfAiB87eh/5tFtySlXWl6Vdh+r0f7iOh0qb1BhdbPK61tV29yulvauoG52fKKpXVu9WOnbvS1Py9LM+R/2Pt/vaI39LF9O3AAQTIzfYR4A169fr+nTp2vFihU9BsAlS5aof//+WrBggbKzszV58mQNHjxYhYWFDv0IgPCVLqtN+4o93zR566FK7civlqWoVtml9cqvbNTx2hZVN7apsa3TL3cTS+tatCXH88D3j1XJeub533n0mP3FdezvByBkMH6HeQDsrqcAOHr0aI0fP97he6NGjdK0adMcvuduAGxra1N9fb29FRcXR30B4bSWdu82TXa3JeVUKD2vSnsKTujA8TrlVTSoqKZZFQ2tqmvpUGtHl2w290JWXkWjV6/h1XeX6tzPnSfDMPTia2+79ZgjlY1+vvIA4BkCYAQHwPb2dsXExGjlypUO/SZNmqQxY8Y4fM/dAOhs3lI0FxBOqmlq14ptBzRvWYLTtmTrPr+Fw1Ntc/bJeXa7jtZob1GtcssadKyqSaV1LappaldTW6f2F9d59bOfn/GmYvr1k2EYuumW27QiPcdl/y055Sqraw32rwYAzkIAjOAAWFJycn+x9PR0h34zZ87UiBEj7F/ffffduuSSSzRo0CANHTpUGRkZTp+DO4DoSWF1szZnl+uJiVNdLmx4YuJUvwdAf7SEg2X6vwm/sr+Pb973A62zFLp8TMqhSs7zBRCyCIBREAC3b9/u0G/GjBkaOXKkT56TAopuVqtNB0tO301bsnWf5i1L0OzFa+xhafbiNQG9A+jrtt5SpLseeMT+fn74zGRtOlDq8jE78qvtiz0AIBQxfkdwAPTkI2BPzZkzR7GxsRoxYkTUF1C0au3o0q6jNT0GoO7Hm63dnR/0EGem/fkfS2QYhvrGxOi537/Ra39LUa06w2T7GwDRiwAYwQFQOrkIZMKECQ7fi42NPWsRiLcooOhU19yh1MPOt04JtQB46s6kt3MTn/l1vP40/6Nen+dweYPbi1AAIJgYv8M8ADY2NspischiscgwDM2aNUsWi8W+zcupbWAWLlyo7OxsTZkyRYMHD1ZBQYFPnp8Cij7Ha3vfOiXUAqCncxM9/bh6S065jte2BPtXAwBuY/wO8wCYnJzc44A2btw4e5+5c+dq2LBhGjBggOLi4pSSkuKz56eAoofNZlNOmXvn5IZaAPRkbuIrcxfpnEGDdN31N2ttRu+vfeuhSp1oag/2rwcAPML4HeYBMFiYAxhd2jut2lPQ83y/cAiA7r6uSS//RX379pVhGIq7faxW78pz+fPSj1Spub0z2L8eAPAYAZAAaAoFFPkaWju07bBn5+SGWwDcdKBUj/x0gv3fvv39x7Vhb7HLn5VZeCJszjoGgDMxfhMATaGAIlt5fauScip8fqctlALgus8KNObb37V//ye/fEEJB8tc/pycsnoWewAIa4zfBEBTKKDIZLPZlFfR4PM7bcFuPb2ue37wQxmGoX79+uuFv8xx+fjN2eUqqmkO9q8HAExj/CYAeoU5gJGro8uqzwpP+DxohULr6XV9kLhbV159nd54f4XLxybnVqi6sS3Yvx4A8AkCIAHQFAoosjS1dSo9z7P5fuEeABOzyrVxf4nLx6XnVampjcUeACIH4zcB0BQKKHJUNrQpKdfz+X6hHgATDpZp7e58fbg5U3/78FP763rpjfluPX5PQY3aO1nsASCyMH4TAE2hgCLD0aombc72/502X4S5DxP36O3lm/XawuV6edYCTY5/TU9NeUmP/HSCnn1phkP/y790pfoPGNjjXpnfuOu+Xp8vq6ReViuLPQBEHsZvAqBXmAMYGbqsNu0vrvP5XTdXATDhYJnWWQodvv7trH/Yg9zDPxmvb3//cd3+zXt009du04M/ftqhr7NAZxiGboy71eG5Lrr0C/Z/69evvy68+FL716t2Hnb6+jdnl6uguinYvx4A8BsCIAHQFAoofLW0d2lHfrVfPnbtHgBHj7lTN3x1tK68+jpdePGl6tevv267426H/gMGnuN2qLt86BW66JLLNOyaEbrpa7fp9m/eo29//3E9/JPxeu73bzj0fXdtqj5M3KO1Gfn2j4J7uzOZlFuhygYWewCIbIzfBEBTKKDwVNPUrq2HKv0S/k4FL1dn754Z6r7+re/o9m/eo3t+8EM98tMJemrKS5oc/5p+O+sfeuvj9QG5M5mYVa5th6vU0NoR7F8PAPgd4zcB0BQKKPwU1TT7dL5f949newpaz740U7+b/a5ef2+55q/Yoo+2fKZP9hz1W/j0NgBmHKtRW2dXsH89ABAQjN8EQFMooPBhtdp0sMT38/0Ss8r1zsok3fDV0Xp7+Wa37rQFqzl7XQeO17HYA0BUYfwmAHqFRSDhpbWjSxnHanweqD7Zc1SPPvWs+sbEyDAMffW2b4RdAMyvbAz2rwcAAo4ASAA0hQIKfXXNHUo97Pv5fn9652Nd/qUrHbZV+TjJEjYBcF3mUZXXtwb71wMAQcH4TQA0hQIKbSW1LdqS49sQtTTlgP733u/bg9Sllw/VH+cs6vVOWyi07q+rpKo22L8eAAgaxm8CoCkUUGiy2WzKLWvwS4j65W//LMMw1LdvX/3giWe0JuOIy6AVqgGwqYl9/gBEL8ZvAqApFFDoae+0ak/BCZ8Gpw17i+3/e+P+Et3z0I80598b3QpaoRQAN+8vIAACgBi/JQKgKfYCKi2VmprObq1nzLHqqc+p1tLifd/mZud9m5u979vS4vp1eNu3tdV3fW2nV6821DVq+74Cbdmd32NL7LZVy2ZLodN+W3bnK/FAqdZ9VqD/m/ArXXnVtVq37aDLvqd/bpHWpR7QuYahcw1D61IPOPbdX+LQ1+Vr6N53b7HLvpv3HXfZd/u+AlUfL9W5hqGY7gGws9P19e3oti+gJ327ulz3bW/3rq/V6ru+bd02vLbZfNfXk//u+RsR0L8RamvzXV9rtzOy29t917ery7u+HR2u+3Z2etc3Qv9GEAAJgKbYC8gwpJ7avfc6PuDcc3vuZxjS2LGOfS+5xHnfW25x7DtsmPO+11/v2Pf66533HTbMse8ttzjve8kljn3HjnXe99xzHfvee6/zvsYZJfnww677/mcwKK9vVemDj7nsu3XbQXtIKnr8Jy77vvX62/rS8Gvsd8zec9F3+5qt9p+bP3Gqy5+7a8kGe9/DU1922XfP+yvsfXOm/8ll38/mLbb3PTjjTZd9H+4eAJcudX1933//9O/i009d950z53Tf5GTXfV977XTfjAzXfePjT/c9eNB13+efP9332DHXfSdOPN23stJ133HjTvdtanLd9+GHHWvYVV/+RpxsAfgbIenk79FV38rK030nTnTd99ix032ff95134MHT/eNj3fdNyPjdN/XXnPdNzn5dN85c1z3/fTT033ff99136VLT/eN0L8RBEARAL1x1jYwzgqNP+4nmx//uO9OSdWKTamatyxBOWPvctnXnQBYbRj6qXH61I6LLrlMc+64WzYXP5cA+J8WQn/cJREAu4vivxEEwP80AuDJRgC0M3rvAmf4CNjLvj74eGfGiy/qXMPxiLUBhmH/6PXpn0/y6CPgzRlH9OIfZ+mCCy+y/7z7H3tSq3Yc6v2j2hD9CHib5Ziaaurs16ypooKPgLs3PgKO6L8R9sZHwCcbHwE79CUAEgBNoYCCo6mtUxszsjVvWYJmL15jD2yzF6/RvGUJmrcsQUu27vNogUTCwTLdNvYuGYah4deO1JsffOKT1bbBWgSy9VCl/Vzf0tJSZWZmKi0tzf660tLSlJmZqczMTJWWlgb5NwoAgcX4TQA0hQIKrC6rTXkVDQ57+5kJWxv2Fmv1rjz71x8m7tHTU6ZrvaXIVPgKdgBMzq1Qfevp/6cdHx/vcKf0zBbf/eMTAIgCjN8EQFMooMCpaGjVtsNVPgtbf/tona4aEau7HnjE5wEsmAEwKbdCdc0dDtfu1B1AZ407gACiDeM3AdAUCsj/Wtq79Fmh8339PA1bq3ce1ncfG6c+ffrIMAx9/sKLtDwtKyICYFJOhU40tfd+UQEgyjF+EwBNoYD8x2q1Kb+ysdej3NwNWwkHy/TyrAW66NIv2Pvf/eBjPg9/wQqAW3LKVd3Y1vuFBQAwfosAaAoF5B9VjW1Kzzv7415vw9a/t+63L/AwDENDh12t199b7rcwFugAuCWnXJUNhD8AcBfjNwHQK2ftAxjFBeRLrR1d2ldc6/OwtWrHIV10yWXq16+/fjz+Oa37rMCvgSyQAXBzdrkq6lt7v7gAADsCIAHQFArIN6xWm45VNSkpp8JnYeu9T9OU0G3fv1cXLtO7a1L8fjcukAFwc3a5yuoIfwDgKcZvAqAp/iygLqut904R4ERTu7YfqfZZ2Fqbka+HnvyF+vbtq2mvzg1I4AtWACypben9AgMAzkIAJACa4usC6r5dx6db0vTe6s1anZiqrem7Im67jrbOLh04XufTsPXyrAW6bMhQ+9ff+9FTERsAi2qae7/IAIAeEQAJgKb4uoB627D3/02ddtYeb+HGZrOpsLpZSbmef9zbW9g61S4feoVmzv8wKOEvEAGwsJrwBwBmEAAJgKb46w5g9yO7ejreLPVwpXLLGnSiqV02W/h8VFzX3KEd+d5/3NtTe+mN+fZr1TcmRo/+dGLQjl8LRAA8WtXU+4UGALhEACQAmuKvAmpqanI7QKQcqlR2ab1qQjgMtndalVVS75ew9Yc5/7JfKzPn94ZDAMyraAz2rxIAIgIBkABoSigEwO5t66FKZZXUq6qxTdYQWURSfKJZyT76uPdU27i/xO9hK9QC4OHyhmD/KgEgYhAACYCmhFoA7N6Scyt04HidKhuCEwbrWzuUcazG5+Hq1XeX6otXXqV/rt8RNQEwt4zwBwC+RAAkAJoSygGwe0v6TxisqG/1+/YyHV1W5ZTVa3O2b0PVpgOl+skvX7Cf4fut7z4cFQEwqyR6/zgBgL8QAAmApoRLAHQIgzkV2ldcq/L6VnV2WX36ukvrWpRyqNLngWpFeo5Gj/mW/Zrc89CP9GnmsYgPgAeO14XsvE4ACGcEQAKgKeEYALu3LTnl2ltUq9K6FnWYCIONbZ3a7YePexOzyjXn3xv1hS9+SYZhaMDAczR1xmy/hK1QC4D7iwl/AOAvBEACoFf8fRZwoALgmWHws8ITOl7rfhjs7LLqcHmDzz/uPdVmL1qj/v0HyDAMffGK4Xp7+Wa/hK1QC4B7i2pDZhEPAEQiAiAB0JRwvwPorG3OLldm4QkVn2hWW2dXj6+xvL5VqYd9/3Fv97beUqRRN8fp69/6jlbvPOyXsBVqATCz8AThDwD8jABIADQlUgPgmWFwT0GNimqa1drRpeb2TmUWnvDb8/1rw05t3Hfc/vWqHYeUcLDML2Er1ALgnoITUXMGNAAEEwGQAGhKIALg8rTsoAea7m1Ljv9+9vQ35uucQefq0aee9XvYCrUAuPtYDeEPAAKEAEgANCUQAfCiS7+giS/OsK96jcS23lKkB3/8tP09f2X017Vhb3HUBMBdR2t8viIbAOAcAZAAaEogAqA9CF5ymSZMeyXgQXDJ1n32s4h7aqfOJ/a2fbg5U6NujrO/z8d/PsnhI+BID4A78qtNrcAGAHiOAEgANCUQAXDii6/osiFDHYLgpN+9GrAw88TEqWeF0e7tiYlTvf7Zf/7HEp1/wUUyDEOfO//zemXuIr+GrVALgNuPVKu9k/AHAIFGACQAmhKoRSDrLUV67vdv2PfDe+SnEwIWZk7dAZy9eI39Nc1evMb0HcAV6Tk6d/DnZBiGrrv+Zi3atMuvYSvUAmB6XpXTFdYAAP8iABIATQn0KuD1liI994e/amnKAfv33vp4vZ55/nd+Dz/+CFovvjpP9z3yhNZ9VhBSr8vf1yotr0qtHYQ/AAgWAiAB0JRQ2AYm7vaxMgxDF1x0sX72q99qbYZ/QpAvgtZbH6/Xmx98EnKvK5DXKvVwpVraCX8AEEwEQAKgKcEOgAkHy/T8jDf1xSuG2/t//sKL9PRz030eBM0ErYSDZXr2pZnq16+/Lrr0Cw53MKMpAKYcqlRze6dPawUA4DkCIAHQlGAHwFNt477j+vXMv+mLV15lf9z5F1yk5/7w16AHrbUZ+brjOw/aH/uNu+7T6l15QX9dgQ6AWw9VqrGN8AcAoYAASAA0JVQCYPcg+Js//11Dh10twzCCHgDfXZOiK6++ToZhKKZfP43/zR9cnuoR7gHQ2YKZTBGO0gAAGCxJREFUd1YkKnX7LpWWlvq0TgAA3iEAEgD1ySefaMSIEbr22mu1YMECjx4bagGwexCc/sZ8rbcU2b/30uvz9ZNfvuD13TdPg9aLr72tcwadK8MwdPFll2v24rV+CV2hFAB72zInPj7ep3UCAPAOATDKA2BnZ6euu+46HT9+XA0NDbr22mtVU1Pj9uNDNQCe2TbsLdblX7pShmHovPMv0Lj/9xut3nnYb0Er4WCZxt7zgAzD0Fdv+4aWpvpuzl8oB8AzN82evzxRW9N2KjMzU5mZmdwBBIAQQQCM8gCYnp6uBx980P71pEmT9NFHH7n9+HAJgBv3l+jF1962fxx7auPlJ599Xqt2HPJL0FqTcUS/+PXvtXF/iV9DVygFwO4tObdCJ5rafVoXAADfIACGeQBMSUnR/fffryFDhsgwDK1ateqsPnPnztXw4cM1cOBAxcXFKTU11f5vy5Yt07PPPmv/+rXXXtPrr7/u9vOHSwDsHgRfen2+hl0zwv7zB593vl74yxzTQetP8z/SvQ//n8/n+IVjANyRX81WLwAQwgiAYR4A169fr+nTp2vFihU9BsAlS5aof//+WrBggbKzszV58mQNHjxYhYWFkqSlS5eeFQDfeOMNt58/3ALgqbbpQKl++9d3NPzakTIMQ7MWrfY6aG3cX6Ifj39Offr0kWEY+s2f3orqALi/uE5dVptP6wEA4FsEwDAPgN31FABHjx6t8ePHO3xv1KhRmjZtmqSePwL+8MMPnT5HW1ub6uvr7a24uDgsA2D3IPjqwmUO33vy2V/rx794TivSc3oNWsu2HbRvRG0Yhr772DitsxRGZQDcnF2uY1VNPq0DAIB/EAAjOAC2t7crJiZGK1eudOg3adIkjRkzRtLJRSDXXnutwyKQ6upqp88RHx/f4+rOcA2AZ7blaVk6Z9AgGYahcwd/Tj98ZrJWpGf3GLTe/OATXfKFkx+9nzNokKa9OjcowSsUAmByboWqG9t8WgMAAP8hAEZwACwpKZFhGEpPT3foN3PmTI0YMcL+9Zo1a3Tdddfpmmuu0TvvvOPyOSLtDuCZbdOBUsX/7T1dPfIG+/MPOnewHv/ZL/VB4m7793758l8U06+fDMPQFVddqwVrtgY8dDnbc+/UCtwlW/cF5HUw3w8Awg8BMAoC4Pbt2x36zZgxQyNHjvTJc4brHEB3guDv33pf14y60f46Tu3pZxiG/vLuvxXTr5/G3vOA1mQcCfjrS8zqfc+9JyZO9ftrYL4fAIQnAmAEB0B3PgL21pw5cxQbG6sRI0ZEZAA81RIOlukPf/+Xro29Sf36D3B4TW8v3xzwFb/d25l77p3Z/HkHkPl+ABDeCIARHAClk4tAJkyY4PC92NhY+yIQsyL1DmBPQfCtj9eH1GsKVmO+HwCEPwJgmAfAxsZGWSwWWSyWk9uZzJoli8Vi3+bl1DYwCxcuVHZ2tqZMmaLBgweroKDAJ88fLQEwMSs0FlsEuzHfDwAiAwEwzANgcnJyj/O/xo0bZ+8zd+5cDRs2TAMGDFBcXJxSUlJ89vwEwOhpzPcDgMhBAAzzABgs/poDWFpaqszMTKWlpQV1ZSsB8HRjvh8ARB4CIAHQFF8XkLN9BgO5spUAeLox3w8AIhMBkABoiq8L6NQdwMzMTH26JS2gK1sJgI6N+X4AELkIgARAU/xZQAXVTUEPQdEaAJnvBwCRjQBIAPSKv/cBlAiAwWjM9wOA6EAAJACawh3AyGnM9wOA6EEAJACaQgCMjMZ8PwCILgRAAqApBMDwb8z3A4DoQwAkAHqFOYDhHwCZ7wcA0YsASAA0hTuA4dmY7wcA0Y0ASAA0xZ8FdLy2JehBKRIDIPP9AAAEQAKgKf4soMqGtqCHpUgLgMz3AwBIBECJAGiKPwuovrUj6IEpUgLg5uxyFVQz3w8AcBIBkADolUAsAmnr7Ap6cIqEAMh8PwDAmQiABEBT/FlANptNm7ODH6DCOQAy3w8A0BMCIAHQFH8XUOrhyqCHqHANgMz3AwA4QwAkAJri7wLadbQm6EEq3AIg8/0AAL0hABIATfF3AVmKaoMeqMIpADLfDwDgDgIgAdAUfxdQdml90ENVuARA5vsBANxFACQAmuLvAsqvbAx6sAqHALgzv5r5fgAAtxEACYBeCcQ2MFJonQYSygEwuzR6/wMGAHiOAEgANMXfBRRKp4GEcgDMr2z0y/UHAEQmAiAB0BR/F1AonQYSygHweG2LX64/ACAyEQAJgKb4u4BC6TSQUA6AVaz8BQB4gABIADTF3wUUSqeBhHIAbGjt8Mv1BwBEJgIgAdCUQBRQqJwGEsoBsL3T6rfrDwCIPARAAqApgSignfnVQQ9YoRwAt+SU++3aAwAiEwGQAGhKIAooVE4DCdUAuO1wld+uPQAgMhEACYBeCdQ+gFLonAYSqgFw97Eav117AEBkIgASAE0JRAGFymkgoRoA9xXX+u3aAwAiEwGQAGhKIAooVE4DCdUAmFvW4LdrDwCITARAAqApgSigUDkNJFQD4LGqJr9dewBAZCIAEgBNCUQBhcppIKEaAEvrOAUEAOAZAiAB0JRAFFBrR2icBhKqAbCmqd1v1x4AEJkIgARAUwJRQKFyGkioBsCmtk6/XXsAQGQiABIATQlUAYXCaSChGgA7uzgFBADgGQIgAdCUQBVQKJwGEooBMCm3wq/XHQAQmQiABEBTAlVAoXAaSCgGwPQ8TgEBAHiOAEgANCVQBRQKp4GEYgDcU8ApIAAAzxEACYBeCeRRcFJonAYSigHwwPE6v153AEBkIgASAE0JVAEVn2gOetgKxQB4uJxTQAAAniMAEgBNCVQBhcJpIKEYAAurm/163QEAkYkASAA0JVAFFAqngYRiACyvb/XrdQcARCYCIAHQlEAVUCicBhKKAbC2mVNAAACeIwASAE0JVAGFwmkgoRgAW9q7/HrdAQCRiQBIADQlkAUU7NNAQjEAWq02v193AEDkIQASAE0JZAEF+zSQUAuAyZwCAgDwEgGQAGhKIAso2KeBhFoA3H6k2u/XHAAQmQiABEBTAllAwToNZMnWfZq3LEGzF6+xB8DZi9do3rIEzVuWoCVb9wXldWUWnvD7NQcARCYCIAHQlEAW0JEgnQbyxMSp9uDXU3ti4tSgvK6DJZwCAgDwDgGQAGhKIAsoWKeBnLoD6KwF6w5gXkWj3685ACAyEQAJgKYEsoBC4TSQUGpFNZwCAgDwDgGQAGhKIAsoFE4DCaVW0cApIAAA7xAACYB68MEHdcEFF+ihhx7y+LGBLKBQOA0klFpdS4ffrzkAIDIRAAmASkpK0tq1a0M+AIbCaSCh1Fo7OAUEAOAdAiABUJKUnJwc8gFQCv5pIKHSNmeXy2bjFBAAgHcIgCEeAFNSUnT//fdryJAhMgxDq1atOqvP3LlzNXz4cA0cOFBxcXFKTU31+HnCJQAG+zSQUGkphyoDcr0BAJGJABjiAXD9+vWaPn26VqxY0WMAXLJkifr3768FCxYoOztbkydP1uDBg1VYWGjvExcXpxtuuOGsVlJSYu8TLgEw2KeBhErbmc8pIAAA7xEAQzwAdtdTABw9erTGjx/v8L1Ro0Zp2rRpHv1sdwNgW1ub6uvr7a24uDigBRSs00BCrVmKagNyvQEAkYkAGMYBsL29XTExMVq5cqVDv0mTJmnMmDEe/Wx3A2B8fHyPp2EEqoCCdRpIqLXs0uj9DxYAYB4BMIwDYElJiQzDUHp6ukO/mTNnasSIEW7/3LvvvluXXHKJBg0apKFDhyojI8Np32DfAQzWaSCh1vIrOQUEAOA9AmAEBMDt27c79JsxY4ZGjhwZkNcU6ALiNJCT7XhtS0CuNwAgMhEAwzgA+vIjYE/NmTNHsbGxGjFiREALiNNATraqxraAXG8AQGQiAIZxAJROLgKZMGGCw/diY2M9XgTirUAXEKeBnGwNrZwCAgDwHgEwxANgY2OjLBaLLBaLDMPQrFmzZLFY7Nu8nNoGZuHChcrOztaUKVM0ePBgFRQUBOT1BbqAOA3kZGvvtAbkegMAIhMBMMQDYHJyco+rbseNG2fvM3fuXA0bNkwDBgxQXFycUlJSAvb6glFA0X4ayJac8oBdawBAZCIAhngADFXBmgMocRrItsNVAbvWAIDIRAAkAJoSjAKK9tNAMo7VBOxaAwAiEwGQAGhKMAooqyS6TwPZV8wpIAAAcwiABEBTglFA0X4aSG5ZQ8CuNQAgMhEACYBeCeYcwGg/DeRYVVPArjUAIDIRAAmApgSjgKL9NJDSOk4BAQCYQwAkAJoSjAKK9tNAapraA3atAQCRiQBIADQlGAUU7aeBNLV1BuxaAwAiEwGQAOiVYM4BjPbTQDq7OAUEAGAOAZAAaEqwCijlUHSeBpKUWxHQ6wwAiEwEQAKgKcEqoGg9DSQ9j1NAAADmEQAJgKYEq4Ci9TSQPQWcAgIAMI8ASAA0pa6uToZhqLi4WPX19QFru3KLtXpXXtS1HTlFAb3ONBqNRovMVlxcLMMwVFdXF+woETQEQC+cWgRyzTXXyDAMGo1Go9FoYdiKi4uDHSmChgBogtVqVXFxserq6vz2/04CfXcx2C1a33c0v/dofd+89+h879H6vkPtvdfV1am4uFhWa/TuLEEADFH19dE5PyFa37cUve89Wt+3xHuPxvcere9biu73HooIgCEqWv9Didb3LUXve4/W963/3969hjT1/3EAP12madnIC15xQpmVpmSRBOEozIRMoycSWnvQzUwyECoIGkWWBdWj6EZFDyKFrOhGsUILnHZTayVd1SStRMuyclrt/Xvwx/P/n6Zu/X+bu3zfL/DJ95wdPh8+G3u77ZwD9i5i76L2DYjduztiAHRTor5QRO0bELd3UfsG2LuIvYvaNyB27+6IAdBNmc1m6PV6mM1mV5cyokTtGxC3d1H7Bti7iL2L2jcgdu/uiAGQiIiISDAMgERERESCYQAkIiIiEgwDIBEREZFgGACJiIiIBMMA6IYOHz6MmJgY+Pr6Ijk5GXfv3nV1SQ61Z88ezJkzBxMmTEBISAiys7Px/PlzxT5ardbqlj05OTkuqthx9Hq9VV+hoaHydovFAr1ej/DwcIwbNw5arRZPnz51YcWOo9FoBr0VU0FBAQDvmfmdO3eQmZmJ8PBwSJKEixcvKrbbM+NPnz4hLy8PEydOxMSJE5GXl4fPnz+PZBv/l+F67+/vx5YtW5CQkAB/f3+Eh4dj5cqVaGtrUxxjsOfJ1q1bR7qVv2Zr7jqdzqqvlJQUxT5msxmFhYUICgqCv78/li5d6va3KrPV91C3YNu/f7+8j6fO3NMxALqZsrIyqFQqnDhxAo2NjSgqKsL48ePx9u1bV5fmMIsXL8bp06fx9OlTNDQ0YMmSJYiOjsa3b9/kfbRaLdauXYv379/Lf95w0269Xo/4+HhFXx0dHfL20tJSBAQEoKKiAiaTCTk5OQgPD8fXr19dWLVjdHR0KPo2GAyQJAmVlZUAvGfm169fx/bt21FRUTHoG6I9M87IyEBCQgKMRiOMRiMSEhKQmZk50q38teF67+7uRlpaGsrLy/H8+XPU1NQgJSUFs2fPVhxDo9Fg165diudBT0/PSLfy12zNXafTISMjQ9FXV1eXYp/8/HxERkbCYDCgrq4OCxYsQFJSEn79+jWSrfwVW33/b7/v37/HqVOnMGrUKLx580bex1Nn7ukYAN3M3LlzkZ+fr1ibNm0atm3b5qKKnK+jowOSJOHOnTvymlarRVFRkQurcg69Xo+kpKRBt1ksFoSFhaG0tFReM5vNUKvVOHr06EiVOGKKioowefJkWCwWAN458z/fEO2ZcWNjIyRJQm1trbxPTU0NJEmy+qTcnQ0WBv50//59SJKk+AdXo9Hg0KFDzi7PqYYKgNnZ2UM+pru7GyqVCmVlZfJaW1sbRo8ejRs3bjitVkeyZ+bZ2dlYuHChYs0bZu6JGADdSF9fH8aMGYMLFy4o1jdt2oTU1FQXVeV8r169giRJMJlM8ppWq0VwcDCCgoIwY8YMFBcXe8WnYHq9Xv76KyYmBjk5OfJ/wm/evIEkSairq1M8JisrC6tWrXJFuU7T19eHoKAglJSUyGveOPM/3xDtmfHJkyehVqutjqVWq3Hq1CnnFuxA9oQBg8GAUaNGKe4ModFoEBYWhsDAQCQlJWH37t3o6+tzdrkONVQAVKvVCAkJQWxsLNasWYOPHz/K22/fvg1JkvDp0yfF4xITE7Fjx44RqfvfsjXzDx8+YOzYsTh79qxi3Rtm7okYAN1IW1sbJElCdXW1Yr2kpARTp051UVXOZbFYsHTpUsyfP1+xfvz4cRgMBphMJpw7dw4xMTFIS0tzUZWOc/36dZw/fx5PnjyBwWCAVqtFaGgoOjs7UV1dDUmSrH4TtXbtWqSnp7uoYucoLy/HmDFjFL1648z/fEO0Z8YlJSWIjY21OlZsbCz27Nnj3IIdyFYY6O3txezZs5Gbm6tYP3jwIKqqqvD48WOcOHECwcHBWL16tbPLdajBei8rK8PVq1dhMplw+fJlJCUlIT4+Xr4rxtmzZ+Hj42N1rEWLFmHdunUjUve/ZWvm+/btw6RJk9Db26tY94aZeyIGQDcyEACNRqNifffu3YiLi3NRVc5VUFAAjUZj84fODx8+hCRJePTo0QhVNjK+ffuG0NBQHDhwQA4H7e3tin3WrFmDxYsXu6hC50hPT7f5mzZvmPlQAXC4GQ/1D9+UKVOwd+9e5xbsQMOFgf7+fmRnZ2PWrFk27wt7/vx5SJKEzs5OZ5TpFPZ8+tne3g6VSoWKigoAQwfAtLQ0rF+/3il1OpqtvuPi4lBYWGjzOJ44c0/EAOhGRPsKuLCwEFFRUWhqarK5r8Visfp9jLdIS0tDfn6+MF8Bt7S0YPTo0bh06dKw+3nDzPkVsHUY6O/vx7Jly5CYmGjXG/y7d++sfhPp7uwJgMB/Qv3A70G9/Svgu3fvQpIkNDQ02DyOJ87cEzEAupm5c+diw4YNirXp06d71UkgFosFGzduREREBF6+fGnXY0wmk9WJIt7AbDYjMjISO3fulE8Q2Ldvn7y9r6/P604C0ev1CAsLw8+fP4fdzxtmPtRJIMPNeOAkkHv37sn71NbWesVJIAPhLz4+XnH2+3CuXLlidaKIu7MnAHZ2dsLX1xdnzpwB8N+TQMrLy+V92tvbveYkEJ1OZ3XG91A8ceaeiAHQzQxcBubkyZNobGzE5s2bMX78eLS0tLi6NIfZsGED1Go1qqqqFKf9//jxAwDw+vVr7Ny5Ew8ePEBzczOuXbuGadOmYdasWW59OQR7FBcXo6qqCk1NTaitrUVmZiYCAgLk+ZaWlkKtVuPChQswmUxYsWKF11wGBgB+//6N6Ohoq2t8edPMe3p6UF9fj/r6ekiShIMHD6K+vl5+M7NnxhkZGUhMTERNTQ1qamowc+ZMj7gMzHC9//z5E1lZWYiKikJDQ4PitT/wg3+j0Sg/pqmpCeXl5YiIiEBWVpaLO7NtuN57enpQXFwMo9GI5uZmVFZWYt68eYiMjFTMPT8/H1FRUbh16xbq6uqwcOFCt78MjK3nOwB8+fIF/v7+OHLkiNXjPXnmno4B0A0dPnwYGo0GPj4+SE5O9uhPQAYz1IVBT58+DQBobW1FamoqAgMD4ePjg8mTJ2PTpk1W18zyRAPXfFOpVIiIiMDy5cvx7NkzefvARYLDwsLg6+uL1NRUxdnRnu7mzZuQJAkvXrxQrHvTzCsrKwd9fut0OgD2zbirqwu5ubkICAhAQEAAcnNzPeJC0MP13tzcPORrf+BakI8ePUJKSgrUajXGjRuHuLg46PV6fP/+3bWN2WG43n/8+IH09HSEhIRApVIhOjoaOp0Ora2timP09vaisLAQgYGB8PPzQ2ZmptU+7sbW8x0Ajh07Bj8/v0Gv6+nJM/d0DIBEREREgmEAJCIiIhIMAyARERGRYBgAiYiIiATDAEhEREQkGAZAIiIiIsEwABIREREJhgGQiIiISDAMgERERESCYQAkIiIiEgwDIBEREZFgGACJiIiIBMMASERERCQYBkAiIiIiwTAAEhEREQmGAZCIiIhIMAyARERERIJhACQiIiISDAMgERERkWAYAImIiIgEwwBIREREJBgGQCIiIiLBMAASERERCYYBkIiIiEgwDIBEREREgmEAJCIiIhIMAyARERGRYBgAiYiIiATDAEhEREQkGAZAIiIiIsEwABIREREJhgGQiIiISDD/APLtK/JtqBsuAAAAAElFTkSuQmCC\" width=\"640\">"
      ],
      "text/plain": [
       "<IPython.core.display.HTML object>"
      ]
     },
     "metadata": {},
     "output_type": "display_data"
    },
    {
     "data": {
      "text/plain": [
       "<matplotlib.lines.Line2D at 0x7fb7dbf969e8>"
      ]
     },
     "execution_count": 23,
     "metadata": {},
     "output_type": "execute_result"
    }
   ],
   "source": [
    "A = mtang.std(axis=1, ddof=1)\n",
    "B = mtang.mean(axis=1)\n",
    "plt.errorbar(angle[angle!=165], B / unt.M_s, yerr=A / unt.M_s, color='k',\\\n",
    "             linestyle='--',capsize=3)\n",
    "plt.yscale('log')\n",
    "#plt.plot(anglesn, mtang / unt.M_s)\n",
    "plt.ylim(0.5e-1, 2e4)\n",
    "\n",
    "MAX = mtang.max(axis=1)\n",
    "MIN = mtang.min(axis=1)\n",
    "plt.fill_between(angle[angle!=165], MIN / unt.M_s, MAX / unt.M_s, alpha=0.3)\n",
    "plt.axhline(y=4, linestyle='--',color='r')\n",
    "#plt.xlim(r'$\\gamma$')\n",
    "#plt.ylim(r'M$_s$')"
   ]
  },
  {
   "cell_type": "code",
   "execution_count": 10,
   "metadata": {
    "ExecuteTime": {
     "end_time": "2018-10-05T10:29:48.845249Z",
     "start_time": "2018-10-05T10:29:48.826214Z"
    }
   },
   "outputs": [
    {
     "data": {
      "text/html": [
       "<div>\n",
       "<style scoped>\n",
       "    .dataframe tbody tr th:only-of-type {\n",
       "        vertical-align: middle;\n",
       "    }\n",
       "\n",
       "    .dataframe tbody tr th {\n",
       "        vertical-align: top;\n",
       "    }\n",
       "\n",
       "    .dataframe thead th {\n",
       "        text-align: right;\n",
       "    }\n",
       "</style>\n",
       "<table border=\"1\" class=\"dataframe\">\n",
       "  <thead>\n",
       "    <tr style=\"text-align: right;\">\n",
       "      <th></th>\n",
       "      <th>0</th>\n",
       "      <th>1</th>\n",
       "      <th>2</th>\n",
       "      <th>3</th>\n",
       "    </tr>\n",
       "  </thead>\n",
       "  <tbody>\n",
       "    <tr>\n",
       "      <th>0</th>\n",
       "      <td>1.117025e+33</td>\n",
       "      <td>4.103706e+33</td>\n",
       "      <td>2.870526e+33</td>\n",
       "      <td>5.384224e+33</td>\n",
       "    </tr>\n",
       "    <tr>\n",
       "      <th>15</th>\n",
       "      <td>2.220646e+27</td>\n",
       "      <td>3.507802e+33</td>\n",
       "      <td>1.358091e+33</td>\n",
       "      <td>2.156078e+33</td>\n",
       "    </tr>\n",
       "    <tr>\n",
       "      <th>30</th>\n",
       "      <td>7.987852e+32</td>\n",
       "      <td>5.355981e+33</td>\n",
       "      <td>5.309040e+33</td>\n",
       "      <td>7.769035e+33</td>\n",
       "    </tr>\n",
       "    <tr>\n",
       "      <th>45</th>\n",
       "      <td>2.280192e+33</td>\n",
       "      <td>2.247411e+34</td>\n",
       "      <td>1.078754e+34</td>\n",
       "      <td>8.334707e+33</td>\n",
       "    </tr>\n",
       "    <tr>\n",
       "      <th>60</th>\n",
       "      <td>8.860598e+33</td>\n",
       "      <td>9.792246e+33</td>\n",
       "      <td>1.954511e+34</td>\n",
       "      <td>9.972449e+33</td>\n",
       "    </tr>\n",
       "    <tr>\n",
       "      <th>75</th>\n",
       "      <td>3.046671e+34</td>\n",
       "      <td>5.958845e+34</td>\n",
       "      <td>3.416147e+34</td>\n",
       "      <td>2.663709e+34</td>\n",
       "    </tr>\n",
       "    <tr>\n",
       "      <th>90</th>\n",
       "      <td>3.377246e+35</td>\n",
       "      <td>8.654457e+34</td>\n",
       "      <td>1.370994e+35</td>\n",
       "      <td>6.592143e+34</td>\n",
       "    </tr>\n",
       "    <tr>\n",
       "      <th>105</th>\n",
       "      <td>4.133727e+35</td>\n",
       "      <td>4.874466e+35</td>\n",
       "      <td>3.647428e+35</td>\n",
       "      <td>2.156092e+35</td>\n",
       "    </tr>\n",
       "    <tr>\n",
       "      <th>120</th>\n",
       "      <td>1.087150e+36</td>\n",
       "      <td>1.065461e+36</td>\n",
       "      <td>1.558993e+36</td>\n",
       "      <td>1.106081e+36</td>\n",
       "    </tr>\n",
       "    <tr>\n",
       "      <th>135</th>\n",
       "      <td>1.459556e+36</td>\n",
       "      <td>1.398241e+36</td>\n",
       "      <td>1.401003e+36</td>\n",
       "      <td>9.051502e+35</td>\n",
       "    </tr>\n",
       "    <tr>\n",
       "      <th>150</th>\n",
       "      <td>1.594373e+36</td>\n",
       "      <td>2.368896e+36</td>\n",
       "      <td>1.283713e+36</td>\n",
       "      <td>1.752264e+36</td>\n",
       "    </tr>\n",
       "    <tr>\n",
       "      <th>180</th>\n",
       "      <td>2.122169e+37</td>\n",
       "      <td>1.149246e+37</td>\n",
       "      <td>1.246808e+37</td>\n",
       "      <td>1.533128e+37</td>\n",
       "    </tr>\n",
       "  </tbody>\n",
       "</table>\n",
       "</div>"
      ],
      "text/plain": [
       "                0             1             2             3\n",
       "0    1.117025e+33  4.103706e+33  2.870526e+33  5.384224e+33\n",
       "15   2.220646e+27  3.507802e+33  1.358091e+33  2.156078e+33\n",
       "30   7.987852e+32  5.355981e+33  5.309040e+33  7.769035e+33\n",
       "45   2.280192e+33  2.247411e+34  1.078754e+34  8.334707e+33\n",
       "60   8.860598e+33  9.792246e+33  1.954511e+34  9.972449e+33\n",
       "75   3.046671e+34  5.958845e+34  3.416147e+34  2.663709e+34\n",
       "90   3.377246e+35  8.654457e+34  1.370994e+35  6.592143e+34\n",
       "105  4.133727e+35  4.874466e+35  3.647428e+35  2.156092e+35\n",
       "120  1.087150e+36  1.065461e+36  1.558993e+36  1.106081e+36\n",
       "135  1.459556e+36  1.398241e+36  1.401003e+36  9.051502e+35\n",
       "150  1.594373e+36  2.368896e+36  1.283713e+36  1.752264e+36\n",
       "180  2.122169e+37  1.149246e+37  1.246808e+37  1.533128e+37"
      ]
     },
     "execution_count": 10,
     "metadata": {},
     "output_type": "execute_result"
    }
   ],
   "source": [
    "data = pd.DataFrame(mtang, index=angle[angle!=165])\n",
    "data"
   ]
  },
  {
   "cell_type": "code",
   "execution_count": 27,
   "metadata": {
    "ExecuteTime": {
     "end_time": "2018-10-05T12:03:39.890188Z",
     "start_time": "2018-10-05T12:03:39.737721Z"
    }
   },
   "outputs": [
    {
     "data": {
      "text/plain": [
       "<matplotlib.collections.PathCollection at 0x7f1fdfb2aef0>"
      ]
     },
     "execution_count": 27,
     "metadata": {},
     "output_type": "execute_result"
    },
    {
     "data": {
      "image/png": "[encoded data removed]",
      "text/plain": [
       "<Figure size 432x288 with 1 Axes>"
      ]
     },
     "metadata": {
      "needs_background": "light"
     },
     "output_type": "display_data"
    }
   ],
   "source": [
    "plt.scatter((np.ones(4)[:,np.newaxis]*angle[angle!=165]).T, np.log(mtang))\n"
   ]
  },
  {
   "cell_type": "code",
   "execution_count": 161,
   "metadata": {
    "ExecuteTime": {
     "end_time": "2018-10-05T12:43:30.935487Z",
     "start_time": "2018-10-05T12:43:30.927428Z"
    }
   },
   "outputs": [
    {
     "data": {
      "text/plain": [
       "array([[  0.,   0.,   0.,   0.],\n",
       "       [ 15.,  15.,  15.,  15.],\n",
       "       [ 30.,  30.,  30.,  30.],\n",
       "       [ 45.,  45.,  45.,  45.],\n",
       "       [ 60.,  60.,  60.,  60.],\n",
       "       [ 75.,  75.,  75.,  75.],\n",
       "       [ 90.,  90.,  90.,  90.],\n",
       "       [105., 105., 105., 105.],\n",
       "       [120., 120., 120., 120.],\n",
       "       [135., 135., 135., 135.],\n",
       "       [150., 150., 150., 150.],\n",
       "       [180., 180., 180., 180.]])"
      ]
     },
     "execution_count": 161,
     "metadata": {},
     "output_type": "execute_result"
    }
   ],
   "source": [
    "y_new =  mt.copy()\n",
    "y_new\n",
    "x_new = angle[angle!=165]\n",
    "p = (x_new*np.ones(4)[:,np.newaxis]).T\n",
    "p"
   ]
  },
  {
   "cell_type": "code",
   "execution_count": 162,
   "metadata": {
    "ExecuteTime": {
     "end_time": "2018-10-05T12:43:31.902176Z",
     "start_time": "2018-10-05T12:43:31.895096Z"
    }
   },
   "outputs": [
    {
     "name": "stdout",
     "output_type": "stream",
     "text": [
      "(48,)\n",
      "(48,)\n",
      "(48,)\n"
     ]
    }
   ],
   "source": [
    "x_new = p.reshape(len(y_new))\n",
    "y_new = np.log(y_new)\n",
    "\n",
    "print(x_new.shape)\n",
    "print(y_new.shape)\n",
    "paklaida = (mtang.std(axis=1)*np.ones(4)[:,np.newaxis]).T.reshape(np.size(mtang))\n",
    "print(paklaida.shape)\n",
    "#plt.scatter(x_new, np.log(y_new))\n",
    "x_new = x_new[8:]\n",
    "y_new = y_new[8:]\n",
    "paklaida = paklaida[8:]"
   ]
  },
  {
   "cell_type": "code",
   "execution_count": null,
   "metadata": {},
   "outputs": [],
   "source": []
  },
  {
   "cell_type": "code",
   "execution_count": null,
   "metadata": {},
   "outputs": [],
   "source": []
  },
  {
   "cell_type": "code",
   "execution_count": 164,
   "metadata": {
    "ExecuteTime": {
     "end_time": "2018-10-05T12:44:15.765413Z",
     "start_time": "2018-10-05T12:44:15.589839Z"
    }
   },
   "outputs": [
    {
     "name": "stdout",
     "output_type": "stream",
     "text": [
      "(40, 2)\n",
      "(40, 40)\n"
     ]
    },
    {
     "data": {
      "text/plain": [
       "<matplotlib.collections.PathCollection at 0x7f1fdfcd93c8>"
      ]
     },
     "execution_count": 164,
     "metadata": {},
     "output_type": "execute_result"
    },
    {
     "data": {
      "image/png": "[encoded data removed]",
      "text/plain": [
       "<Figure size 432x288 with 1 Axes>"
      ]
     },
     "metadata": {
      "needs_background": "light"
     },
     "output_type": "display_data"
    }
   ],
   "source": [
    "A = np.vstack((np.ones_like(x_new), x_new)).T\n",
    "C = (paklaida * paklaida)*np.eye(len(paklaida), len(paklaida))\n",
    "print(A.shape)\n",
    "print(C.shape)\n",
    "\n",
    "cov = np.linalg.inv(np.dot(A.T, np.linalg.solve(C, A)))\n",
    "b_ls, m_ls = np.dot(cov, np.dot(A.T, np.linalg.solve(C, y_new)))\n",
    "\n",
    "\n",
    "xs = np.linspace(0,180,100)\n",
    "ys = m_ls*xs + b_ls\n",
    "plt.scatter(x_new, y_new)\n",
    "plt.scatter(xs, ys)"
   ]
  },
  {
   "cell_type": "code",
   "execution_count": 165,
   "metadata": {
    "ExecuteTime": {
     "end_time": "2018-10-05T12:44:50.993781Z",
     "start_time": "2018-10-05T12:44:50.986608Z"
    }
   },
   "outputs": [],
   "source": [
    "def lnlike(theta, x, y, yerr):\n",
    "    m, b, lnf = theta\n",
    "    model = m * x + b\n",
    "    inv_sigma2 = 1.0/(yerr**2 + model**2*np.exp(2*lnf))\n",
    "    return -0.5*(np.sum((y-model)**2*inv_sigma2 - np.log(inv_sigma2)))"
   ]
  },
  {
   "cell_type": "code",
   "execution_count": 170,
   "metadata": {
    "ExecuteTime": {
     "end_time": "2018-10-05T12:46:29.318038Z",
     "start_time": "2018-10-05T12:46:29.312031Z"
    }
   },
   "outputs": [],
   "source": [
    "import scipy.optimize as op\n",
    "f_true = 0.5\n",
    "nll = lambda *args: -lnlike(*args)\n",
    "result = op.minimize(nll, [m_ls, b_ls, np.log(f_true)], args=(x_new, y_new, paklaida))\n",
    "m_ml, b_ml, lnf_ml = result[\"x\"]"
   ]
  },
  {
   "cell_type": "code",
   "execution_count": 174,
   "metadata": {
    "ExecuteTime": {
     "end_time": "2018-10-05T12:47:25.390995Z",
     "start_time": "2018-10-05T12:47:25.227779Z"
    }
   },
   "outputs": [
    {
     "data": {
      "text/plain": [
       "<matplotlib.collections.PathCollection at 0x7f1fdce8fe80>"
      ]
     },
     "execution_count": 174,
     "metadata": {},
     "output_type": "execute_result"
    },
    {
     "data": {
      "image/png": "[encoded data removed]",
      "text/plain": [
       "<Figure size 432x288 with 1 Axes>"
      ]
     },
     "metadata": {
      "needs_background": "light"
     },
     "output_type": "display_data"
    }
   ],
   "source": [
    "xs = np.linspace(0,180,100)\n",
    "ys = m_ml*xs + b_ml\n",
    "plt.scatter(x_new, y_new)\n",
    "plt.scatter(xs, ys)"
   ]
  },
  {
   "cell_type": "code",
   "execution_count": 175,
   "metadata": {
    "ExecuteTime": {
     "end_time": "2018-10-05T12:47:28.406873Z",
     "start_time": "2018-10-05T12:47:28.396157Z"
    }
   },
   "outputs": [],
   "source": [
    "def lnprior(theta):\n",
    "    m, b, lnf = theta\n",
    "    if -5.0 < m < 0.5 and 0.0 < b < 10.0 and -10.0 < lnf < 1.0:\n",
    "        return 0.0\n",
    "    return -np.inf"
   ]
  },
  {
   "cell_type": "code",
   "execution_count": 176,
   "metadata": {
    "ExecuteTime": {
     "end_time": "2018-10-05T12:47:42.392543Z",
     "start_time": "2018-10-05T12:47:42.387864Z"
    }
   },
   "outputs": [],
   "source": [
    "def lnprob(theta, x, y, yerr):\n",
    "    lp = lnprior(theta)\n",
    "    if not np.isfinite(lp):\n",
    "        return -np.inf\n",
    "    return lp + lnlike(theta, x, y, yerr)"
   ]
  },
  {
   "cell_type": "code",
   "execution_count": 177,
   "metadata": {
    "ExecuteTime": {
     "end_time": "2018-10-05T12:47:51.524372Z",
     "start_time": "2018-10-05T12:47:51.516577Z"
    }
   },
   "outputs": [],
   "source": [
    "ndim, nwalkers = 3, 100\n",
    "pos = [result[\"x\"] + 1e-4*np.random.randn(ndim) for i in range(nwalkers)]"
   ]
  },
  {
   "cell_type": "code",
   "execution_count": 179,
   "metadata": {
    "ExecuteTime": {
     "end_time": "2018-10-05T12:48:15.039864Z",
     "start_time": "2018-10-05T12:48:15.035121Z"
    }
   },
   "outputs": [],
   "source": [
    "import emcee\n",
    "sampler = emcee.EnsembleSampler(nwalkers, ndim, lnprob, args=(x_new, y_new, paklaida))"
   ]
  },
  {
   "cell_type": "code",
   "execution_count": 181,
   "metadata": {
    "ExecuteTime": {
     "end_time": "2018-10-05T12:48:33.174010Z",
     "start_time": "2018-10-05T12:48:32.651211Z"
    }
   },
   "outputs": [
    {
     "name": "stderr",
     "output_type": "stream",
     "text": [
      "/home/s_matas/anaconda3/lib/python3.6/site-packages/emcee/ensemble.py:335: RuntimeWarning: invalid value encountered in subtract\n",
      "  lnpdiff = (self.dim - 1.) * np.log(zz) + newlnprob - lnprob0\n",
      "/home/s_matas/anaconda3/lib/python3.6/site-packages/emcee/ensemble.py:336: RuntimeWarning: invalid value encountered in greater\n",
      "  accept = (lnpdiff > np.log(self._random.rand(len(lnpdiff))))\n"
     ]
    },
    {
     "data": {
      "text/plain": [
       "(array([[ 4.18474860e-02,  7.60217850e+01, -6.93193132e-01],\n",
       "        [ 4.19570247e-02,  7.60218087e+01, -6.93206755e-01],\n",
       "        [ 4.18120897e-02,  7.60216892e+01, -6.93207272e-01],\n",
       "        [ 4.18300876e-02,  7.60219191e+01, -6.93092320e-01],\n",
       "        [ 4.19396792e-02,  7.60217657e+01, -6.93179387e-01],\n",
       "        [ 4.19253800e-02,  7.60217047e+01, -6.93018489e-01],\n",
       "        [ 4.18971415e-02,  7.60217916e+01, -6.93172120e-01],\n",
       "        [ 4.19292058e-02,  7.60216309e+01, -6.92995322e-01],\n",
       "        [ 4.18444622e-02,  7.60217894e+01, -6.93051023e-01],\n",
       "        [ 4.19001193e-02,  7.60216375e+01, -6.93058508e-01],\n",
       "        [ 4.18781405e-02,  7.60216457e+01, -6.93120748e-01],\n",
       "        [ 4.19047381e-02,  7.60216873e+01, -6.93085159e-01],\n",
       "        [ 4.19222340e-02,  7.60215344e+01, -6.93142239e-01],\n",
       "        [ 4.20332648e-02,  7.60217006e+01, -6.93204702e-01],\n",
       "        [ 4.20138826e-02,  7.60215748e+01, -6.93058916e-01],\n",
       "        [ 4.17687323e-02,  7.60217106e+01, -6.92993620e-01],\n",
       "        [ 4.19488547e-02,  7.60217445e+01, -6.93288584e-01],\n",
       "        [ 4.19270873e-02,  7.60217976e+01, -6.93077430e-01],\n",
       "        [ 4.20883179e-02,  7.60219405e+01, -6.93198475e-01],\n",
       "        [ 4.18955652e-02,  7.60216738e+01, -6.93203219e-01],\n",
       "        [ 4.19628036e-02,  7.60217621e+01, -6.93072426e-01],\n",
       "        [ 4.20190603e-02,  7.60218600e+01, -6.93151477e-01],\n",
       "        [ 4.19075829e-02,  7.60217691e+01, -6.92990900e-01],\n",
       "        [ 4.17481923e-02,  7.60217058e+01, -6.93151239e-01],\n",
       "        [ 4.19725272e-02,  7.60216520e+01, -6.92964634e-01],\n",
       "        [ 4.19890181e-02,  7.60217429e+01, -6.93205375e-01],\n",
       "        [ 4.18692511e-02,  7.60218288e+01, -6.93031373e-01],\n",
       "        [ 4.20760708e-02,  7.60216026e+01, -6.93073343e-01],\n",
       "        [ 4.19399694e-02,  7.60217017e+01, -6.93112687e-01],\n",
       "        [ 4.18852977e-02,  7.60216452e+01, -6.93148532e-01],\n",
       "        [ 4.18735337e-02,  7.60217902e+01, -6.93180957e-01],\n",
       "        [ 4.18201454e-02,  7.60216362e+01, -6.93094317e-01],\n",
       "        [ 4.16502894e-02,  7.60217607e+01, -6.93120368e-01],\n",
       "        [ 4.21097319e-02,  7.60217389e+01, -6.93313775e-01],\n",
       "        [ 4.18539435e-02,  7.60218376e+01, -6.93174524e-01],\n",
       "        [ 4.19614455e-02,  7.60218610e+01, -6.93111139e-01],\n",
       "        [ 4.19338053e-02,  7.60217017e+01, -6.93183002e-01],\n",
       "        [ 4.19735349e-02,  7.60217712e+01, -6.93030996e-01],\n",
       "        [ 4.18213454e-02,  7.60216674e+01, -6.93144661e-01],\n",
       "        [ 4.19625644e-02,  7.60216399e+01, -6.93245297e-01],\n",
       "        [ 4.20090247e-02,  7.60217617e+01, -6.93037633e-01],\n",
       "        [ 4.17674124e-02,  7.60214781e+01, -6.93252700e-01],\n",
       "        [ 4.20868908e-02,  7.60217045e+01, -6.93233102e-01],\n",
       "        [ 4.18193975e-02,  7.60216989e+01, -6.93020092e-01],\n",
       "        [ 4.19846153e-02,  7.60217569e+01, -6.93063157e-01],\n",
       "        [ 4.18776902e-02,  7.60218732e+01, -6.93030878e-01],\n",
       "        [ 4.21863469e-02,  7.60217506e+01, -6.93259526e-01],\n",
       "        [ 4.20744174e-02,  7.60218244e+01, -6.93132122e-01],\n",
       "        [ 4.20338639e-02,  7.60217408e+01, -6.93275125e-01],\n",
       "        [ 4.18177497e-02,  7.60219012e+01, -6.93122634e-01],\n",
       "        [ 4.20932564e-02,  7.60218299e+01, -6.93088182e-01],\n",
       "        [ 4.17674725e-02,  7.60217010e+01, -6.92985837e-01],\n",
       "        [ 4.18778771e-02,  7.60217332e+01, -6.93111352e-01],\n",
       "        [ 4.18097198e-02,  7.60216645e+01, -6.93106935e-01],\n",
       "        [ 4.19120194e-02,  7.60218679e+01, -6.93312927e-01],\n",
       "        [ 4.21322944e-02,  7.60216908e+01, -6.93014956e-01],\n",
       "        [ 4.20377240e-02,  7.60218797e+01, -6.93155608e-01],\n",
       "        [ 4.20599673e-02,  7.60217021e+01, -6.93187512e-01],\n",
       "        [ 4.19685469e-02,  7.60216977e+01, -6.93105308e-01],\n",
       "        [ 4.17563918e-02,  7.60217851e+01, -6.93087913e-01],\n",
       "        [ 4.18521973e-02,  7.60216962e+01, -6.93141064e-01],\n",
       "        [ 4.17726883e-02,  7.60215571e+01, -6.93068443e-01],\n",
       "        [ 4.18351798e-02,  7.60218631e+01, -6.93187076e-01],\n",
       "        [ 4.18395053e-02,  7.60219225e+01, -6.92953091e-01],\n",
       "        [ 4.17952528e-02,  7.60215057e+01, -6.93070771e-01],\n",
       "        [ 4.18996889e-02,  7.60218052e+01, -6.93171062e-01],\n",
       "        [ 4.19456850e-02,  7.60216753e+01, -6.93219423e-01],\n",
       "        [ 4.18567202e-02,  7.60217966e+01, -6.93066101e-01],\n",
       "        [ 4.18131415e-02,  7.60217462e+01, -6.93104218e-01],\n",
       "        [ 4.17627830e-02,  7.60218381e+01, -6.93161096e-01],\n",
       "        [ 4.18663004e-02,  7.60218011e+01, -6.93118505e-01],\n",
       "        [ 4.19275476e-02,  7.60217164e+01, -6.93338757e-01],\n",
       "        [ 4.18732873e-02,  7.60218014e+01, -6.93179176e-01],\n",
       "        [ 4.20178797e-02,  7.60217963e+01, -6.93245085e-01],\n",
       "        [ 4.17344808e-02,  7.60217469e+01, -6.93184563e-01],\n",
       "        [ 4.16500954e-02,  7.60219765e+01, -6.93281589e-01],\n",
       "        [ 4.20121898e-02,  7.60216954e+01, -6.93038791e-01],\n",
       "        [ 4.18793871e-02,  7.60219579e+01, -6.93168844e-01],\n",
       "        [ 4.18910278e-02,  7.60218963e+01, -6.93255591e-01],\n",
       "        [ 4.17425692e-02,  7.60217101e+01, -6.93272440e-01],\n",
       "        [ 4.20149817e-02,  7.60218369e+01, -6.93021479e-01],\n",
       "        [ 4.18682688e-02,  7.60217709e+01, -6.93092227e-01],\n",
       "        [ 4.18840513e-02,  7.60218944e+01, -6.93189390e-01],\n",
       "        [ 4.18146203e-02,  7.60216804e+01, -6.93054435e-01],\n",
       "        [ 4.20080017e-02,  7.60217354e+01, -6.93212244e-01],\n",
       "        [ 4.17374939e-02,  7.60217011e+01, -6.93041971e-01],\n",
       "        [ 4.19279684e-02,  7.60217434e+01, -6.93247625e-01],\n",
       "        [ 4.18758366e-02,  7.60218345e+01, -6.93074141e-01],\n",
       "        [ 4.20330382e-02,  7.60218310e+01, -6.93054716e-01],\n",
       "        [ 4.18912107e-02,  7.60218204e+01, -6.93143473e-01],\n",
       "        [ 4.21242590e-02,  7.60216736e+01, -6.93304003e-01],\n",
       "        [ 4.17370380e-02,  7.60216940e+01, -6.93096664e-01],\n",
       "        [ 4.19876022e-02,  7.60216795e+01, -6.93129793e-01],\n",
       "        [ 4.18517971e-02,  7.60217596e+01, -6.93229523e-01],\n",
       "        [ 4.20623450e-02,  7.60216442e+01, -6.93050806e-01],\n",
       "        [ 4.18313217e-02,  7.60218752e+01, -6.93157945e-01],\n",
       "        [ 4.19680285e-02,  7.60215719e+01, -6.93221535e-01],\n",
       "        [ 4.18892258e-02,  7.60219007e+01, -6.92963974e-01],\n",
       "        [ 4.20169607e-02,  7.60216067e+01, -6.93182405e-01],\n",
       "        [ 4.19710038e-02,  7.60218154e+01, -6.93134184e-01]]),\n",
       " array([-inf, -inf, -inf, -inf, -inf, -inf, -inf, -inf, -inf, -inf, -inf,\n",
       "        -inf, -inf, -inf, -inf, -inf, -inf, -inf, -inf, -inf, -inf, -inf,\n",
       "        -inf, -inf, -inf, -inf, -inf, -inf, -inf, -inf, -inf, -inf, -inf,\n",
       "        -inf, -inf, -inf, -inf, -inf, -inf, -inf, -inf, -inf, -inf, -inf,\n",
       "        -inf, -inf, -inf, -inf, -inf, -inf, -inf, -inf, -inf, -inf, -inf,\n",
       "        -inf, -inf, -inf, -inf, -inf, -inf, -inf, -inf, -inf, -inf, -inf,\n",
       "        -inf, -inf, -inf, -inf, -inf, -inf, -inf, -inf, -inf, -inf, -inf,\n",
       "        -inf, -inf, -inf, -inf, -inf, -inf, -inf, -inf, -inf, -inf, -inf,\n",
       "        -inf, -inf, -inf, -inf, -inf, -inf, -inf, -inf, -inf, -inf, -inf,\n",
       "        -inf]),\n",
       " ('MT19937', array([3282274414, 3053187782,   91398900, 1682467410, 2155802372,\n",
       "          682053912, 1326980956, 3403250972, 4189988420, 1033905633,\n",
       "         1515908347, 3546004618, 3120550189, 1336713054, 3314105886,\n",
       "         2770733695, 3874568992, 2064034657,  231494876, 1684994864,\n",
       "          643093293,  691411115, 3269268891, 2242387257,  448389018,\n",
       "         1332036289,  454462590, 2855986602,  602968479, 1234412929,\n",
       "         2340866607, 2861949700,  167128321, 2638036072,  204790748,\n",
       "         2028454342,  832375647, 2837637017,  999136161, 1063850267,\n",
       "         1163347869, 4128937604, 3397123093, 2888777463, 2971205244,\n",
       "          651145453,  395109941, 1122493107, 4087071852, 1745182342,\n",
       "         2609814056, 3881702463,   33824679, 2399018758, 2387464558,\n",
       "         3895711529, 2481542107, 1036206950, 1915469172, 3559812708,\n",
       "         2424777522,  312241423, 3100046530, 3874844284,  630120579,\n",
       "         3635045744, 2934387083, 1871143261, 2773595340, 3490956762,\n",
       "         3589859956, 3551656183, 1038453830, 1022465226, 1804118186,\n",
       "         3749373637,  545389743, 3184310111,  421385966, 3872726580,\n",
       "         2935162028, 1588995867, 1146745912, 2435180342, 3580918171,\n",
       "         3779827223, 2586841043, 3355817181, 1994745591, 2828892094,\n",
       "         2865026620, 1001868781, 1770177046, 4153297080, 2237399726,\n",
       "         2003592957, 1607212162, 2630535194,  362340196, 2319923958,\n",
       "         4011352756, 2222889787,  586272429, 1765668362, 3720328735,\n",
       "         4017879883,    9885150,  750365533, 1679244110, 1750261822,\n",
       "         2645845246, 3451734956,  729318762,  713895726, 2639537952,\n",
       "         2608747787, 2477736483,  148026735, 1654642924, 3032782144,\n",
       "          268090651, 2448590700, 1694089215, 3467454615, 4181579375,\n",
       "         3282211301, 1273267955, 2746279472, 2170886877, 1047887941,\n",
       "          190742614, 3793212954, 2434971110, 3651062951, 2581868105,\n",
       "         1120647190,  375682410, 4233362458, 3902880101, 3315708878,\n",
       "         1512217409, 2661041290,  886663743, 3955806679, 3648706101,\n",
       "          529067268,  949999042, 2571091148,  821560715, 1437880977,\n",
       "         3970321048, 2506406267,  276046700,  396370680, 1670777903,\n",
       "         1511111406, 2673286090, 2915897181, 1526139824, 1367161570,\n",
       "         1536245532, 2122785921, 2876724623,  389857772,  473838160,\n",
       "         3161462361,  448021435, 1556745384, 1744209394, 1669445140,\n",
       "         2173961049, 1477516669, 3195506585, 3281973052, 2394637133,\n",
       "         3275382015, 2271372057,  799857141, 2342665459,  976429307,\n",
       "         1191542737,  253535566, 1220964965, 3367111872, 2349421972,\n",
       "         3639411833, 1102873243, 3663605443, 2242856323, 2926744058,\n",
       "         3887640860, 4220894750, 1097932694, 1602209715, 1896975923,\n",
       "         3393755109, 1581868547, 4262024893, 3992417677, 4138379624,\n",
       "          387944214, 2480898524,  952494417, 2743305020,   51887586,\n",
       "         1028287659, 1253847742,  720054593,  487089817,  306607855,\n",
       "         2444631234, 3891874643, 1993156286, 4007723134, 3569641447,\n",
       "         3820962650,  238913383,  594471310, 3711726325, 3561353854,\n",
       "         1127129662, 1795382085, 3868193430,   39204660, 2720434543,\n",
       "         2465563139, 2852831510,  656714020, 3801451579,  397753771,\n",
       "         3111926772, 2201415538, 1268148100, 3103246631, 1612522670,\n",
       "         3234275420, 3976843818, 1542110978, 4036203372, 1045522870,\n",
       "         2554494967, 1914731243, 1888706458, 2450185139, 1968030608,\n",
       "         1525825342,    2037691, 1314115326, 4269288464, 1208903257,\n",
       "           79346704, 1249598724, 4211568434, 3641557882, 1898589565,\n",
       "         3898578823,  248758700, 3508743941,  561348157, 3195161222,\n",
       "         1112511170, 2471713263, 3931224509, 3943845335,  439439938,\n",
       "         3465034697, 2304862934,  777087152, 1650686986, 2375658134,\n",
       "         3480057301,  952915056, 1635060038, 1077049403, 1763419999,\n",
       "         2787440867, 2021931547, 2189217695, 2418709343, 3647468809,\n",
       "         2914945009, 1234612095, 3035035180, 2562273119, 1674998464,\n",
       "         2231048157, 3285825641, 2993246484, 2736603532, 1375206249,\n",
       "         2101459411, 1083014945,  350292125,  118227154, 2603563286,\n",
       "          177738606, 2052486277, 2376660372, 4163197198, 3351684102,\n",
       "         2099799244, 2846733244, 1508546515, 2719789022, 3436946487,\n",
       "          156218596,  751714547, 3970604379, 1169766045, 1249671489,\n",
       "         1387613524, 1648883796,  317832958, 1887416292,  277544768,\n",
       "         3126398502,  856071768, 2824316982, 3127189293,  496625046,\n",
       "         1256918974, 3228479439, 2537003268, 2608033797, 1554472379,\n",
       "         2937448182, 4105826993, 3794433690, 4244383875, 3512082784,\n",
       "         3831203402, 1510272729, 1309713368, 1660390978, 3307063963,\n",
       "         1570514315, 2615869851, 3184388951,  243793901,  798210004,\n",
       "         2925096912, 1535414162, 2347793819, 3165984098, 2312391890,\n",
       "         3381244577, 2576846233, 2549153185,  922453847, 3903066120,\n",
       "          840895612,  423860395,  386623016, 3911306950, 2640842835,\n",
       "         1922466097, 3282274774, 1803527893, 2177461612, 4030985118,\n",
       "          609537542, 4217493587, 2600713144, 4240618711, 3783559941,\n",
       "         3923623713,  596386455, 2807537815,  224052967,  956400575,\n",
       "         3177071201, 2570514449,  575630045, 2300921572, 3107801611,\n",
       "         2338555671, 1051316649, 1501953956, 3858498052,  728641620,\n",
       "          989118828, 1051699766, 1157994631, 3654871116, 1030160773,\n",
       "         2279622946, 2015529268, 3517171509,  888145448, 1387573918,\n",
       "          573147909, 3031589062, 2416479347,  293664109,  101081943,\n",
       "         1558517633,  336232018, 3570203133, 3611984776, 3380178633,\n",
       "         2216301139, 1705271418, 1221173356, 1373105040, 4067669240,\n",
       "         3330296569, 3208294453, 1288848392,  271174558, 3177499807,\n",
       "          204563790,  490324608, 3408704974, 3621097931, 3946298635,\n",
       "         3188700991, 3159575936, 3704678558, 1954548620,  781321862,\n",
       "          320936418,  518717508, 2992819499, 1780499174,  641945890,\n",
       "         3515103146,  354296891,  166688351, 3904053331, 2377824482,\n",
       "         3132510264, 3993995158, 2927024371, 1217076981, 3027819634,\n",
       "          290385213, 3342845995, 1358790379, 2415521945, 2619748630,\n",
       "         4272006089,  721378628, 3259706476,  406065742, 1857485888,\n",
       "          882096808, 2741835303,  745699043,  292060103,  367319207,\n",
       "          695502671, 2657886123, 1590803495, 3001586700, 3452011616,\n",
       "         1648772236, 1574158846,  439467289, 1191393950, 1112969171,\n",
       "         3883245811, 3817440886, 3287947022,  117293677, 2666888538,\n",
       "         3150042115,  257871747,  473082064,  725969105, 3466977162,\n",
       "         2276658328, 1977055819, 1546481057,  924478127,  687015366,\n",
       "         3152582896, 2506057552, 2833516409,  317674895, 1788718339,\n",
       "         3730366169, 1453328715, 4021628662,  539758825, 3694976540,\n",
       "         1358490913, 1109490846, 1140470513, 3215609491,  409818358,\n",
       "         3903387817, 3840155996, 4002635685, 3888843562,  758220228,\n",
       "         2887613995, 3903245165, 3276625739, 4248049508,   83113868,\n",
       "          536221578, 3452160886, 1545564970, 2712666242, 3837274396,\n",
       "         1315421130,  413801633, 4191967602, 2223453821, 2891229492,\n",
       "         3749505907, 1924063385, 1481743515,  186803952, 3589425599,\n",
       "         1639263618, 1576088181,  713433306, 1737105063, 2624428024,\n",
       "         1979877296, 2525744877,  494283461,  277769360, 1947895506,\n",
       "         2947789088,  419219454, 3177442850, 1619269685,  307889712,\n",
       "         1779724480, 2713833772, 1819604136, 1580299140,  452501254,\n",
       "         1860725256,  970177051,  817627950, 1082030836, 3112600275,\n",
       "         4013214559, 3279239147, 2136094439, 2152452280, 2403505141,\n",
       "          818011899, 1793375125, 1380638980, 4232306659, 2787738630,\n",
       "         1758257543, 3954696787,  994937338,  483683886, 3766835147,\n",
       "         2600290294, 3707260513, 1838760124,  479159990, 4138353942,\n",
       "         3716487785, 4053582324, 1041142538, 4103665788, 1879649564,\n",
       "         4020003400, 1114613870, 3796520193,  811520103, 2722631213,\n",
       "          738698912, 2094823376, 3998940837, 1464453863, 1863286588,\n",
       "         3852679367, 1590051729, 2872458460, 1958654529, 1836707933,\n",
       "         1140963279, 2323076551, 3725420215,  955035281, 4231643726,\n",
       "         2056948226, 2063696446, 3553833015,  533435803,  674655888,\n",
       "         2014759063, 3709624562, 1557084136, 3218966796,  540067771,\n",
       "         3465788134, 2866311318, 1120649088,   25352592, 1057642559,\n",
       "         1839278230, 3678186096, 1721628242, 4262980258, 1812189245,\n",
       "         1826215897, 3582333920, 2201095363,  388763959,  707407986,\n",
       "         2704101092, 2604803731,  234539279, 2366338466, 4200685711,\n",
       "         1139021224, 4124514539, 3426743752,  312246863, 1409289759,\n",
       "         3511021551, 1244582016, 3597907518, 1977334373], dtype=uint32), 470, 0, 0.0))"
      ]
     },
     "execution_count": 181,
     "metadata": {},
     "output_type": "execute_result"
    }
   ],
   "source": [
    "sampler.run_mcmc(pos, 500)"
   ]
  },
  {
   "cell_type": "code",
   "execution_count": 185,
   "metadata": {
    "ExecuteTime": {
     "end_time": "2018-10-05T12:49:16.756427Z",
     "start_time": "2018-10-05T12:49:15.465025Z"
    }
   },
   "outputs": [
    {
     "name": "stderr",
     "output_type": "stream",
     "text": [
      "WARNING:root:Too few points to create valid contours\n",
      "WARNING:root:Too few points to create valid contours\n",
      "WARNING:root:Too few points to create valid contours\n"
     ]
    },
    {
     "data": {
      "image/png": "[encoded data removed]",
      "text/plain": [
       "<Figure size 547.2x547.2 with 9 Axes>"
      ]
     },
     "metadata": {
      "needs_background": "light"
     },
     "output_type": "display_data"
    }
   ],
   "source": [
    "samples = sampler.chain[:, 50:, :].reshape((-1, ndim))\n",
    "import corner\n",
    "fig = corner.corner(samples, labels=[\"$m$\", \"$b$\", \"$\\ln\\,f$\"],\n",
    "                      truths=[m_ls, b_ls, np.log(f_true)])\n",
    "fig.savefig(\"triangle.png\")"
   ]
  },
  {
   "cell_type": "code",
   "execution_count": 192,
   "metadata": {
    "ExecuteTime": {
     "end_time": "2018-10-05T12:52:41.319867Z",
     "start_time": "2018-10-05T12:52:40.951580Z"
    }
   },
   "outputs": [
    {
     "data": {
      "text/plain": [
       "<ErrorbarContainer object of 3 artists>"
      ]
     },
     "execution_count": 192,
     "metadata": {},
     "output_type": "execute_result"
    },
    {
     "data": {
      "image/png": "[encoded data removed]",
      "text/plain": [
       "<Figure size 432x288 with 1 Axes>"
      ]
     },
     "metadata": {
      "needs_background": "light"
     },
     "output_type": "display_data"
    }
   ],
   "source": [
    "import matplotlib.pyplot as pl\n",
    "xl = np.array([0, 10])\n",
    "\n",
    "for m, b, lnf in samples[np.random.randint(len(samples), size=100)]:\n",
    "    pl.plot(xl, m*xl+b, color=\"k\", alpha=0.1)\n",
    "    \n",
    "pl.plot(xl, m_ls*xl+b_ls, color=\"r\", lw=2, alpha=0.8)\n",
    "\n",
    "pl.errorbar(x_new, y_new, yerr=paklaida, fmt=\".k\")"
   ]
  },
  {
   "cell_type": "code",
   "execution_count": 191,
   "metadata": {
    "ExecuteTime": {
     "end_time": "2018-10-05T12:52:11.196764Z",
     "start_time": "2018-10-05T12:52:11.168971Z"
    }
   },
   "outputs": [
    {
     "name": "stdout",
     "output_type": "stream",
     "text": [
      "(0.04189990411855393, 0.00011816450102985349, 8.693090833650219e-05)\n",
      "(76.02174535950604, 9.619859983445167e-05, 8.288984436433111e-05)\n",
      "(1.6487328348384018, 7.559254831379647e-05, 7.390893759318118e-05)\n"
     ]
    }
   ],
   "source": [
    "samples[:, 2] = np.exp(samples[:, 2])\n",
    "m_mcmc, b_mcmc, f_mcmc = map(lambda v: (v[1], v[2]-v[1], v[1]-v[0]),\n",
    "                             zip(*np.percentile(samples, [16, 50, 84],\n",
    "                                                axis=0)))\n",
    "print(m_mcmc)\n",
    "print(b_mcmc)\n",
    "print(f_mcmc)"
   ]
  },
  {
   "cell_type": "code",
   "execution_count": 193,
   "metadata": {
    "ExecuteTime": {
     "end_time": "2018-10-05T12:53:28.128172Z",
     "start_time": "2018-10-05T12:53:27.986910Z"
    }
   },
   "outputs": [
    {
     "data": {
      "text/plain": [
       "<matplotlib.collections.PathCollection at 0x7f1fd79334e0>"
      ]
     },
     "execution_count": 193,
     "metadata": {},
     "output_type": "execute_result"
    },
    {
     "data": {
      "image/png": "[encoded data removed]",
      "text/plain": [
       "<Figure size 432x288 with 1 Axes>"
      ]
     },
     "metadata": {
      "needs_background": "light"
     },
     "output_type": "display_data"
    }
   ],
   "source": [
    "xs = np.linspace(0,180,100)\n",
    "ys = m_mcmc[0]*xs + b_mcmc[0]\n",
    "plt.scatter(x_new, y_new)\n",
    "plt.scatter(xs, ys)"
   ]
  }
 ],
 "metadata": {
  "hide_input": false,
  "kernelspec": {
   "display_name": "Python 3",
   "language": "python",
   "name": "python3"
  },
  "language_info": {
   "codemirror_mode": {
    "name": "ipython",
    "version": 3
   },
   "file_extension": ".py",
   "mimetype": "text/x-python",
   "name": "python",
   "nbconvert_exporter": "python",
   "pygments_lexer": "ipython3",
   "version": "3.6.6"
  },
  "latex_envs": {
   "LaTeX_envs_menu_present": true,
   "autoclose": false,
   "autocomplete": true,
   "bibliofile": "biblio.bib",
   "cite_by": "apalike",
   "current_citInitial": 1,
   "eqLabelWithNumbers": true,
   "eqNumInitial": 1,
   "hotkeys": {
    "equation": "Ctrl-E",
    "itemize": "Ctrl-I"
   },
   "labels_anchors": false,
   "latex_user_defs": false,
   "report_style_numbering": false,
   "user_envs_cfg": false
  },
  "toc": {
   "base_numbering": 1,
   "nav_menu": {},
   "number_sections": true,
   "sideBar": true,
   "skip_h1_title": false,
   "title_cell": "Table of Contents",
   "title_sidebar": "Contents",
   "toc_cell": false,
   "toc_position": {},
   "toc_section_display": true,
   "toc_window_display": false
  },
  "varInspector": {
   "cols": {
    "lenName": 16,
    "lenType": 16,
    "lenVar": 40
   },
   "kernels_config": {
    "python": {
     "delete_cmd_postfix": "",
     "delete_cmd_prefix": "del ",
     "library": "var_list.py",
     "varRefreshCmd": "print(var_dic_list())"
    },
    "r": {
     "delete_cmd_postfix": ") ",
     "delete_cmd_prefix": "rm(",
     "library": "var_list.r",
     "varRefreshCmd": "cat(var_dic_list()) "
    }
   },
   "types_to_exclude": [
    "module",
    "function",
    "builtin_function_or_method",
    "instance",
    "_Feature"
   ],
   "window_display": false
  }
 },
 "nbformat": 4,
 "nbformat_minor": 2
}
